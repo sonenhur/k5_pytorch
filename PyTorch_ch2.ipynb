{
  "nbformat": 4,
  "nbformat_minor": 5,
  "metadata": {
    "kernelspec": {
      "display_name": "Python 3",
      "name": "python3"
    },
    "language_info": {
      "name": "python"
    },
    "colab": {
      "provenance": [],
      "include_colab_link": true
    }
  },
  "cells": [
    {
      "cell_type": "markdown",
      "metadata": {
        "id": "view-in-github",
        "colab_type": "text"
      },
      "source": [
        "<a href=\"https://colab.research.google.com/github/sonenhur/k5_pytorch/blob/main/PyTorch_ch2.ipynb\" target=\"_parent\"><img src=\"https://colab.research.google.com/assets/colab-badge.svg\" alt=\"Open In Colab\"/></a>"
      ]
    },
    {
      "cell_type": "code",
      "metadata": {
        "id": "099ffddd"
      },
      "source": [
        "##2.2.1 텐서 다루기"
      ],
      "id": "099ffddd",
      "execution_count": null,
      "outputs": []
    },
    {
      "cell_type": "code",
      "source": [
        "list() #객체 생성\n",
        "max(1,2) #함수 호출\n",
        "\n",
        "d = max\n",
        "print(d,\"/\", type(d))\n",
        "print('------------------------')\n",
        "c = list()\n",
        "print(c,\"/\", type(c))"
      ],
      "metadata": {
        "colab": {
          "base_uri": "https://localhost:8080/"
        },
        "id": "pRd9aIRD0dFK",
        "outputId": "71f38a51-ded3-4a8c-af96-26e0bba74e01"
      },
      "id": "pRd9aIRD0dFK",
      "execution_count": null,
      "outputs": [
        {
          "output_type": "stream",
          "name": "stdout",
          "text": [
            "<built-in function max> / <class 'builtin_function_or_method'>\n",
            "------------------------\n",
            "[] / <class 'list'>\n"
          ]
        }
      ]
    },
    {
      "cell_type": "code",
      "source": [
        "from torch import tensor\n",
        "import numpy as np"
      ],
      "metadata": {
        "id": "AisnhmH81q3z"
      },
      "id": "AisnhmH81q3z",
      "execution_count": null,
      "outputs": []
    },
    {
      "cell_type": "code",
      "source": [
        "b = tensor(np.array([[1,2],[3,4]]))\n",
        "print(b, type(b), b.device, b.dtype)"
      ],
      "metadata": {
        "colab": {
          "base_uri": "https://localhost:8080/"
        },
        "id": "r9K-jkJg1QPp",
        "outputId": "8d7e93d6-d627-488c-d942-89792064828c"
      },
      "id": "r9K-jkJg1QPp",
      "execution_count": null,
      "outputs": [
        {
          "output_type": "stream",
          "name": "stdout",
          "text": [
            "tensor([[1, 2],\n",
            "        [3, 4]], dtype=torch.int32) <class 'torch.Tensor'> cpu torch.int32\n"
          ]
        }
      ]
    },
    {
      "cell_type": "code",
      "source": [
        "b+1"
      ],
      "metadata": {
        "colab": {
          "base_uri": "https://localhost:8080/"
        },
        "id": "ypftT2rC58BQ",
        "outputId": "f54bcfe2-c75d-417a-a209-492e93021ee9"
      },
      "id": "ypftT2rC58BQ",
      "execution_count": null,
      "outputs": [
        {
          "output_type": "execute_result",
          "data": {
            "text/plain": [
              "tensor([[2, 3],\n",
              "        [4, 5]], dtype=torch.int32)"
            ]
          },
          "metadata": {},
          "execution_count": 27
        }
      ]
    },
    {
      "cell_type": "code",
      "source": [
        "b.shape"
      ],
      "metadata": {
        "colab": {
          "base_uri": "https://localhost:8080/"
        },
        "id": "ioXn3n8o5-dQ",
        "outputId": "0b995148-9e8c-48ac-9419-e8fffa3b5879"
      },
      "id": "ioXn3n8o5-dQ",
      "execution_count": null,
      "outputs": [
        {
          "output_type": "execute_result",
          "data": {
            "text/plain": [
              "torch.Size([2, 2])"
            ]
          },
          "metadata": {},
          "execution_count": 28
        }
      ]
    },
    {
      "cell_type": "code",
      "source": [
        "b.view(4,-1)"
      ],
      "metadata": {
        "colab": {
          "base_uri": "https://localhost:8080/"
        },
        "id": "95D846896HW7",
        "outputId": "dec812a5-4b3c-4a8b-f294-b99f2cddd41d"
      },
      "id": "95D846896HW7",
      "execution_count": null,
      "outputs": [
        {
          "output_type": "execute_result",
          "data": {
            "text/plain": [
              "tensor([[1],\n",
              "        [2],\n",
              "        [3],\n",
              "        [4]], dtype=torch.int32)"
            ]
          },
          "metadata": {},
          "execution_count": 29
        }
      ]
    },
    {
      "cell_type": "code",
      "metadata": {
        "colab": {
          "base_uri": "https://localhost:8080/"
        },
        "id": "88712725",
        "outputId": "08f2c463-4300-4495-836a-f3ebedbe9c0b"
      },
      "source": [
        "import torch\n",
        "a = torch.tensor([[1,2],[3,4]])\n",
        "print(a)\n",
        "print(a, type(a), a.device, a.dtype)\n",
        "print('------------------------')\n",
        "#print(torch.tensor([[1,2],[3,4]], device=\"cuda:0\")) #GPU가 없다면 오류가 발생하므로 주석 처리하였습니다.\n",
        "print('------------------------')\n",
        "print(torch.tensor([[1,2],[3,4]], dtype=torch.float64))"
      ],
      "id": "88712725",
      "execution_count": null,
      "outputs": [
        {
          "output_type": "stream",
          "name": "stdout",
          "text": [
            "tensor([[1, 2],\n",
            "        [3, 4]])\n",
            "tensor([[1, 2],\n",
            "        [3, 4]]) <class 'torch.Tensor'> cpu torch.int64\n",
            "------------------------\n",
            "------------------------\n",
            "tensor([[1., 2.],\n",
            "        [3., 4.]], dtype=torch.float64)\n"
          ]
        }
      ]
    },
    {
      "cell_type": "code",
      "source": [
        "torch.__version__"
      ],
      "metadata": {
        "colab": {
          "base_uri": "https://localhost:8080/"
        },
        "id": "oik2p2GvINEM",
        "outputId": "73340170-c11d-412c-f025-551232081d09"
      },
      "id": "oik2p2GvINEM",
      "execution_count": null,
      "outputs": [
        {
          "output_type": "execute_result",
          "data": {
            "text/plain": [
              "'2.2.0'"
            ]
          },
          "metadata": {},
          "execution_count": 31
        }
      ]
    },
    {
      "cell_type": "code",
      "source": [
        "a = torch.tensor([1,1])\n",
        "print(a, type(a), a.to('cuda').device, a.dtype)"
      ],
      "metadata": {
        "colab": {
          "base_uri": "https://localhost:8080/"
        },
        "id": "6NeCk7si3G37",
        "outputId": "54f30c19-eb29-4157-f354-69148d36954a"
      },
      "id": "6NeCk7si3G37",
      "execution_count": null,
      "outputs": [
        {
          "output_type": "stream",
          "name": "stdout",
          "text": [
            "tensor([1, 1]) <class 'torch.Tensor'> cuda:0 torch.int64\n"
          ]
        }
      ]
    },
    {
      "cell_type": "code",
      "source": [
        "torch.cuda.is_available()"
      ],
      "metadata": {
        "colab": {
          "base_uri": "https://localhost:8080/"
        },
        "id": "ENkQd3u1ImYP",
        "outputId": "ba0b2e54-5cc4-42de-f646-0116d48c30c4"
      },
      "id": "ENkQd3u1ImYP",
      "execution_count": null,
      "outputs": [
        {
          "output_type": "execute_result",
          "data": {
            "text/plain": [
              "True"
            ]
          },
          "metadata": {},
          "execution_count": 33
        }
      ]
    },
    {
      "cell_type": "code",
      "metadata": {
        "colab": {
          "base_uri": "https://localhost:8080/"
        },
        "id": "13955c29",
        "outputId": "208cac02-5a4a-4742-a0e2-14c8fd2fbca7"
      },
      "source": [
        "temp = torch.tensor([[1,2],[3,4]])\n",
        "print(temp.numpy())\n",
        "print('------------------------')\n",
        "#temp = torch.tensor([[1,2],[3,4]], device=\"cuda:0\") #GPU가 없다면 오류가 발생하므로 주석 처리하였습니다.\n",
        "temp = torch.tensor([[1,2],[3,4]], device=\"cpu:0\")\n",
        "print(temp.to(\"cpu\").numpy())"
      ],
      "id": "13955c29",
      "execution_count": null,
      "outputs": [
        {
          "output_type": "stream",
          "name": "stdout",
          "text": [
            "[[1 2]\n",
            " [3 4]]\n",
            "------------------------\n",
            "[[1 2]\n",
            " [3 4]]\n"
          ]
        }
      ]
    },
    {
      "cell_type": "code",
      "metadata": {
        "colab": {
          "base_uri": "https://localhost:8080/"
        },
        "id": "4ceaaed8",
        "outputId": "a3cac8c9-a035-4749-a476-7593efe50dad"
      },
      "source": [
        "temp = torch.FloatTensor([1, 2, 3, 4, 5, 6, 7])\n",
        "print(temp[0], temp[1], temp[-1])\n",
        "print('------------------------')\n",
        "print(temp[2:5], temp[4:-1])"
      ],
      "id": "4ceaaed8",
      "execution_count": null,
      "outputs": [
        {
          "output_type": "stream",
          "name": "stdout",
          "text": [
            "tensor(1.) tensor(2.) tensor(7.)\n",
            "------------------------\n",
            "tensor([3., 4., 5.]) tensor([5., 6.])\n"
          ]
        }
      ]
    },
    {
      "cell_type": "code",
      "metadata": {
        "colab": {
          "base_uri": "https://localhost:8080/"
        },
        "id": "35d9751c",
        "outputId": "53ab3857-f306-4767-fecb-b9fd21ab296b"
      },
      "source": [
        "v = torch.tensor([1, 2, 3])\n",
        "w = torch.tensor([3, 4, 6])\n",
        "print(w - v)"
      ],
      "id": "35d9751c",
      "execution_count": null,
      "outputs": [
        {
          "output_type": "stream",
          "name": "stdout",
          "text": [
            "tensor([2, 2, 3])\n"
          ]
        }
      ]
    },
    {
      "cell_type": "code",
      "metadata": {
        "colab": {
          "base_uri": "https://localhost:8080/"
        },
        "id": "50d75b43",
        "outputId": "cbe9c78a-4a0a-4ab0-b822-de5f2aa2c42f"
      },
      "source": [
        "temp = torch.tensor([\n",
        "    [1, 2], [3, 4]\n",
        "])\n",
        "\n",
        "print(temp.shape)\n",
        "print('------------------------')\n",
        "print(temp.view(4,1))\n",
        "print('------------------------')\n",
        "print(temp.view(-1))\n",
        "print('------------------------')\n",
        "print(temp.view(1, -1))\n",
        "print('------------------------')\n",
        "print(temp.view(-1, 1))"
      ],
      "id": "50d75b43",
      "execution_count": null,
      "outputs": [
        {
          "output_type": "stream",
          "name": "stdout",
          "text": [
            "torch.Size([2, 2])\n",
            "------------------------\n",
            "tensor([[1],\n",
            "        [2],\n",
            "        [3],\n",
            "        [4]])\n",
            "------------------------\n",
            "tensor([1, 2, 3, 4])\n",
            "------------------------\n",
            "tensor([[1, 2, 3, 4]])\n",
            "------------------------\n",
            "tensor([[1],\n",
            "        [2],\n",
            "        [3],\n",
            "        [4]])\n"
          ]
        }
      ]
    },
    {
      "cell_type": "code",
      "metadata": {
        "id": "42e98bca"
      },
      "source": [
        "#2.4 파이토치 코드 맛보기"
      ],
      "id": "42e98bca",
      "execution_count": null,
      "outputs": []
    },
    {
      "cell_type": "code",
      "source": [
        "# !pip install matplotlib\n",
        "# !pip install seaborn\n",
        "# !pip install scikit-learn\n",
        "# !pip install pandas\n",
        "# !pip install numpy"
      ],
      "metadata": {
        "id": "V0Xe3K5dNu5t"
      },
      "id": "V0Xe3K5dNu5t",
      "execution_count": null,
      "outputs": []
    },
    {
      "cell_type": "code",
      "source": [
        "import torch\n",
        "from torch import nn\n",
        "from torch.utils.data import DataLoader\n",
        "from torchvision import datasets\n",
        "from torchvision.transforms import ToTensor"
      ],
      "metadata": {
        "id": "L20Vd-dDDXWd"
      },
      "id": "L20Vd-dDDXWd",
      "execution_count": null,
      "outputs": []
    },
    {
      "cell_type": "code",
      "metadata": {
        "id": "44961535"
      },
      "source": [
        "import torch\n",
        "import torch.nn as nn\n",
        "import numpy as np\n",
        "import pandas as pd\n",
        "import matplotlib.pyplot as plt\n",
        "import seaborn as sns\n",
        "from torch.utils.data import DataLoader\n",
        "from torchvision import datasets\n",
        "from torchvision.transforms import ToTensor\n",
        "%matplotlib inline"
      ],
      "id": "44961535",
      "execution_count": null,
      "outputs": []
    },
    {
      "cell_type": "code",
      "source": [
        "# Download training data from open datasets.\n",
        "training_data = datasets.FashionMNIST(\n",
        "    root=\"data\",\n",
        "    train=True,\n",
        "    download=True,\n",
        "    transform=ToTensor(),\n",
        ")\n",
        "\n",
        "# Download test data from open datasets.\n",
        "test_data = datasets.FashionMNIST(\n",
        "    root=\"data\",\n",
        "    train=False,\n",
        "    download=True,\n",
        "    transform=ToTensor(),\n",
        ")"
      ],
      "metadata": {
        "id": "-HvPP9pLOkU6"
      },
      "id": "-HvPP9pLOkU6",
      "execution_count": null,
      "outputs": []
    },
    {
      "cell_type": "code",
      "source": [
        "ls data\\FashionMNIST\\raw"
      ],
      "metadata": {
        "colab": {
          "base_uri": "https://localhost:8080/"
        },
        "id": "Jjl4fnKWDm_L",
        "outputId": "09b079b1-6f29-43ad-a855-977d3ef6f69d"
      },
      "id": "Jjl4fnKWDm_L",
      "execution_count": null,
      "outputs": [
        {
          "output_type": "stream",
          "name": "stdout",
          "text": [
            " C 드라이브의 볼륨에는 이름이 없습니다.\n",
            " 볼륨 일련 번호: CD26-C79F\n",
            "\n",
            " C:\\data\\FashionMNIST\\raw 디렉터리\n",
            "\n",
            "2024-01-30  오후 02:24    <DIR>          .\n",
            "2024-01-30  오후 02:24    <DIR>          ..\n",
            "2024-01-30  오후 02:24         7,840,016 t10k-images-idx3-ubyte\n",
            "2024-01-30  오후 02:24         4,422,102 t10k-images-idx3-ubyte.gz\n",
            "2024-01-30  오후 02:24            10,008 t10k-labels-idx1-ubyte\n",
            "2024-01-30  오후 02:24             5,148 t10k-labels-idx1-ubyte.gz\n",
            "2024-01-30  오후 02:24        47,040,016 train-images-idx3-ubyte\n",
            "2024-01-30  오후 02:24        26,421,880 train-images-idx3-ubyte.gz\n",
            "2024-01-30  오후 02:24            60,008 train-labels-idx1-ubyte\n",
            "2024-01-30  오후 02:24            29,515 train-labels-idx1-ubyte.gz\n",
            "               8개 파일          85,828,693 바이트\n",
            "               2개 디렉터리  393,280,720,896 바이트 남음\n"
          ]
        }
      ]
    },
    {
      "cell_type": "code",
      "source": [
        "batch_size = 64\n",
        "\n",
        "# Create data loaders.\n",
        "train_dataloader = DataLoader(training_data, batch_size=batch_size)\n",
        "test_dataloader = DataLoader(test_data, batch_size=batch_size)\n",
        "\n",
        "for X, y in test_dataloader:\n",
        "    print(f\"Shape of X [N, C, H, W]: {X.shape}\")\n",
        "    print(f\"Shape of y: {y.shape} {y.dtype}\")\n",
        "    break"
      ],
      "metadata": {
        "colab": {
          "base_uri": "https://localhost:8080/"
        },
        "id": "SyMt0MX5GiWJ",
        "outputId": "9932399c-24a5-4917-8ec2-3e856bddf233"
      },
      "id": "SyMt0MX5GiWJ",
      "execution_count": null,
      "outputs": [
        {
          "output_type": "stream",
          "name": "stdout",
          "text": [
            "Shape of X [N, C, H, W]: torch.Size([64, 1, 28, 28])\n",
            "Shape of y: torch.Size([64]) torch.int64\n"
          ]
        }
      ]
    },
    {
      "cell_type": "code",
      "metadata": {
        "colab": {
          "base_uri": "https://localhost:8080/",
          "height": 221
        },
        "id": "4fb364a0",
        "outputId": "a59cdeb6-f937-45ab-fb4e-734cc0b65db2"
      },
      "source": [
        "from google.colab import files # 데이터 불러오기\n",
        "file_uploaded=files.upload()   # 데이터 불러오기\n",
        "dataset = pd.read_csv('car_evaluation.csv')"
      ],
      "id": "4fb364a0",
      "execution_count": null,
      "outputs": [
        {
          "output_type": "error",
          "ename": "ModuleNotFoundError",
          "evalue": "No module named 'google'",
          "traceback": [
            "\u001b[1;31m---------------------------------------------------------------------------\u001b[0m",
            "\u001b[1;31mModuleNotFoundError\u001b[0m                       Traceback (most recent call last)",
            "Cell \u001b[1;32mIn[45], line 1\u001b[0m\n\u001b[1;32m----> 1\u001b[0m \u001b[38;5;28;01mfrom\u001b[39;00m \u001b[38;5;21;01mgoogle\u001b[39;00m\u001b[38;5;21;01m.\u001b[39;00m\u001b[38;5;21;01mcolab\u001b[39;00m \u001b[38;5;28;01mimport\u001b[39;00m files \u001b[38;5;66;03m# 데이터 불러오기\u001b[39;00m\n\u001b[0;32m      2\u001b[0m file_uploaded\u001b[38;5;241m=\u001b[39mfiles\u001b[38;5;241m.\u001b[39mupload()   \u001b[38;5;66;03m# 데이터 불러오기\u001b[39;00m\n\u001b[0;32m      3\u001b[0m dataset \u001b[38;5;241m=\u001b[39m pd\u001b[38;5;241m.\u001b[39mread_csv(\u001b[38;5;124m'\u001b[39m\u001b[38;5;124mcar_evaluation.csv\u001b[39m\u001b[38;5;124m'\u001b[39m)\n",
            "\u001b[1;31mModuleNotFoundError\u001b[0m: No module named 'google'"
          ]
        }
      ]
    },
    {
      "cell_type": "code",
      "metadata": {
        "id": "63ea085b"
      },
      "source": [
        "dataset.head()"
      ],
      "id": "63ea085b",
      "execution_count": null,
      "outputs": []
    },
    {
      "cell_type": "code",
      "metadata": {
        "id": "1854b091"
      },
      "source": [
        "fig_size = plt.rcParams[\"figure.figsize\"]\n",
        "fig_size[0] = 8\n",
        "fig_size[1] = 6\n",
        "plt.rcParams[\"figure.figsize\"] = fig_size\n",
        "dataset.output.value_counts().plot(kind='pie', autopct='%0.05f%%', colors=['lightblue', 'lightgreen', 'orange', 'pink'], explode=(0.05, 0.05, 0.05,0.05))"
      ],
      "id": "1854b091",
      "execution_count": null,
      "outputs": []
    },
    {
      "cell_type": "code",
      "metadata": {
        "id": "73c82b06"
      },
      "source": [
        "categorical_columns = ['price', 'maint', 'doors', 'persons', 'lug_capacity', 'safety']"
      ],
      "id": "73c82b06",
      "execution_count": null,
      "outputs": []
    },
    {
      "cell_type": "code",
      "metadata": {
        "id": "281fc4df"
      },
      "source": [
        "for category in categorical_columns:\n",
        "    dataset[category] = dataset[category].astype('category')"
      ],
      "id": "281fc4df",
      "execution_count": null,
      "outputs": []
    },
    {
      "cell_type": "code",
      "metadata": {
        "id": "c6b735e5"
      },
      "source": [
        "price = dataset['price'].cat.codes.values\n",
        "maint = dataset['maint'].cat.codes.values\n",
        "doors = dataset['doors'].cat.codes.values\n",
        "persons = dataset['persons'].cat.codes.values\n",
        "lug_capacity = dataset['lug_capacity'].cat.codes.values\n",
        "safety = dataset['safety'].cat.codes.values\n",
        "\n",
        "categorical_data = np.stack([price, maint, doors, persons, lug_capacity, safety], 1)\n",
        "categorical_data[:10]"
      ],
      "id": "c6b735e5",
      "execution_count": null,
      "outputs": []
    },
    {
      "cell_type": "code",
      "metadata": {
        "id": "11ea6d73"
      },
      "source": [
        "categorical_data = torch.tensor(categorical_data, dtype=torch.int64)\n",
        "categorical_data[:10]"
      ],
      "id": "11ea6d73",
      "execution_count": null,
      "outputs": []
    },
    {
      "cell_type": "code",
      "metadata": {
        "id": "e765bcab"
      },
      "source": [
        "outputs = pd.get_dummies(dataset.output)\n",
        "outputs = outputs.values\n",
        "outputs = torch.tensor(outputs).flatten()\n",
        "\n",
        "print(categorical_data.shape)\n",
        "print(outputs.shape)"
      ],
      "id": "e765bcab",
      "execution_count": null,
      "outputs": []
    },
    {
      "cell_type": "code",
      "metadata": {
        "id": "828e0711"
      },
      "source": [
        "categorical_column_sizes = [len(dataset[column].cat.categories) for column in categorical_columns]\n",
        "categorical_embedding_sizes = [(col_size, min(50, (col_size+1)//2)) for col_size in categorical_column_sizes]\n",
        "print(categorical_embedding_sizes)"
      ],
      "id": "828e0711",
      "execution_count": null,
      "outputs": []
    },
    {
      "cell_type": "code",
      "metadata": {
        "id": "de38aa0b"
      },
      "source": [
        "total_records = 1728\n",
        "test_records = int(total_records * .2)\n",
        "\n",
        "categorical_train_data = categorical_data[:total_records-test_records]\n",
        "categorical_test_data = categorical_data[total_records-test_records:total_records]\n",
        "train_outputs = outputs[:total_records-test_records]\n",
        "test_outputs = outputs[total_records-test_records:total_records]"
      ],
      "id": "de38aa0b",
      "execution_count": null,
      "outputs": []
    },
    {
      "cell_type": "code",
      "metadata": {
        "id": "46eb162b"
      },
      "source": [
        "print(len(categorical_train_data))\n",
        "print(len(train_outputs))\n",
        "print(len(categorical_test_data))\n",
        "print(len(test_outputs))"
      ],
      "id": "46eb162b",
      "execution_count": null,
      "outputs": []
    },
    {
      "cell_type": "code",
      "metadata": {
        "id": "2eaa67ca"
      },
      "source": [
        "class Model(nn.Module):\n",
        "    def __init__(self, embedding_size, output_size, layers, p=0.4):\n",
        "        super().__init__()\n",
        "        self.all_embeddings = nn.ModuleList([nn.Embedding(ni, nf) for ni, nf in embedding_size])\n",
        "        self.embedding_dropout = nn.Dropout(p)\n",
        "\n",
        "        all_layers = []\n",
        "        num_categorical_cols = sum((nf for ni, nf in embedding_size))\n",
        "        input_size = num_categorical_cols\n",
        "\n",
        "        for i in layers:\n",
        "            all_layers.append(nn.Linear(input_size, i))\n",
        "            all_layers.append(nn.ReLU(inplace=True))\n",
        "            all_layers.append(nn.BatchNorm1d(i))\n",
        "            all_layers.append(nn.Dropout(p))\n",
        "            input_size = i\n",
        "\n",
        "        all_layers.append(nn.Linear(layers[-1], output_size))\n",
        "        self.layers = nn.Sequential(*all_layers)\n",
        "\n",
        "    def forward(self, x_categorical):\n",
        "        embeddings = []\n",
        "        for i,e in enumerate(self.all_embeddings):\n",
        "            embeddings.append(e(x_categorical[:,i]))\n",
        "        x = torch.cat(embeddings, 1)\n",
        "        x = self.embedding_dropout(x)\n",
        "        x = self.layers(x)\n",
        "        return x"
      ],
      "id": "2eaa67ca",
      "execution_count": null,
      "outputs": []
    },
    {
      "cell_type": "code",
      "metadata": {
        "id": "4909ff0e"
      },
      "source": [
        "model = Model(categorical_embedding_sizes, 4, [200,100,50], p=0.4)\n",
        "print(model)"
      ],
      "id": "4909ff0e",
      "execution_count": null,
      "outputs": []
    },
    {
      "cell_type": "code",
      "metadata": {
        "id": "301d59a6"
      },
      "source": [
        "loss_function = nn.CrossEntropyLoss()\n",
        "optimizer = torch.optim.Adam(model.parameters(), lr=0.001)"
      ],
      "id": "301d59a6",
      "execution_count": null,
      "outputs": []
    },
    {
      "cell_type": "code",
      "metadata": {
        "id": "3d5c313f"
      },
      "source": [
        "if torch.cuda.is_available():\n",
        "    device = torch.device('cuda')\n",
        "else:\n",
        "    device = torch.device('cpu')"
      ],
      "id": "3d5c313f",
      "execution_count": null,
      "outputs": []
    },
    {
      "cell_type": "code",
      "metadata": {
        "id": "56492e5b"
      },
      "source": [
        "epochs = 500\n",
        "aggregated_losses = []\n",
        "train_outputs = train_outputs.to(device=device, dtype=torch.int64)\n",
        "for i in range(epochs):\n",
        "    i += 1\n",
        "    y_pred = model(categorical_train_data).to(device)\n",
        "    single_loss = loss_function(y_pred, train_outputs)\n",
        "    aggregated_losses.append(single_loss)\n",
        "\n",
        "    if i%25 == 1:\n",
        "        print(f'epoch: {i:3} loss: {single_loss.item():10.8f}')\n",
        "\n",
        "    optimizer.zero_grad()\n",
        "    single_loss.backward()\n",
        "    optimizer.step()\n",
        "\n",
        "print(f'epoch: {i:3} loss: {single_loss.item():10.10f}')"
      ],
      "id": "56492e5b",
      "execution_count": null,
      "outputs": []
    },
    {
      "cell_type": "code",
      "metadata": {
        "id": "fd2f1035"
      },
      "source": [
        "test_outputs = test_outputs.to(device=device, dtype=torch.int64)\n",
        "with torch.no_grad():\n",
        "    y_val = model(categorical_test_data).to(device)\n",
        "    loss = loss_function(y_val, test_outputs)\n",
        "print(f'Loss: {loss:.8f}')"
      ],
      "id": "fd2f1035",
      "execution_count": null,
      "outputs": []
    },
    {
      "cell_type": "code",
      "metadata": {
        "id": "6735f451"
      },
      "source": [
        "print(y_val[:5])"
      ],
      "id": "6735f451",
      "execution_count": null,
      "outputs": []
    },
    {
      "cell_type": "code",
      "metadata": {
        "id": "5acf59f2"
      },
      "source": [
        "y_val = np.argmax(y_val.cpu().numpy(), axis=1)\n",
        "print(y_val[:5])"
      ],
      "id": "5acf59f2",
      "execution_count": null,
      "outputs": []
    },
    {
      "cell_type": "code",
      "metadata": {
        "id": "a7e16502"
      },
      "source": [
        "import warnings\n",
        "warnings.filterwarnings('ignore')\n",
        "from sklearn.metrics import classification_report, confusion_matrix, accuracy_score\n",
        "\n",
        "test_outputs=test_outputs.cpu().numpy()\n",
        "print(confusion_matrix(test_outputs,y_val))\n",
        "print(classification_report(test_outputs,y_val))\n",
        "print(accuracy_score(test_outputs, y_val))"
      ],
      "id": "a7e16502",
      "execution_count": null,
      "outputs": []
    },
    {
      "cell_type": "code",
      "metadata": {
        "id": "c23a4969"
      },
      "source": [],
      "id": "c23a4969",
      "execution_count": null,
      "outputs": []
    }
  ]
}