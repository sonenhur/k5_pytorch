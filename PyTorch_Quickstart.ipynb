{
  "nbformat": 4,
  "nbformat_minor": 0,
  "metadata": {
    "colab": {
      "provenance": [],
      "authorship_tag": "ABX9TyNZ1IIWJlZfJl/An2Yf35iB",
      "include_colab_link": true
    },
    "kernelspec": {
      "name": "python3",
      "display_name": "Python 3"
    },
    "language_info": {
      "name": "python"
    }
  },
  "cells": [
    {
      "cell_type": "markdown",
      "metadata": {
        "id": "view-in-github",
        "colab_type": "text"
      },
      "source": [
        "<a href=\"https://colab.research.google.com/github/sonenhur/k5_pytorch/blob/main/PyTorch_Quickstart.ipynb\" target=\"_parent\"><img src=\"https://colab.research.google.com/assets/colab-badge.svg\" alt=\"Open In Colab\"/></a>"
      ]
    },
    {
      "cell_type": "markdown",
      "source": [
        "## Working with data"
      ],
      "metadata": {
        "id": "bGhfmcGtKVhK"
      }
    },
    {
      "cell_type": "code",
      "execution_count": null,
      "metadata": {
        "id": "yKhNy-tHEv_z"
      },
      "outputs": [],
      "source": [
        "import torch\n",
        "from torch import nn\n",
        "from torch.utils.data import DataLoader\n",
        "from torchvision import datasets\n",
        "from torchvision.transforms import ToTensor"
      ]
    },
    {
      "cell_type": "code",
      "source": [
        "# Download training data from open datasets.\n",
        "training_data = datasets.FashionMNIST(\n",
        "    root=\"data\",\n",
        "    train=True,\n",
        "    download=True,\n",
        "    transform=ToTensor(),\n",
        ")\n",
        "\n",
        "# Download test data from open datasets.\n",
        "test_data = datasets.FashionMNIST(\n",
        "    root=\"data\",\n",
        "    train=False,\n",
        "    download=True,\n",
        "    transform=ToTensor(),\n",
        ")"
      ],
      "metadata": {
        "id": "IfTU_0mBHp2y",
        "colab": {
          "base_uri": "https://localhost:8080/"
        },
        "outputId": "e05e778d-3f54-49b7-f262-0dbea5a263f8"
      },
      "execution_count": null,
      "outputs": [
        {
          "output_type": "stream",
          "name": "stdout",
          "text": [
            "Downloading http://fashion-mnist.s3-website.eu-central-1.amazonaws.com/train-images-idx3-ubyte.gz\n",
            "Downloading http://fashion-mnist.s3-website.eu-central-1.amazonaws.com/train-images-idx3-ubyte.gz to data\\FashionMNIST\\raw\\train-images-idx3-ubyte.gz\n"
          ]
        },
        {
          "output_type": "stream",
          "name": "stderr",
          "text": [
            "100.0%\n"
          ]
        },
        {
          "output_type": "stream",
          "name": "stdout",
          "text": [
            "Extracting data\\FashionMNIST\\raw\\train-images-idx3-ubyte.gz to data\\FashionMNIST\\raw\n",
            "\n",
            "Downloading http://fashion-mnist.s3-website.eu-central-1.amazonaws.com/train-labels-idx1-ubyte.gz\n",
            "Downloading http://fashion-mnist.s3-website.eu-central-1.amazonaws.com/train-labels-idx1-ubyte.gz to data\\FashionMNIST\\raw\\train-labels-idx1-ubyte.gz\n"
          ]
        },
        {
          "output_type": "stream",
          "name": "stderr",
          "text": [
            "\r100.0%\n"
          ]
        },
        {
          "output_type": "stream",
          "name": "stdout",
          "text": [
            "Extracting data\\FashionMNIST\\raw\\train-labels-idx1-ubyte.gz to data\\FashionMNIST\\raw\n",
            "\n",
            "Downloading http://fashion-mnist.s3-website.eu-central-1.amazonaws.com/t10k-images-idx3-ubyte.gz\n",
            "Downloading http://fashion-mnist.s3-website.eu-central-1.amazonaws.com/t10k-images-idx3-ubyte.gz to data\\FashionMNIST\\raw\\t10k-images-idx3-ubyte.gz\n"
          ]
        },
        {
          "output_type": "stream",
          "name": "stderr",
          "text": [
            "100.0%\n"
          ]
        },
        {
          "output_type": "stream",
          "name": "stdout",
          "text": [
            "Extracting data\\FashionMNIST\\raw\\t10k-images-idx3-ubyte.gz to data\\FashionMNIST\\raw\n",
            "\n",
            "Downloading http://fashion-mnist.s3-website.eu-central-1.amazonaws.com/t10k-labels-idx1-ubyte.gz\n",
            "Downloading http://fashion-mnist.s3-website.eu-central-1.amazonaws.com/t10k-labels-idx1-ubyte.gz to data\\FashionMNIST\\raw\\t10k-labels-idx1-ubyte.gz\n"
          ]
        },
        {
          "output_type": "stream",
          "name": "stderr",
          "text": [
            "\r100.0%"
          ]
        },
        {
          "output_type": "stream",
          "name": "stdout",
          "text": [
            "Extracting data\\FashionMNIST\\raw\\t10k-labels-idx1-ubyte.gz to data\\FashionMNIST\\raw\n",
            "\n"
          ]
        },
        {
          "output_type": "stream",
          "name": "stderr",
          "text": [
            "\n"
          ]
        }
      ]
    },
    {
      "cell_type": "code",
      "source": [
        "batch_size = 128\n",
        "\n",
        "# Create data loaders.\n",
        "train_dataloader = DataLoader(training_data, batch_size=batch_size)\n",
        "test_dataloader = DataLoader(test_data, batch_size=batch_size)\n",
        "\n",
        "for X, y in test_dataloader:\n",
        "    print(f\"Shape of X [N, C, H, W]: {X.shape}\")\n",
        "    print(f\"Shape of y: {y.shape} {y.dtype}\")\n",
        "    break"
      ],
      "metadata": {
        "colab": {
          "base_uri": "https://localhost:8080/"
        },
        "id": "yoYBCNujHuWw",
        "outputId": "34a82455-9596-4ebb-e88f-7c8db15f3fb2"
      },
      "execution_count": null,
      "outputs": [
        {
          "output_type": "stream",
          "name": "stdout",
          "text": [
            "Shape of X [N, C, H, W]: torch.Size([128, 1, 28, 28])\n",
            "Shape of y: torch.Size([128]) torch.int64\n"
          ]
        }
      ]
    },
    {
      "cell_type": "code",
      "source": [
        "for i in [1,2,3]:\n",
        "  print(i)\n",
        "for s in \"hello\":\n",
        "  print(s)\n",
        "for i in range(5):\n",
        "  print(i)"
      ],
      "metadata": {
        "colab": {
          "base_uri": "https://localhost:8080/"
        },
        "id": "g9CKY2a1HxOg",
        "outputId": "70fc0c43-a801-4a85-931f-6cf225d79eb8"
      },
      "execution_count": null,
      "outputs": [
        {
          "output_type": "stream",
          "name": "stdout",
          "text": [
            "1\n",
            "2\n",
            "3\n",
            "h\n",
            "e\n",
            "l\n",
            "l\n",
            "o\n",
            "0\n",
            "1\n",
            "2\n",
            "3\n",
            "4\n"
          ]
        }
      ]
    },
    {
      "cell_type": "markdown",
      "source": [
        "## Creating Models"
      ],
      "metadata": {
        "id": "vnSqQbafKPcZ"
      }
    },
    {
      "cell_type": "markdown",
      "source": [
        "### Get cpu, gpu or mps device for training"
      ],
      "metadata": {
        "id": "d-jTwoD5KbQh"
      }
    },
    {
      "cell_type": "code",
      "source": [
        "device = (\n",
        "    \"cuda\"\n",
        "    if torch.cuda.is_available()\n",
        "    else \"mps\"\n",
        "    if torch.backends.mps.is_available()\n",
        "    else \"cpu\"\n",
        ")\n",
        "print(f\"Using {device} device\")"
      ],
      "metadata": {
        "colab": {
          "base_uri": "https://localhost:8080/"
        },
        "id": "2CBjzChnKLUV",
        "outputId": "254a3798-1535-4683-e16c-50013839c711"
      },
      "execution_count": null,
      "outputs": [
        {
          "output_type": "stream",
          "name": "stdout",
          "text": [
            "Using cuda device\n"
          ]
        }
      ]
    },
    {
      "cell_type": "code",
      "source": [
        "a = max\n",
        "type(a)"
      ],
      "metadata": {
        "colab": {
          "base_uri": "https://localhost:8080/"
        },
        "id": "CZN0itFhLIwp",
        "outputId": "b1c221db-67fb-4f39-d7a4-feb6139e55ed"
      },
      "execution_count": null,
      "outputs": [
        {
          "output_type": "execute_result",
          "data": {
            "text/plain": [
              "builtin_function_or_method"
            ]
          },
          "metadata": {},
          "execution_count": 6
        }
      ]
    },
    {
      "cell_type": "code",
      "source": [
        "a = range(5)\n",
        "type(a)"
      ],
      "metadata": {
        "colab": {
          "base_uri": "https://localhost:8080/"
        },
        "id": "i6NnHYqFLLK0",
        "outputId": "2c759a42-95fa-4610-f030-01c14ff2eaf2"
      },
      "execution_count": null,
      "outputs": [
        {
          "output_type": "execute_result",
          "data": {
            "text/plain": [
              "range"
            ]
          },
          "metadata": {},
          "execution_count": 7
        }
      ]
    },
    {
      "cell_type": "markdown",
      "source": [
        "### Define model"
      ],
      "metadata": {
        "id": "gsOoebuPLAzS"
      }
    },
    {
      "cell_type": "code",
      "source": [
        "class NeuralNetwork(nn.Module): #nn,Module()을 상속\n",
        "    def __init__(self):\n",
        "        super().__init__()\n",
        "        self.flatten = nn.Flatten()\n",
        "        self.linear_relu_stack = nn.Sequential(\n",
        "            nn.Linear(28*28, 512),\n",
        "            nn.ReLU(),\n",
        "            nn.Linear(512, 512),\n",
        "            nn.ReLU(),\n",
        "            nn.Linear(512, 10)\n",
        "        )\n",
        "\n",
        "    def forward(self, x):\n",
        "        x = self.flatten(x)\n",
        "        logits = self.linear_relu_stack(x)\n",
        "        return logits"
      ],
      "metadata": {
        "id": "sCSEVs47LCba"
      },
      "execution_count": null,
      "outputs": []
    },
    {
      "cell_type": "code",
      "source": [
        "model = NeuralNetwork().to(device)\n",
        "print(type(model)) # 타입 확인 습관화\n",
        "# 여기서는 함수호출이 아니라 모듈 객체를 생성함"
      ],
      "metadata": {
        "colab": {
          "base_uri": "https://localhost:8080/"
        },
        "id": "RIVHrUFvK4Fl",
        "outputId": "b61ab702-2de8-4a39-f4ff-2702e63436d8"
      },
      "execution_count": null,
      "outputs": [
        {
          "output_type": "stream",
          "name": "stdout",
          "text": [
            "<class '__main__.NeuralNetwork'>\n"
          ]
        }
      ]
    },
    {
      "cell_type": "code",
      "source": [
        "print(model)"
      ],
      "metadata": {
        "colab": {
          "base_uri": "https://localhost:8080/"
        },
        "id": "h1yuXoP3K7rh",
        "outputId": "9de7639c-ce45-404b-badd-ebe03c23faa9"
      },
      "execution_count": null,
      "outputs": [
        {
          "output_type": "stream",
          "name": "stdout",
          "text": [
            "NeuralNetwork(\n",
            "  (flatten): Flatten(start_dim=1, end_dim=-1)\n",
            "  (linear_relu_stack): Sequential(\n",
            "    (0): Linear(in_features=784, out_features=512, bias=True)\n",
            "    (1): ReLU()\n",
            "    (2): Linear(in_features=512, out_features=512, bias=True)\n",
            "    (3): ReLU()\n",
            "    (4): Linear(in_features=512, out_features=10, bias=True)\n",
            "  )\n",
            ")\n"
          ]
        }
      ]
    },
    {
      "cell_type": "markdown",
      "source": [
        "## Optimizing the Model Parameters"
      ],
      "metadata": {
        "id": "fTpCxLUbMiGN"
      }
    },
    {
      "cell_type": "code",
      "source": [
        "loss_fn = nn.CrossEntropyLoss() # 손실함수: Classification(분류)에 사용}\n",
        "optimizer = torch.optim.Adam(model.parameters(), lr=1e-4) #(10의 -4승)"
      ],
      "metadata": {
        "id": "wlMO-s-7K9vZ"
      },
      "execution_count": null,
      "outputs": []
    },
    {
      "cell_type": "code",
      "source": [
        "def train(dataloader, model, loss_fn, optimizer):\n",
        "    size = len(dataloader.dataset)\n",
        "    model.train()\n",
        "    for batch, (X, y) in enumerate(dataloader):\n",
        "        X, y = X.to(device), y.to(device)\n",
        "\n",
        "        # Compute prediction error\n",
        "        pred = model(X)\n",
        "        loss = loss_fn(pred, y)\n",
        "\n",
        "        # Backpropagation\n",
        "        loss.backward()\n",
        "        optimizer.step()\n",
        "        optimizer.zero_grad()\n",
        "\n",
        "        if batch % 100 == 0:\n",
        "            loss, current = loss.item(), (batch + 1) * len(X)\n",
        "            print(f\"loss: {loss:>7f}  [{current:>5d}/{size:>5d}]\")"
      ],
      "metadata": {
        "id": "iNfwSuLuMeMk"
      },
      "execution_count": null,
      "outputs": []
    },
    {
      "cell_type": "code",
      "source": [
        "def test(dataloader, model, loss_fn):\n",
        "    size = len(dataloader.dataset)\n",
        "    num_batches = len(dataloader)\n",
        "    model.eval()\n",
        "    test_loss, correct = 0, 0\n",
        "    with torch.no_grad():\n",
        "        for X, y in dataloader:\n",
        "            X, y = X.to(device), y.to(device)\n",
        "            pred = model(X)\n",
        "            test_loss += loss_fn(pred, y).item()\n",
        "            correct += (pred.argmax(1) == y).type(torch.float).sum().item()\n",
        "    test_loss /= num_batches\n",
        "    correct /= size\n",
        "    print(f\"Test Error: \\n Accuracy: {(100*correct):>0.1f}%, Avg loss: {test_loss:>8f} \\n\")"
      ],
      "metadata": {
        "id": "30zWM3FYOXOC"
      },
      "execution_count": null,
      "outputs": []
    },
    {
      "cell_type": "code",
      "source": [
        "epochs = 20\n",
        "for t in range(epochs):\n",
        "    print(f\"Epoch {t+1}\\n-------------------------------\")\n",
        "    train(train_dataloader, model, loss_fn, optimizer)\n",
        "    test(test_dataloader, model, loss_fn)\n",
        "print(\"Done!\")"
      ],
      "metadata": {
        "colab": {
          "base_uri": "https://localhost:8080/"
        },
        "id": "VgbFUkN1OZC5",
        "outputId": "7595352b-645d-4c1f-e5e8-0b306886ec06"
      },
      "execution_count": null,
      "outputs": [
        {
          "output_type": "stream",
          "name": "stdout",
          "text": [
            "Epoch 1\n",
            "-------------------------------\n",
            "loss: 2.300760  [  128/60000]\n",
            "loss: 0.761876  [12928/60000]\n",
            "loss: 0.562215  [25728/60000]\n",
            "loss: 0.553815  [38528/60000]\n",
            "loss: 0.549479  [51328/60000]\n",
            "Test Error: \n",
            " Accuracy: 81.1%, Avg loss: 0.527106 \n",
            "\n",
            "Epoch 2\n",
            "-------------------------------\n",
            "loss: 0.382980  [  128/60000]\n",
            "loss: 0.396149  [12928/60000]\n",
            "loss: 0.381702  [25728/60000]\n",
            "loss: 0.452636  [38528/60000]\n",
            "loss: 0.471568  [51328/60000]\n",
            "Test Error: \n",
            " Accuracy: 83.5%, Avg loss: 0.463826 \n",
            "\n",
            "Epoch 3\n",
            "-------------------------------\n",
            "loss: 0.285686  [  128/60000]\n",
            "loss: 0.341436  [12928/60000]\n",
            "loss: 0.334203  [25728/60000]\n",
            "loss: 0.418491  [38528/60000]\n",
            "loss: 0.430041  [51328/60000]\n",
            "Test Error: \n",
            " Accuracy: 84.5%, Avg loss: 0.435624 \n",
            "\n",
            "Epoch 4\n",
            "-------------------------------\n",
            "loss: 0.249471  [  128/60000]\n",
            "loss: 0.311197  [12928/60000]\n",
            "loss: 0.309382  [25728/60000]\n",
            "loss: 0.396011  [38528/60000]\n",
            "loss: 0.408548  [51328/60000]\n",
            "Test Error: \n",
            " Accuracy: 85.1%, Avg loss: 0.417309 \n",
            "\n",
            "Epoch 5\n",
            "-------------------------------\n",
            "loss: 0.228215  [  128/60000]\n",
            "loss: 0.289237  [12928/60000]\n",
            "loss: 0.294123  [25728/60000]\n",
            "loss: 0.378449  [38528/60000]\n",
            "loss: 0.391297  [51328/60000]\n",
            "Test Error: \n",
            " Accuracy: 85.5%, Avg loss: 0.403221 \n",
            "\n",
            "Epoch 6\n",
            "-------------------------------\n",
            "loss: 0.213187  [  128/60000]\n",
            "loss: 0.271513  [12928/60000]\n",
            "loss: 0.283990  [25728/60000]\n",
            "loss: 0.363111  [38528/60000]\n",
            "loss: 0.375905  [51328/60000]\n",
            "Test Error: \n",
            " Accuracy: 86.0%, Avg loss: 0.391878 \n",
            "\n",
            "Epoch 7\n",
            "-------------------------------\n",
            "loss: 0.202513  [  128/60000]\n",
            "loss: 0.257584  [12928/60000]\n",
            "loss: 0.277758  [25728/60000]\n",
            "loss: 0.350801  [38528/60000]\n",
            "loss: 0.363264  [51328/60000]\n",
            "Test Error: \n",
            " Accuracy: 86.3%, Avg loss: 0.382985 \n",
            "\n",
            "Epoch 8\n",
            "-------------------------------\n",
            "loss: 0.191925  [  128/60000]\n",
            "loss: 0.244859  [12928/60000]\n",
            "loss: 0.272966  [25728/60000]\n",
            "loss: 0.339862  [38528/60000]\n",
            "loss: 0.352469  [51328/60000]\n",
            "Test Error: \n",
            " Accuracy: 86.6%, Avg loss: 0.375408 \n",
            "\n",
            "Epoch 9\n",
            "-------------------------------\n",
            "loss: 0.183466  [  128/60000]\n",
            "loss: 0.233607  [12928/60000]\n",
            "loss: 0.270637  [25728/60000]\n",
            "loss: 0.330597  [38528/60000]\n",
            "loss: 0.342304  [51328/60000]\n",
            "Test Error: \n",
            " Accuracy: 87.0%, Avg loss: 0.368809 \n",
            "\n",
            "Epoch 10\n",
            "-------------------------------\n",
            "loss: 0.176701  [  128/60000]\n",
            "loss: 0.224722  [12928/60000]\n",
            "loss: 0.267029  [25728/60000]\n",
            "loss: 0.322763  [38528/60000]\n",
            "loss: 0.330923  [51328/60000]\n",
            "Test Error: \n",
            " Accuracy: 87.1%, Avg loss: 0.363431 \n",
            "\n",
            "Epoch 11\n",
            "-------------------------------\n",
            "loss: 0.171513  [  128/60000]\n",
            "loss: 0.217036  [12928/60000]\n",
            "loss: 0.263391  [25728/60000]\n",
            "loss: 0.315208  [38528/60000]\n",
            "loss: 0.319505  [51328/60000]\n",
            "Test Error: \n",
            " Accuracy: 87.3%, Avg loss: 0.358766 \n",
            "\n",
            "Epoch 12\n",
            "-------------------------------\n",
            "loss: 0.166476  [  128/60000]\n",
            "loss: 0.209439  [12928/60000]\n",
            "loss: 0.259353  [25728/60000]\n",
            "loss: 0.305790  [38528/60000]\n",
            "loss: 0.308599  [51328/60000]\n",
            "Test Error: \n",
            " Accuracy: 87.4%, Avg loss: 0.354126 \n",
            "\n",
            "Epoch 13\n",
            "-------------------------------\n",
            "loss: 0.164012  [  128/60000]\n",
            "loss: 0.203798  [12928/60000]\n",
            "loss: 0.256087  [25728/60000]\n",
            "loss: 0.297264  [38528/60000]\n",
            "loss: 0.300312  [51328/60000]\n",
            "Test Error: \n",
            " Accuracy: 87.5%, Avg loss: 0.350334 \n",
            "\n",
            "Epoch 14\n",
            "-------------------------------\n",
            "loss: 0.160688  [  128/60000]\n",
            "loss: 0.197712  [12928/60000]\n",
            "loss: 0.253010  [25728/60000]\n",
            "loss: 0.289298  [38528/60000]\n",
            "loss: 0.290177  [51328/60000]\n",
            "Test Error: \n",
            " Accuracy: 87.6%, Avg loss: 0.347522 \n",
            "\n",
            "Epoch 15\n",
            "-------------------------------\n",
            "loss: 0.157873  [  128/60000]\n",
            "loss: 0.192920  [12928/60000]\n",
            "loss: 0.249245  [25728/60000]\n",
            "loss: 0.280813  [38528/60000]\n",
            "loss: 0.282305  [51328/60000]\n",
            "Test Error: \n",
            " Accuracy: 87.8%, Avg loss: 0.345229 \n",
            "\n",
            "Epoch 16\n",
            "-------------------------------\n",
            "loss: 0.154354  [  128/60000]\n",
            "loss: 0.189019  [12928/60000]\n",
            "loss: 0.245839  [25728/60000]\n",
            "loss: 0.274126  [38528/60000]\n",
            "loss: 0.273256  [51328/60000]\n",
            "Test Error: \n",
            " Accuracy: 87.8%, Avg loss: 0.343405 \n",
            "\n",
            "Epoch 17\n",
            "-------------------------------\n",
            "loss: 0.152156  [  128/60000]\n",
            "loss: 0.185457  [12928/60000]\n",
            "loss: 0.245097  [25728/60000]\n",
            "loss: 0.269319  [38528/60000]\n",
            "loss: 0.265966  [51328/60000]\n",
            "Test Error: \n",
            " Accuracy: 87.8%, Avg loss: 0.341551 \n",
            "\n",
            "Epoch 18\n",
            "-------------------------------\n",
            "loss: 0.151608  [  128/60000]\n",
            "loss: 0.182692  [12928/60000]\n",
            "loss: 0.241588  [25728/60000]\n",
            "loss: 0.261324  [38528/60000]\n",
            "loss: 0.258258  [51328/60000]\n",
            "Test Error: \n",
            " Accuracy: 87.9%, Avg loss: 0.339738 \n",
            "\n",
            "Epoch 19\n",
            "-------------------------------\n",
            "loss: 0.149083  [  128/60000]\n",
            "loss: 0.179407  [12928/60000]\n",
            "loss: 0.240149  [25728/60000]\n",
            "loss: 0.254822  [38528/60000]\n",
            "loss: 0.250952  [51328/60000]\n",
            "Test Error: \n",
            " Accuracy: 88.1%, Avg loss: 0.338097 \n",
            "\n",
            "Epoch 20\n",
            "-------------------------------\n",
            "loss: 0.147598  [  128/60000]\n",
            "loss: 0.175464  [12928/60000]\n",
            "loss: 0.235785  [25728/60000]\n",
            "loss: 0.247661  [38528/60000]\n",
            "loss: 0.243011  [51328/60000]\n",
            "Test Error: \n",
            " Accuracy: 88.1%, Avg loss: 0.337044 \n",
            "\n",
            "Done!\n"
          ]
        }
      ]
    },
    {
      "cell_type": "markdown",
      "source": [
        "## Saving Models"
      ],
      "metadata": {
        "id": "EG6iw0y8XrIq"
      }
    },
    {
      "cell_type": "code",
      "source": [
        "scripted_model = torch.jit.script(model)\n",
        "scripted_model.save('fmnist_model.pt')"
      ],
      "metadata": {
        "id": "LmStOoa79e31"
      },
      "execution_count": null,
      "outputs": []
    },
    {
      "cell_type": "code",
      "source": [
        "torch.save(model.state_dict(), \"model.pth\")\n",
        "print(\"Saved PyTorch Model State to model.pth\")"
      ],
      "metadata": {
        "colab": {
          "base_uri": "https://localhost:8080/"
        },
        "id": "M3Hj8_lHOan5",
        "outputId": "f44ef8cf-8535-43ca-a1aa-d9d1a666f178"
      },
      "execution_count": null,
      "outputs": [
        {
          "output_type": "stream",
          "name": "stdout",
          "text": [
            "Saved PyTorch Model State to model.pth\n"
          ]
        }
      ]
    },
    {
      "cell_type": "markdown",
      "source": [
        "## Loading Models"
      ],
      "metadata": {
        "id": "SHUZUS8pXvg4"
      }
    },
    {
      "cell_type": "code",
      "source": [
        "model = NeuralNetwork().to(device)\n",
        "model.load_state_dict(torch.load(\"model.pth\"))"
      ],
      "metadata": {
        "colab": {
          "base_uri": "https://localhost:8080/"
        },
        "id": "79NVfA8STZ0j",
        "outputId": "0bdb6eca-4fde-45a0-c0e5-f14cc7075d43"
      },
      "execution_count": null,
      "outputs": [
        {
          "output_type": "execute_result",
          "data": {
            "text/plain": [
              "<All keys matched successfully>"
            ]
          },
          "metadata": {},
          "execution_count": 16
        }
      ]
    },
    {
      "cell_type": "markdown",
      "source": [
        "### This model can now be used to make predictions."
      ],
      "metadata": {
        "id": "0lmIeqpE2axr"
      }
    },
    {
      "cell_type": "code",
      "source": [
        "classes = [\"T-shirt/top\", \"Trouser\", \"Pullover\", \"Dress\", \"Coat\", \"Sandal\", \"Shirt\", \"Sneaker\", \"Bag\", \"Ankle boot\",]"
      ],
      "metadata": {
        "id": "j0DfrCNv2h2C"
      },
      "execution_count": null,
      "outputs": []
    },
    {
      "cell_type": "code",
      "source": [
        "model.eval()\n",
        "x, y = test_data[0][0], test_data[0][1]\n",
        "with torch.no_grad():\n",
        "  x = x.to(device)\n",
        "  pred = model(x)\n",
        "  predicted, actual = classes[pred[0].argmax(0)], classes[y]\n",
        "  print(f'Predicted: \"{predicted}\", Actual: \"{actual}\"')"
      ],
      "metadata": {
        "colab": {
          "base_uri": "https://localhost:8080/"
        },
        "id": "0jkTfIzq4Nj7",
        "outputId": "c59ddfbd-83c9-49ef-f5c9-47374c3e4ebf"
      },
      "execution_count": null,
      "outputs": [
        {
          "output_type": "stream",
          "name": "stdout",
          "text": [
            "Predicted: \"Ankle boot\", Actual: \"Ankle boot\"\n"
          ]
        }
      ]
    },
    {
      "cell_type": "code",
      "source": [],
      "metadata": {
        "id": "OYUTKSnW4xXr"
      },
      "execution_count": null,
      "outputs": []
    }
  ]
}