{
  "cells": [
    {
      "cell_type": "markdown",
      "metadata": {
        "id": "view-in-github",
        "colab_type": "text"
      },
      "source": [
        "<a href=\"https://colab.research.google.com/github/sonenhur/k5_pytorch/blob/main/quickstart_tutorial_2024_02_02.ipynb\" target=\"_parent\"><img src=\"https://colab.research.google.com/assets/colab-badge.svg\" alt=\"Open In Colab\"/></a>"
      ]
    },
    {
      "cell_type": "code",
      "source": [
        "# @title\n",
        "!pip install matplotlib"
      ],
      "metadata": {
        "id": "RRqr_4rhdMGW",
        "outputId": "01ea1af1-d459-4335-c485-d430e97108f7",
        "colab": {
          "base_uri": "https://localhost:8080/"
        },
        "cellView": "form"
      },
      "execution_count": 18,
      "outputs": [
        {
          "output_type": "stream",
          "name": "stdout",
          "text": [
            "Requirement already satisfied: matplotlib in c:\\users\\user\\anaconda3\\envs\\torch_book\\lib\\site-packages (3.8.2)\n",
            "Requirement already satisfied: contourpy>=1.0.1 in c:\\users\\user\\anaconda3\\envs\\torch_book\\lib\\site-packages (from matplotlib) (1.2.0)\n",
            "Requirement already satisfied: cycler>=0.10 in c:\\users\\user\\anaconda3\\envs\\torch_book\\lib\\site-packages (from matplotlib) (0.12.1)\n",
            "Requirement already satisfied: fonttools>=4.22.0 in c:\\users\\user\\anaconda3\\envs\\torch_book\\lib\\site-packages (from matplotlib) (4.47.2)\n",
            "Requirement already satisfied: kiwisolver>=1.3.1 in c:\\users\\user\\anaconda3\\envs\\torch_book\\lib\\site-packages (from matplotlib) (1.4.5)\n",
            "Requirement already satisfied: numpy<2,>=1.21 in c:\\users\\user\\anaconda3\\envs\\torch_book\\lib\\site-packages (from matplotlib) (1.26.3)\n",
            "Requirement already satisfied: packaging>=20.0 in c:\\users\\user\\anaconda3\\envs\\torch_book\\lib\\site-packages (from matplotlib) (23.1)\n",
            "Requirement already satisfied: pillow>=8 in c:\\users\\user\\anaconda3\\envs\\torch_book\\lib\\site-packages (from matplotlib) (10.0.1)\n",
            "Requirement already satisfied: pyparsing>=2.3.1 in c:\\users\\user\\anaconda3\\envs\\torch_book\\lib\\site-packages (from matplotlib) (3.1.1)\n",
            "Requirement already satisfied: python-dateutil>=2.7 in c:\\users\\user\\anaconda3\\envs\\torch_book\\lib\\site-packages (from matplotlib) (2.8.2)\n",
            "Requirement already satisfied: six>=1.5 in c:\\users\\user\\anaconda3\\envs\\torch_book\\lib\\site-packages (from python-dateutil>=2.7->matplotlib) (1.16.0)\n"
          ]
        }
      ]
    },
    {
      "cell_type": "code",
      "execution_count": 19,
      "metadata": {
        "id": "Y9P5GvQbZyds"
      },
      "outputs": [],
      "source": [
        "# For tips on running notebooks in Google Colab, see\n",
        "# https://pytorch.org/tutorials/beginner/colab\n",
        "%matplotlib inline"
      ]
    },
    {
      "cell_type": "markdown",
      "metadata": {
        "id": "IlvhBTXdZydu"
      },
      "source": [
        "\n",
        "[Learn the Basics](intro.html) ||\n",
        "**Quickstart** ||\n",
        "[Tensors](tensorqs_tutorial.html) ||\n",
        "[Datasets & DataLoaders](data_tutorial.html) ||\n",
        "[Transforms](transforms_tutorial.html) ||\n",
        "[Build Model](buildmodel_tutorial.html) ||\n",
        "[Autograd](autogradqs_tutorial.html) ||\n",
        "[Optimization](optimization_tutorial.html) ||\n",
        "[Save & Load Model](saveloadrun_tutorial.html)\n",
        "\n",
        "# Quickstart\n",
        "This section runs through the API for common tasks in machine learning. Refer to the links in each section to dive deeper.\n",
        "\n",
        "## Working with data\n",
        "PyTorch has two [primitives to work with data](https://pytorch.org/docs/stable/data.html):\n",
        "``torch.utils.data.DataLoader`` and ``torch.utils.data.Dataset``.\n",
        "``Dataset`` stores the samples and their corresponding labels, and ``DataLoader`` wraps an iterable around\n",
        "the ``Dataset``.\n"
      ]
    },
    {
      "cell_type": "code",
      "execution_count": 20,
      "metadata": {
        "id": "fNcexK0JZydw"
      },
      "outputs": [],
      "source": [
        "import torch\n",
        "from torch import nn\n",
        "from torch.utils.data import DataLoader\n",
        "from torchvision import datasets\n",
        "from torchvision.transforms import ToTensor"
      ]
    },
    {
      "cell_type": "markdown",
      "metadata": {
        "id": "Vpytu9AeZydw"
      },
      "source": [
        "PyTorch offers domain-specific libraries such as [TorchText](https://pytorch.org/text/stable/index.html),\n",
        "[TorchVision](https://pytorch.org/vision/stable/index.html), and [TorchAudio](https://pytorch.org/audio/stable/index.html),\n",
        "all of which include datasets. For this tutorial, we  will be using a TorchVision dataset.\n",
        "\n",
        "The ``torchvision.datasets`` module contains ``Dataset`` objects for many real-world vision data like\n",
        "CIFAR, COCO ([full list here](https://pytorch.org/vision/stable/datasets.html)). In this tutorial, we\n",
        "use the FashionMNIST dataset. Every TorchVision ``Dataset`` includes two arguments: ``transform`` and\n",
        "``target_transform`` to modify the samples and labels respectively.\n",
        "\n"
      ]
    },
    {
      "cell_type": "code",
      "source": [
        "import os\n",
        "import shutil\n",
        "from pathlib import Path\n",
        "\n",
        "from torch.utils.data import DataLoader\n",
        "from torchvision import datasets\n",
        "from torchvision.transforms import ToTensor, ToPILImage"
      ],
      "metadata": {
        "id": "YvnjI4u2ax3B"
      },
      "execution_count": 21,
      "outputs": []
    },
    {
      "cell_type": "markdown",
      "metadata": {
        "id": "tze6_l5OZydx"
      },
      "source": [
        "We pass the ``Dataset`` as an argument to ``DataLoader``. This wraps an iterable over our dataset, and supports\n",
        "automatic batching, sampling, shuffling and multiprocess data loading. Here we define a batch size of 64, i.e. each element\n",
        "in the dataloader iterable will return a batch of 64 features and labels.\n",
        "\n"
      ]
    },
    {
      "cell_type": "code",
      "source": [
        "import torchvision"
      ],
      "metadata": {
        "id": "7_3uyqoc35SO"
      },
      "execution_count": 22,
      "outputs": []
    },
    {
      "cell_type": "code",
      "source": [
        "# # 공개 데이터셋에서 학습 데이터를 내려받습니다.\n",
        "# training_data = datasets.MNIST(\n",
        "#     root=\"data\",\n",
        "#     train=True,\n",
        "#     download=True,\n",
        "#     transform=ToTensor(),\n",
        "# )\n",
        "\n",
        "# # 공개 데이터셋에서 테스트 데이터를 내려받습니다.\n",
        "# test_data = datasets.MNIST(\n",
        "#     root=\"data\",\n",
        "#     train=False,\n",
        "#     download=True,\n",
        "#     transform=ToTensor(),\n",
        "# )\n",
        "import torchvision\n",
        "from torchvision import transforms\n",
        "\n",
        "train_transform = transforms.Compose(\n",
        "                [\n",
        "                    transforms.Resize([256, 256]),\n",
        "                    transforms.RandomResizedCrop(224),\n",
        "                    transforms.RandomHorizontalFlip(),\n",
        "                    transforms.ToTensor(),\n",
        "                    transforms.Normalize(mean=[0.485, 0.456, 0.406], std=[0.229, 0.224, 0.225]),\n",
        "                ])\n",
        "\n",
        "test_transform = transforms.Compose(\n",
        "                [\n",
        "                    transforms.Resize([256, 256]),\n",
        "                    transforms.CenterCrop(224),\n",
        "                    #transforms.RandomHorizontalFlip(),\n",
        "                    transforms.ToTensor(),\n",
        "                    transforms.Normalize(mean=[0.485, 0.456, 0.406], std=[0.229, 0.224, 0.225]),\n",
        "                ])\n",
        "\n",
        "# data_path = 'catanddog/train/'\n",
        "# training_data = torchvision.datasets.ImageFolder(\n",
        "#     data_path,\n",
        "#     transform=train_transform\n",
        "# )\n",
        "\n",
        "# data_path = 'catanddog/test/'\n",
        "# test_data = torchvision.datasets.ImageFolder(\n",
        "#     data_path,\n",
        "#     transform=test_transform\n",
        "# )\n"
      ],
      "metadata": {
        "id": "XkvMs4s7cYOq"
      },
      "execution_count": 23,
      "outputs": []
    },
    {
      "cell_type": "code",
      "source": [
        "import os\n",
        "from pathlib import Path\n",
        "\n",
        "\n",
        "# catanddog\\train\\Cat\n",
        "# catanddog\\train\\Dog\n",
        "\n",
        "def read_image(path):\n",
        "  images = []\n",
        "  labels = []\n",
        "  for dir in os.listdir(path):\n",
        "    image_dir = Path(path, dir)\n",
        "    for f in os.listdir(image_dir):\n",
        "      images.append(str(Path(image_dir, f)))\n",
        "      labels.append(str(image_dir).split(os.sep)[-1])\n",
        "  return images, labels\n",
        "\n",
        "path = Path('/data/catanddog', 'train/')\n",
        "images, labels = read_image(path)\n",
        "print(len(images), images[0], len(labels), labels[0])\n",
        "\n",
        "\n",
        "\n",
        "path = Path('/data/dogs-vs-cats')\n",
        "images, labels = read_image(path)\n",
        "print(len(images), len(labels))"
      ],
      "metadata": {
        "colab": {
          "base_uri": "https://localhost:8080/"
        },
        "id": "20jOBNcXv8_T",
        "outputId": "504dcd17-615a-43ba-ad2e-5f3c5e16d991"
      },
      "execution_count": 24,
      "outputs": [
        {
          "output_type": "stream",
          "name": "stdout",
          "text": [
            "385 \\data\\catanddog\\train\\Cat\\0.jpg 385 Cat\n",
            "502 502\n"
          ]
        }
      ]
    },
    {
      "cell_type": "code",
      "source": [
        "import os\n",
        "from pathlib import Path\n",
        "\n",
        "# dogs-vs-cats\\Cat\n",
        "# dogs-vs-cats\\Dog\n",
        "\n",
        "path = Path('/data/dogs-vs-cats')\n",
        "\n",
        "for dir in os.listdir(path):\n",
        "  image_dir = Path(path, dir)\n",
        "  for f in os.listdir(image_dir):\n",
        "    print(Path(image_dir, f))\n",
        "    print(str(image_dir).split(os.sep)[-1])\n",
        "    break"
      ],
      "metadata": {
        "colab": {
          "base_uri": "https://localhost:8080/"
        },
        "id": "V_tQy_86xqOk",
        "outputId": "3f975a45-f38a-4df4-e442-5374a1762c4c"
      },
      "execution_count": 25,
      "outputs": [
        {
          "output_type": "stream",
          "name": "stdout",
          "text": [
            "\\data\\dogs-vs-cats\\Cat\\cat.0.jpg\n",
            "Cat\n",
            "\\data\\dogs-vs-cats\\Dog\\dog.0.jpg\n",
            "Dog\n"
          ]
        }
      ]
    },
    {
      "cell_type": "code",
      "source": [
        "!wget --no-check-certificate 'https://docs.google.com/uc?export=download&id=1mRIxd83kR3F6fBSozYaYSlqrN8hSxfIc' -O dogs-vs-cats.zip"
      ],
      "metadata": {
        "id": "zIcoPf5F3t9m",
        "colab": {
          "base_uri": "https://localhost:8080/"
        },
        "outputId": "23a1a1ef-fbd0-463e-f35d-1b8a9602de43"
      },
      "execution_count": 26,
      "outputs": [
        {
          "output_type": "stream",
          "name": "stderr",
          "text": [
            "'wget'은(는) 내부 또는 외부 명령, 실행할 수 있는 프로그램, 또는\n",
            "배치 파일이 아닙니다.\n",
            "'id'은(는) 내부 또는 외부 명령, 실행할 수 있는 프로그램, 또는\n",
            "배치 파일이 아닙니다.\n"
          ]
        }
      ]
    },
    {
      "cell_type": "code",
      "source": [
        "!unzip dogs-vs-cats.zip -d dogs-vs-cats"
      ],
      "metadata": {
        "id": "GOihD88_3u6V",
        "colab": {
          "base_uri": "https://localhost:8080/"
        },
        "outputId": "8f565bbe-4332-4e63-b0af-831af0f700ae"
      },
      "execution_count": 27,
      "outputs": [
        {
          "output_type": "stream",
          "name": "stderr",
          "text": [
            "'unzip'은(는) 내부 또는 외부 명령, 실행할 수 있는 프로그램, 또는\n",
            "배치 파일이 아닙니다.\n"
          ]
        }
      ]
    },
    {
      "cell_type": "code",
      "source": [
        "from PIL import Image\n",
        "from torch.utils.data import Dataset\n",
        "\n",
        "class CatandDogDataset(Dataset):\n",
        "  classes = {\n",
        "      'Cat': 0,\n",
        "      'Dog': 1,\n",
        "      }\n",
        "\n",
        "  def __init__(self, file_path, transform=None):\n",
        "    self.file_path = file_path\n",
        "    self.transform = transform\n",
        "    self.images, self.labels = self.__read_images()\n",
        "\n",
        "  def __read_images(self):\n",
        "    images = []\n",
        "    labels = []\n",
        "    for dir in os.listdir(self.file_path):\n",
        "      image_dir = Path(self.file_path, dir)\n",
        "      for f in os.listdir(image_dir):\n",
        "        images.append(str(Path(image_dir, f)))\n",
        "        labels.append(str(image_dir).split(os.sep)[-1])\n",
        "    return images, labels\n",
        "\n",
        "  def __len__(self):\n",
        "    return len(self.images)\n",
        "\n",
        "  def __getitem__(self, idx):\n",
        "    image_path = self.images[idx]\n",
        "    label = self.classes[self.labels[idx]]\n",
        "    #print(type(image_path), image_path)\n",
        "    #print(type(label), label)\n",
        "    img = Image.open(image_path)\n",
        "    img = self.transform(img)\n",
        "\n",
        "    return img, label"
      ],
      "metadata": {
        "id": "tXBnSmgiv8Q5"
      },
      "execution_count": 28,
      "outputs": []
    },
    {
      "cell_type": "code",
      "source": [
        "path = Path('/data/dogs-vs-cats')\n",
        "len(CatandDogDataset(path, transform=train_transform))"
      ],
      "metadata": {
        "id": "76aYZZ5x1IGd",
        "colab": {
          "base_uri": "https://localhost:8080/"
        },
        "outputId": "dc5512ce-5ff8-4eb0-8955-f186ca8003b3"
      },
      "execution_count": 29,
      "outputs": [
        {
          "output_type": "execute_result",
          "data": {
            "text/plain": [
              "502"
            ]
          },
          "metadata": {},
          "execution_count": 29
        }
      ]
    },
    {
      "cell_type": "code",
      "source": [
        "import torch\n",
        "from torch.utils.data import random_split\n",
        "\n",
        "path = Path('/data/dogs-vs-cats')\n",
        "dataset = CatandDogDataset(path, transform=train_transform)"
      ],
      "metadata": {
        "id": "znlSXI5R3Vha"
      },
      "execution_count": 30,
      "outputs": []
    },
    {
      "cell_type": "code",
      "source": [
        "img, label = dataset.__getitem__(0)\n",
        "img.shape, label"
      ],
      "metadata": {
        "colab": {
          "base_uri": "https://localhost:8080/"
        },
        "id": "DFRUQkVF3WAz",
        "outputId": "86ebaa7e-67fa-411b-b7df-04e072504e9e"
      },
      "execution_count": 31,
      "outputs": [
        {
          "output_type": "execute_result",
          "data": {
            "text/plain": [
              "(torch.Size([3, 224, 224]), 0)"
            ]
          },
          "metadata": {},
          "execution_count": 31
        }
      ]
    },
    {
      "cell_type": "code",
      "source": [
        "#training_data = CatandDogDataset(data_path, transform=train_transform)[:300]\n",
        "#test_data = CatandDogDataset(data_path, transform=train_transform)[300:]\n",
        "train_test_ratio = 0.8\n",
        "n_train = int(len(dataset) * train_test_ratio)\n",
        "n_test = len(dataset) - n_train\n",
        "training_data, test_data = torch.utils.data.random_split(dataset, [n_train, n_test])\n",
        "test_data.transform = test_transform\n",
        "len(training_data), len(test_data)"
      ],
      "metadata": {
        "colab": {
          "base_uri": "https://localhost:8080/"
        },
        "id": "8WU9R55U0gQH",
        "outputId": "92661701-edc2-461a-b63e-58e428c91841"
      },
      "execution_count": 32,
      "outputs": [
        {
          "output_type": "execute_result",
          "data": {
            "text/plain": [
              "(401, 101)"
            ]
          },
          "metadata": {},
          "execution_count": 32
        }
      ]
    },
    {
      "cell_type": "code",
      "execution_count": 33,
      "metadata": {
        "id": "Qwkahwz-Zydx",
        "colab": {
          "base_uri": "https://localhost:8080/"
        },
        "outputId": "6cf46f1c-d85c-4fff-a4f4-c2691404817a"
      },
      "outputs": [
        {
          "output_type": "stream",
          "name": "stdout",
          "text": [
            "Shape of X [N, C, H, W]: torch.Size([32, 3, 224, 224]), type: torch.float32, <class 'torch.Tensor'>\n",
            "Shape of y: tensor([1, 1, 1, 1, 1, 0, 1, 1, 1, 1, 1, 0, 0, 1, 1, 0, 1, 0, 1, 0, 0, 1, 1, 0,\n",
            "        1, 1, 0, 0, 1, 1, 1, 1]), torch.Size([32]) torch.int64\n",
            "Shape of X [N, C, H, W]: torch.Size([32, 3, 224, 224]), type: torch.float32, <class 'torch.Tensor'>\n",
            "Shape of y: tensor([0, 1, 1, 1, 0, 1, 0, 1, 0, 0, 0, 1, 1, 1, 0, 0, 0, 0, 1, 0, 0, 1, 0, 1,\n",
            "        0, 0, 1, 1, 1, 1, 1, 0]), torch.Size([32]) torch.int64\n"
          ]
        }
      ],
      "source": [
        "batch_size = 32\n",
        "\n",
        "# Create data loaders.\n",
        "train_dataloader = DataLoader(training_data, batch_size=batch_size, shuffle=True)\n",
        "test_dataloader = DataLoader(test_data, batch_size=batch_size, shuffle=True)\n",
        "\n",
        "for X, y in train_dataloader:\n",
        "    print(f\"Shape of X [N, C, H, W]: {X.shape}, type: {X.dtype}, {type(X)}\")\n",
        "    print(f\"Shape of y: {y}, {y.shape} {y.dtype}\")\n",
        "    break\n",
        "\n",
        "for X, y in test_dataloader:\n",
        "    print(f\"Shape of X [N, C, H, W]: {X.shape}, type: {X.dtype}, {type(X)}\")\n",
        "    print(f\"Shape of y: {y}, {y.shape} {y.dtype}\")\n",
        "    break"
      ]
    },
    {
      "cell_type": "markdown",
      "metadata": {
        "id": "fvTanRCoZydx"
      },
      "source": [
        "Read more about [loading data in PyTorch](data_tutorial.html).\n",
        "\n",
        "\n"
      ]
    },
    {
      "cell_type": "markdown",
      "metadata": {
        "id": "RU6VgnxIZydy"
      },
      "source": [
        "--------------\n",
        "\n",
        "\n"
      ]
    },
    {
      "cell_type": "markdown",
      "metadata": {
        "id": "7RGKuuKEZydy"
      },
      "source": [
        "## Creating Models\n",
        "To define a neural network in PyTorch, we create a class that inherits\n",
        "from [nn.Module](https://pytorch.org/docs/stable/generated/torch.nn.Module.html). We define the layers of the network\n",
        "in the ``__init__`` function and specify how data will pass through the network in the ``forward`` function. To accelerate\n",
        "operations in the neural network, we move it to the GPU or MPS if available.\n",
        "\n"
      ]
    },
    {
      "cell_type": "code",
      "execution_count": 34,
      "metadata": {
        "id": "qPIdQj_-Zydy",
        "outputId": "4d7b9212-ab35-4b54-94be-7ee5348c8ca9",
        "colab": {
          "base_uri": "https://localhost:8080/"
        }
      },
      "outputs": [
        {
          "output_type": "stream",
          "name": "stdout",
          "text": [
            "Using cuda device\n"
          ]
        }
      ],
      "source": [
        "# Get cpu, gpu or mps device for training.\n",
        "device = (\n",
        "    \"cuda\"\n",
        "    if torch.cuda.is_available()\n",
        "    else \"mps\"\n",
        "    if torch.backends.mps.is_available()\n",
        "    else \"cpu\"\n",
        ")\n",
        "print(f\"Using {device} device\")\n",
        "\n",
        "import torch\n",
        "from torch import nn\n",
        "\n",
        "\n",
        "class LeNet(nn.Module):\n",
        "  def __init__(self):\n",
        "    super(LeNet, self).__init__()\n",
        "    self.features = nn.Sequential(\n",
        "        nn.Conv2d(3, 6, 5, padding='same'),\n",
        "        nn.BatchNorm2d(6),\n",
        "        nn.ReLU(),\n",
        "        nn.MaxPool2d(2),\n",
        "        nn.Conv2d(6, 16, 5, padding='same'),\n",
        "        nn.ReLU(),\n",
        "        nn.MaxPool2d(2),\n",
        "        #nn.Conv2d(16, 120, 7),\n",
        "        #nn.ReLU(),\n",
        "    )\n",
        "    #self.maxpool = nn.MaxPool2d(7)\n",
        "    self.classifier = nn.Sequential(\n",
        "        nn.Dropout(p=0.5),\n",
        "        nn.Flatten(),\n",
        "        nn.Linear(16*56*56, 256),\n",
        "        nn.ReLU(),\n",
        "        nn.Dropout(p=0.5),\n",
        "        nn.Linear(256, 64),\n",
        "        nn.ReLU(),\n",
        "        nn.Dropout(p=0.5),\n",
        "        #nn.Sigmoid(),\n",
        "        nn.Linear(64, 2),\n",
        "        #nn.Softmax(dim=1)\n",
        "    )\n",
        "\n",
        "  def forward(self, x):\n",
        "    features = self.features(x)\n",
        "    #print(features.shape)\n",
        "    #features = self.maxpool(features)\n",
        "    #print(features.shape)\n",
        "    out = self.classifier(features)\n",
        "    #print(out.shape)\n",
        "    return out\n"
      ]
    },
    {
      "cell_type": "code",
      "source": [
        "input = torch.randn(32, 3, 224, 224).to(device)\n",
        "model = LeNet().to(device)\n",
        "output = model(input)\n",
        "type(output), len(output), output.shape"
      ],
      "metadata": {
        "colab": {
          "base_uri": "https://localhost:8080/"
        },
        "id": "SNoJYVBUdHb1",
        "outputId": "1cd292a0-9a60-4e3e-8d3b-c498ac1aaa5b"
      },
      "execution_count": 35,
      "outputs": [
        {
          "output_type": "execute_result",
          "data": {
            "text/plain": [
              "(torch.Tensor, 32, torch.Size([32, 2]))"
            ]
          },
          "metadata": {},
          "execution_count": 35
        }
      ]
    },
    {
      "cell_type": "code",
      "source": [
        "model"
      ],
      "metadata": {
        "colab": {
          "base_uri": "https://localhost:8080/"
        },
        "id": "Egb6TW5cdhDI",
        "outputId": "846e413b-ce80-4929-eda9-d4649247829a"
      },
      "execution_count": 36,
      "outputs": [
        {
          "output_type": "execute_result",
          "data": {
            "text/plain": [
              "LeNet(\n",
              "  (features): Sequential(\n",
              "    (0): Conv2d(3, 6, kernel_size=(5, 5), stride=(1, 1), padding=same)\n",
              "    (1): BatchNorm2d(6, eps=1e-05, momentum=0.1, affine=True, track_running_stats=True)\n",
              "    (2): ReLU()\n",
              "    (3): MaxPool2d(kernel_size=2, stride=2, padding=0, dilation=1, ceil_mode=False)\n",
              "    (4): Conv2d(6, 16, kernel_size=(5, 5), stride=(1, 1), padding=same)\n",
              "    (5): ReLU()\n",
              "    (6): MaxPool2d(kernel_size=2, stride=2, padding=0, dilation=1, ceil_mode=False)\n",
              "  )\n",
              "  (classifier): Sequential(\n",
              "    (0): Dropout(p=0.5, inplace=False)\n",
              "    (1): Flatten(start_dim=1, end_dim=-1)\n",
              "    (2): Linear(in_features=50176, out_features=256, bias=True)\n",
              "    (3): ReLU()\n",
              "    (4): Dropout(p=0.5, inplace=False)\n",
              "    (5): Linear(in_features=256, out_features=64, bias=True)\n",
              "    (6): ReLU()\n",
              "    (7): Dropout(p=0.5, inplace=False)\n",
              "    (8): Linear(in_features=64, out_features=2, bias=True)\n",
              "  )\n",
              ")"
            ]
          },
          "metadata": {},
          "execution_count": 36
        }
      ]
    },
    {
      "cell_type": "code",
      "source": [
        "# from torchvision.models import list_models\n",
        "# #torchvision.models.list_models()\n",
        "# list_models()"
      ],
      "metadata": {
        "id": "eAeKk9Njt75L"
      },
      "execution_count": 37,
      "outputs": []
    },
    {
      "cell_type": "code",
      "source": [
        "from torchvision import models\n",
        "from torchvision.models import resnet18, ResNet18_Weights\n",
        "\n",
        "model_ft = models.resnet50(weights='IMAGENET1K_V1')\n",
        "\n",
        "for param in model_ft.parameters():\n",
        "    param.requires_grad = False\n",
        "\n",
        "classfier = nn.Sequential(\n",
        "  nn.Linear(2048, 256),\n",
        "  nn.Dropout(),\n",
        "  nn.ReLU(),\n",
        "  nn.Linear(256, 64),\n",
        "  nn.Dropout(),\n",
        "  nn.ReLU(),\n",
        "  nn.Linear(64, 2),\n",
        "  nn.Softmax(dim=1)\n",
        ")\n",
        "\n",
        "model_ft.fc = classfier\n",
        "model = model_ft.to(device)"
      ],
      "metadata": {
        "id": "uhIX2ezknK_g"
      },
      "execution_count": 38,
      "outputs": []
    },
    {
      "cell_type": "code",
      "source": [
        "input = torch.randn(32, 3, 224, 224).to(device)\n",
        "output = model(input)\n",
        "type(output), len(output), output.shape"
      ],
      "metadata": {
        "colab": {
          "base_uri": "https://localhost:8080/"
        },
        "id": "Qwa6YmEGoPfQ",
        "outputId": "2a39b474-ec1d-48a5-ac8d-cbcb0964010b"
      },
      "execution_count": 39,
      "outputs": [
        {
          "output_type": "execute_result",
          "data": {
            "text/plain": [
              "(torch.Tensor, 32, torch.Size([32, 2]))"
            ]
          },
          "metadata": {},
          "execution_count": 39
        }
      ]
    },
    {
      "cell_type": "code",
      "source": [
        "# !pip install torchinfo"
      ],
      "metadata": {
        "id": "rJg0gKOppR17"
      },
      "execution_count": 40,
      "outputs": []
    },
    {
      "cell_type": "code",
      "source": [
        "# from torchinfo import summary\n",
        "\n",
        "# def summary_model(model):\n",
        "#   print(summary(model=model, input_size=(32, 3, 224, 224), col_width=20,\n",
        "#                     col_names=['input_size', 'output_size', 'num_params', 'trainable'], row_settings=['var_names'], verbose=0))\n",
        "\n",
        "\n",
        "# summary_model(model)"
      ],
      "metadata": {
        "id": "d52SfoS4pTiT"
      },
      "execution_count": 41,
      "outputs": []
    },
    {
      "cell_type": "markdown",
      "metadata": {
        "id": "ZzXpfiXUZydy"
      },
      "source": [
        "Read more about [building neural networks in PyTorch](buildmodel_tutorial.html).\n",
        "\n",
        "\n"
      ]
    },
    {
      "cell_type": "code",
      "source": [
        "# input = torch.randn(64, 1, 28, 28).to(device)\n",
        "# output = model(input)\n",
        "# output.dtype, output.shape"
      ],
      "metadata": {
        "id": "i5j_lhFKetfE"
      },
      "execution_count": 42,
      "outputs": []
    },
    {
      "cell_type": "markdown",
      "metadata": {
        "id": "-AzJaxieZydz"
      },
      "source": [
        "--------------\n",
        "\n",
        "\n"
      ]
    },
    {
      "cell_type": "markdown",
      "metadata": {
        "id": "rGIeZr6uZydz"
      },
      "source": [
        "## Optimizing the Model Parameters\n",
        "To train a model, we need a [loss function](https://pytorch.org/docs/stable/nn.html#loss-functions)\n",
        "and an [optimizer](https://pytorch.org/docs/stable/optim.html).\n",
        "\n"
      ]
    },
    {
      "cell_type": "markdown",
      "source": [
        "https://miro.medium.com/v2/resize:fit:1400/format:webp/1*qe6nYlH8zsmUdScyHMhRCQ.png"
      ],
      "metadata": {
        "id": "amCsniuW7GJO"
      }
    },
    {
      "cell_type": "code",
      "execution_count": 43,
      "metadata": {
        "id": "0rEVruv5Zydz"
      },
      "outputs": [],
      "source": [
        "from torch.optim.lr_scheduler import StepLR\n",
        "\n",
        "loss_fn = nn.CrossEntropyLoss()\n",
        "optimizer = torch.optim.Adam(model.parameters(), lr=1e-3)\n",
        "scheduler = StepLR(optimizer, step_size=3, gamma=0.1)"
      ]
    },
    {
      "cell_type": "markdown",
      "metadata": {
        "id": "5xw7rjXlZydz"
      },
      "source": [
        "In a single training loop, the model makes predictions on the training dataset (fed to it in batches), and\n",
        "backpropagates the prediction error to adjust the model's parameters.\n",
        "\n"
      ]
    },
    {
      "cell_type": "code",
      "execution_count": 44,
      "metadata": {
        "id": "uH9DilYpZydz"
      },
      "outputs": [],
      "source": [
        "def train(dataloader, model, loss_fn, optimizer):\n",
        "  size = len(dataloader.dataset)\n",
        "  model.train()\n",
        "  for batch, (X, y) in enumerate(dataloader):\n",
        "    X, y = X.to(device), y.to(device)\n",
        "\n",
        "    # Compute prediction error\n",
        "    pred = model(X)\n",
        "    loss = loss_fn(pred, y)\n",
        "    print(f'X: {X.dtype},{type(X)}, {X.shape}')\n",
        "    #print(f'y: {y.dtype},{type(y)}, {y.shape}')\n",
        "    #print(f'pred: {pred.dtype},{type(pred)}, {pred.shape}')\n",
        "    #print(f'loss: {loss.dtype},{type(loss)}, {loss.shape}')\n",
        "\n",
        "    # Backpropagation\n",
        "    loss.backward()\n",
        "    optimizer.step()\n",
        "    optimizer.zero_grad()\n",
        "\n",
        "    #if batch % 100 == 0:\n",
        "    loss, current = loss.item(), (batch + 1) * len(X)\n",
        "    print(f\"loss: {loss:>7f}  [{current:>5d}/{size:>5d}]\")"
      ]
    },
    {
      "cell_type": "markdown",
      "metadata": {
        "id": "-Rzxscl-Zydz"
      },
      "source": [
        "We also check the model's performance against the test dataset to ensure it is learning.\n",
        "\n"
      ]
    },
    {
      "cell_type": "code",
      "execution_count": 45,
      "metadata": {
        "id": "4xNTok08Zydz"
      },
      "outputs": [],
      "source": [
        "def test(dataloader, model, loss_fn):\n",
        "    size = len(dataloader.dataset)\n",
        "    num_batches = len(dataloader)\n",
        "    model.eval()\n",
        "    test_loss, correct = 0, 0\n",
        "    with torch.no_grad():\n",
        "        for X, y in dataloader:\n",
        "            X, y = X.to(device), y.to(device)\n",
        "            pred = model(X)\n",
        "            test_loss += loss_fn(pred, y).item()\n",
        "            correct += (pred.argmax(1) == y).type(torch.float).sum().item()\n",
        "    test_loss /= num_batches\n",
        "    correct /= size\n",
        "    print(f\"Test Error: \\n Accuracy: {(100*correct):>0.1f}%, Avg loss: {test_loss:>8f} \\n\")"
      ]
    },
    {
      "cell_type": "markdown",
      "metadata": {
        "id": "uqeYU1vrZydz"
      },
      "source": [
        "The training process is conducted over several iterations (*epochs*). During each epoch, the model learns\n",
        "parameters to make better predictions. We print the model's accuracy and loss at each epoch; we'd like to see the\n",
        "accuracy increase and the loss decrease with every epoch.\n",
        "\n"
      ]
    },
    {
      "cell_type": "code",
      "execution_count": 46,
      "metadata": {
        "id": "Y_dqaV60Zydz",
        "outputId": "68ee9469-efc3-45f0-b761-66d11276769c",
        "colab": {
          "base_uri": "https://localhost:8080/"
        }
      },
      "outputs": [
        {
          "output_type": "stream",
          "name": "stdout",
          "text": [
            "Epoch 1\n",
            "-------------------------------\n",
            "X: torch.float32,<class 'torch.Tensor'>, torch.Size([32, 3, 224, 224])\n",
            "loss: 0.685549  [   32/  401]\n",
            "X: torch.float32,<class 'torch.Tensor'>, torch.Size([32, 3, 224, 224])\n",
            "loss: 0.713092  [   64/  401]\n",
            "X: torch.float32,<class 'torch.Tensor'>, torch.Size([32, 3, 224, 224])\n",
            "loss: 0.672678  [   96/  401]\n",
            "X: torch.float32,<class 'torch.Tensor'>, torch.Size([32, 3, 224, 224])\n",
            "loss: 0.667352  [  128/  401]\n",
            "X: torch.float32,<class 'torch.Tensor'>, torch.Size([32, 3, 224, 224])\n",
            "loss: 0.727280  [  160/  401]\n",
            "X: torch.float32,<class 'torch.Tensor'>, torch.Size([32, 3, 224, 224])\n",
            "loss: 0.720412  [  192/  401]\n",
            "X: torch.float32,<class 'torch.Tensor'>, torch.Size([32, 3, 224, 224])\n",
            "loss: 0.675074  [  224/  401]\n",
            "X: torch.float32,<class 'torch.Tensor'>, torch.Size([32, 3, 224, 224])\n",
            "loss: 0.616828  [  256/  401]\n",
            "X: torch.float32,<class 'torch.Tensor'>, torch.Size([32, 3, 224, 224])\n",
            "loss: 0.634735  [  288/  401]\n",
            "X: torch.float32,<class 'torch.Tensor'>, torch.Size([32, 3, 224, 224])\n",
            "loss: 0.598775  [  320/  401]\n",
            "X: torch.float32,<class 'torch.Tensor'>, torch.Size([32, 3, 224, 224])\n",
            "loss: 0.621446  [  352/  401]\n",
            "X: torch.float32,<class 'torch.Tensor'>, torch.Size([32, 3, 224, 224])\n",
            "loss: 0.602727  [  384/  401]\n",
            "X: torch.float32,<class 'torch.Tensor'>, torch.Size([17, 3, 224, 224])\n",
            "loss: 0.682919  [  221/  401]\n",
            "Epoch 2\n",
            "-------------------------------\n",
            "X: torch.float32,<class 'torch.Tensor'>, torch.Size([32, 3, 224, 224])\n",
            "loss: 0.623904  [   32/  401]\n",
            "X: torch.float32,<class 'torch.Tensor'>, torch.Size([32, 3, 224, 224])\n",
            "loss: 0.609257  [   64/  401]\n",
            "X: torch.float32,<class 'torch.Tensor'>, torch.Size([32, 3, 224, 224])\n",
            "loss: 0.579581  [   96/  401]\n",
            "X: torch.float32,<class 'torch.Tensor'>, torch.Size([32, 3, 224, 224])\n",
            "loss: 0.570718  [  128/  401]\n",
            "X: torch.float32,<class 'torch.Tensor'>, torch.Size([32, 3, 224, 224])\n",
            "loss: 0.563911  [  160/  401]\n",
            "X: torch.float32,<class 'torch.Tensor'>, torch.Size([32, 3, 224, 224])\n",
            "loss: 0.558344  [  192/  401]\n",
            "X: torch.float32,<class 'torch.Tensor'>, torch.Size([32, 3, 224, 224])\n",
            "loss: 0.471370  [  224/  401]\n",
            "X: torch.float32,<class 'torch.Tensor'>, torch.Size([32, 3, 224, 224])\n",
            "loss: 0.482518  [  256/  401]\n",
            "X: torch.float32,<class 'torch.Tensor'>, torch.Size([32, 3, 224, 224])\n",
            "loss: 0.509907  [  288/  401]\n",
            "X: torch.float32,<class 'torch.Tensor'>, torch.Size([32, 3, 224, 224])\n",
            "loss: 0.539604  [  320/  401]\n",
            "X: torch.float32,<class 'torch.Tensor'>, torch.Size([32, 3, 224, 224])\n",
            "loss: 0.517527  [  352/  401]\n",
            "X: torch.float32,<class 'torch.Tensor'>, torch.Size([32, 3, 224, 224])\n",
            "loss: 0.432560  [  384/  401]\n",
            "X: torch.float32,<class 'torch.Tensor'>, torch.Size([17, 3, 224, 224])\n",
            "loss: 0.414692  [  221/  401]\n",
            "Epoch 3\n",
            "-------------------------------\n",
            "X: torch.float32,<class 'torch.Tensor'>, torch.Size([32, 3, 224, 224])\n",
            "loss: 0.397554  [   32/  401]\n",
            "X: torch.float32,<class 'torch.Tensor'>, torch.Size([32, 3, 224, 224])\n",
            "loss: 0.448969  [   64/  401]\n",
            "X: torch.float32,<class 'torch.Tensor'>, torch.Size([32, 3, 224, 224])\n",
            "loss: 0.385928  [   96/  401]\n",
            "X: torch.float32,<class 'torch.Tensor'>, torch.Size([32, 3, 224, 224])\n",
            "loss: 0.437677  [  128/  401]\n",
            "X: torch.float32,<class 'torch.Tensor'>, torch.Size([32, 3, 224, 224])\n",
            "loss: 0.431682  [  160/  401]\n",
            "X: torch.float32,<class 'torch.Tensor'>, torch.Size([32, 3, 224, 224])\n",
            "loss: 0.438179  [  192/  401]\n",
            "X: torch.float32,<class 'torch.Tensor'>, torch.Size([32, 3, 224, 224])\n",
            "loss: 0.415727  [  224/  401]\n",
            "X: torch.float32,<class 'torch.Tensor'>, torch.Size([32, 3, 224, 224])\n",
            "loss: 0.379672  [  256/  401]\n",
            "X: torch.float32,<class 'torch.Tensor'>, torch.Size([32, 3, 224, 224])\n",
            "loss: 0.438387  [  288/  401]\n",
            "X: torch.float32,<class 'torch.Tensor'>, torch.Size([32, 3, 224, 224])\n",
            "loss: 0.394613  [  320/  401]\n",
            "X: torch.float32,<class 'torch.Tensor'>, torch.Size([32, 3, 224, 224])\n",
            "loss: 0.406053  [  352/  401]\n",
            "X: torch.float32,<class 'torch.Tensor'>, torch.Size([32, 3, 224, 224])\n",
            "loss: 0.442493  [  384/  401]\n",
            "X: torch.float32,<class 'torch.Tensor'>, torch.Size([17, 3, 224, 224])\n",
            "loss: 0.409305  [  221/  401]\n",
            "Epoch 4\n",
            "-------------------------------\n",
            "X: torch.float32,<class 'torch.Tensor'>, torch.Size([32, 3, 224, 224])\n",
            "loss: 0.396538  [   32/  401]\n",
            "X: torch.float32,<class 'torch.Tensor'>, torch.Size([32, 3, 224, 224])\n",
            "loss: 0.359759  [   64/  401]\n",
            "X: torch.float32,<class 'torch.Tensor'>, torch.Size([32, 3, 224, 224])\n",
            "loss: 0.369312  [   96/  401]\n",
            "X: torch.float32,<class 'torch.Tensor'>, torch.Size([32, 3, 224, 224])\n",
            "loss: 0.447330  [  128/  401]\n",
            "X: torch.float32,<class 'torch.Tensor'>, torch.Size([32, 3, 224, 224])\n",
            "loss: 0.406905  [  160/  401]\n",
            "X: torch.float32,<class 'torch.Tensor'>, torch.Size([32, 3, 224, 224])\n",
            "loss: 0.429346  [  192/  401]\n",
            "X: torch.float32,<class 'torch.Tensor'>, torch.Size([32, 3, 224, 224])\n",
            "loss: 0.404582  [  224/  401]\n",
            "X: torch.float32,<class 'torch.Tensor'>, torch.Size([32, 3, 224, 224])\n",
            "loss: 0.397104  [  256/  401]\n",
            "X: torch.float32,<class 'torch.Tensor'>, torch.Size([32, 3, 224, 224])\n",
            "loss: 0.379163  [  288/  401]\n",
            "X: torch.float32,<class 'torch.Tensor'>, torch.Size([32, 3, 224, 224])\n",
            "loss: 0.379028  [  320/  401]\n",
            "X: torch.float32,<class 'torch.Tensor'>, torch.Size([32, 3, 224, 224])\n",
            "loss: 0.462429  [  352/  401]\n",
            "X: torch.float32,<class 'torch.Tensor'>, torch.Size([32, 3, 224, 224])\n",
            "loss: 0.475987  [  384/  401]\n",
            "X: torch.float32,<class 'torch.Tensor'>, torch.Size([17, 3, 224, 224])\n",
            "loss: 0.447003  [  221/  401]\n",
            "Epoch 5\n",
            "-------------------------------\n",
            "X: torch.float32,<class 'torch.Tensor'>, torch.Size([32, 3, 224, 224])\n",
            "loss: 0.392468  [   32/  401]\n",
            "X: torch.float32,<class 'torch.Tensor'>, torch.Size([32, 3, 224, 224])\n",
            "loss: 0.418699  [   64/  401]\n",
            "X: torch.float32,<class 'torch.Tensor'>, torch.Size([32, 3, 224, 224])\n",
            "loss: 0.373636  [   96/  401]\n",
            "X: torch.float32,<class 'torch.Tensor'>, torch.Size([32, 3, 224, 224])\n",
            "loss: 0.457068  [  128/  401]\n",
            "X: torch.float32,<class 'torch.Tensor'>, torch.Size([32, 3, 224, 224])\n",
            "loss: 0.446710  [  160/  401]\n",
            "X: torch.float32,<class 'torch.Tensor'>, torch.Size([32, 3, 224, 224])\n",
            "loss: 0.413561  [  192/  401]\n",
            "X: torch.float32,<class 'torch.Tensor'>, torch.Size([32, 3, 224, 224])\n",
            "loss: 0.398665  [  224/  401]\n",
            "X: torch.float32,<class 'torch.Tensor'>, torch.Size([32, 3, 224, 224])\n",
            "loss: 0.362019  [  256/  401]\n",
            "X: torch.float32,<class 'torch.Tensor'>, torch.Size([32, 3, 224, 224])\n",
            "loss: 0.436073  [  288/  401]\n",
            "X: torch.float32,<class 'torch.Tensor'>, torch.Size([32, 3, 224, 224])\n",
            "loss: 0.522708  [  320/  401]\n",
            "X: torch.float32,<class 'torch.Tensor'>, torch.Size([32, 3, 224, 224])\n",
            "loss: 0.413115  [  352/  401]\n",
            "X: torch.float32,<class 'torch.Tensor'>, torch.Size([32, 3, 224, 224])\n",
            "loss: 0.364943  [  384/  401]\n",
            "X: torch.float32,<class 'torch.Tensor'>, torch.Size([17, 3, 224, 224])\n",
            "loss: 0.495976  [  221/  401]\n",
            "Epoch 6\n",
            "-------------------------------\n",
            "X: torch.float32,<class 'torch.Tensor'>, torch.Size([32, 3, 224, 224])\n",
            "loss: 0.445122  [   32/  401]\n",
            "X: torch.float32,<class 'torch.Tensor'>, torch.Size([32, 3, 224, 224])\n",
            "loss: 0.379002  [   64/  401]\n",
            "X: torch.float32,<class 'torch.Tensor'>, torch.Size([32, 3, 224, 224])\n",
            "loss: 0.442996  [   96/  401]\n",
            "X: torch.float32,<class 'torch.Tensor'>, torch.Size([32, 3, 224, 224])\n",
            "loss: 0.407530  [  128/  401]\n",
            "X: torch.float32,<class 'torch.Tensor'>, torch.Size([32, 3, 224, 224])\n",
            "loss: 0.356887  [  160/  401]\n",
            "X: torch.float32,<class 'torch.Tensor'>, torch.Size([32, 3, 224, 224])\n",
            "loss: 0.415894  [  192/  401]\n",
            "X: torch.float32,<class 'torch.Tensor'>, torch.Size([32, 3, 224, 224])\n",
            "loss: 0.410000  [  224/  401]\n",
            "X: torch.float32,<class 'torch.Tensor'>, torch.Size([32, 3, 224, 224])\n",
            "loss: 0.391529  [  256/  401]\n",
            "X: torch.float32,<class 'torch.Tensor'>, torch.Size([32, 3, 224, 224])\n",
            "loss: 0.409085  [  288/  401]\n",
            "X: torch.float32,<class 'torch.Tensor'>, torch.Size([32, 3, 224, 224])\n",
            "loss: 0.407445  [  320/  401]\n",
            "X: torch.float32,<class 'torch.Tensor'>, torch.Size([32, 3, 224, 224])\n",
            "loss: 0.391276  [  352/  401]\n",
            "X: torch.float32,<class 'torch.Tensor'>, torch.Size([32, 3, 224, 224])\n",
            "loss: 0.417213  [  384/  401]\n",
            "X: torch.float32,<class 'torch.Tensor'>, torch.Size([17, 3, 224, 224])\n",
            "loss: 0.351032  [  221/  401]\n",
            "Epoch 7\n",
            "-------------------------------\n",
            "X: torch.float32,<class 'torch.Tensor'>, torch.Size([32, 3, 224, 224])\n",
            "loss: 0.484954  [   32/  401]\n",
            "X: torch.float32,<class 'torch.Tensor'>, torch.Size([32, 3, 224, 224])\n",
            "loss: 0.465444  [   64/  401]\n",
            "X: torch.float32,<class 'torch.Tensor'>, torch.Size([32, 3, 224, 224])\n",
            "loss: 0.389126  [   96/  401]\n",
            "X: torch.float32,<class 'torch.Tensor'>, torch.Size([32, 3, 224, 224])\n",
            "loss: 0.424881  [  128/  401]\n",
            "X: torch.float32,<class 'torch.Tensor'>, torch.Size([32, 3, 224, 224])\n",
            "loss: 0.501376  [  160/  401]\n",
            "X: torch.float32,<class 'torch.Tensor'>, torch.Size([32, 3, 224, 224])\n",
            "loss: 0.345090  [  192/  401]\n",
            "X: torch.float32,<class 'torch.Tensor'>, torch.Size([32, 3, 224, 224])\n",
            "loss: 0.356985  [  224/  401]\n",
            "X: torch.float32,<class 'torch.Tensor'>, torch.Size([32, 3, 224, 224])\n",
            "loss: 0.351448  [  256/  401]\n",
            "X: torch.float32,<class 'torch.Tensor'>, torch.Size([32, 3, 224, 224])\n",
            "loss: 0.398937  [  288/  401]\n",
            "X: torch.float32,<class 'torch.Tensor'>, torch.Size([32, 3, 224, 224])\n",
            "loss: 0.394223  [  320/  401]\n",
            "X: torch.float32,<class 'torch.Tensor'>, torch.Size([32, 3, 224, 224])\n",
            "loss: 0.356034  [  352/  401]\n",
            "X: torch.float32,<class 'torch.Tensor'>, torch.Size([32, 3, 224, 224])\n",
            "loss: 0.370820  [  384/  401]\n",
            "X: torch.float32,<class 'torch.Tensor'>, torch.Size([17, 3, 224, 224])\n",
            "loss: 0.491512  [  221/  401]\n",
            "Epoch 8\n",
            "-------------------------------\n",
            "X: torch.float32,<class 'torch.Tensor'>, torch.Size([32, 3, 224, 224])\n",
            "loss: 0.415829  [   32/  401]\n",
            "X: torch.float32,<class 'torch.Tensor'>, torch.Size([32, 3, 224, 224])\n",
            "loss: 0.475451  [   64/  401]\n",
            "X: torch.float32,<class 'torch.Tensor'>, torch.Size([32, 3, 224, 224])\n",
            "loss: 0.348593  [   96/  401]\n",
            "X: torch.float32,<class 'torch.Tensor'>, torch.Size([32, 3, 224, 224])\n",
            "loss: 0.463035  [  128/  401]\n",
            "X: torch.float32,<class 'torch.Tensor'>, torch.Size([32, 3, 224, 224])\n",
            "loss: 0.425237  [  160/  401]\n",
            "X: torch.float32,<class 'torch.Tensor'>, torch.Size([32, 3, 224, 224])\n",
            "loss: 0.453614  [  192/  401]\n",
            "X: torch.float32,<class 'torch.Tensor'>, torch.Size([32, 3, 224, 224])\n",
            "loss: 0.389253  [  224/  401]\n",
            "X: torch.float32,<class 'torch.Tensor'>, torch.Size([32, 3, 224, 224])\n",
            "loss: 0.355335  [  256/  401]\n",
            "X: torch.float32,<class 'torch.Tensor'>, torch.Size([32, 3, 224, 224])\n",
            "loss: 0.341505  [  288/  401]\n",
            "X: torch.float32,<class 'torch.Tensor'>, torch.Size([32, 3, 224, 224])\n",
            "loss: 0.408040  [  320/  401]\n",
            "X: torch.float32,<class 'torch.Tensor'>, torch.Size([32, 3, 224, 224])\n",
            "loss: 0.383461  [  352/  401]\n",
            "X: torch.float32,<class 'torch.Tensor'>, torch.Size([32, 3, 224, 224])\n",
            "loss: 0.359532  [  384/  401]\n",
            "X: torch.float32,<class 'torch.Tensor'>, torch.Size([17, 3, 224, 224])\n",
            "loss: 0.373113  [  221/  401]\n",
            "Epoch 9\n",
            "-------------------------------\n",
            "X: torch.float32,<class 'torch.Tensor'>, torch.Size([32, 3, 224, 224])\n",
            "loss: 0.414619  [   32/  401]\n",
            "X: torch.float32,<class 'torch.Tensor'>, torch.Size([32, 3, 224, 224])\n",
            "loss: 0.392585  [   64/  401]\n",
            "X: torch.float32,<class 'torch.Tensor'>, torch.Size([32, 3, 224, 224])\n",
            "loss: 0.397149  [   96/  401]\n",
            "X: torch.float32,<class 'torch.Tensor'>, torch.Size([32, 3, 224, 224])\n",
            "loss: 0.394960  [  128/  401]\n",
            "X: torch.float32,<class 'torch.Tensor'>, torch.Size([32, 3, 224, 224])\n",
            "loss: 0.399428  [  160/  401]\n",
            "X: torch.float32,<class 'torch.Tensor'>, torch.Size([32, 3, 224, 224])\n",
            "loss: 0.359595  [  192/  401]\n",
            "X: torch.float32,<class 'torch.Tensor'>, torch.Size([32, 3, 224, 224])\n",
            "loss: 0.424244  [  224/  401]\n",
            "X: torch.float32,<class 'torch.Tensor'>, torch.Size([32, 3, 224, 224])\n",
            "loss: 0.427239  [  256/  401]\n",
            "X: torch.float32,<class 'torch.Tensor'>, torch.Size([32, 3, 224, 224])\n",
            "loss: 0.397705  [  288/  401]\n",
            "X: torch.float32,<class 'torch.Tensor'>, torch.Size([32, 3, 224, 224])\n",
            "loss: 0.380524  [  320/  401]\n",
            "X: torch.float32,<class 'torch.Tensor'>, torch.Size([32, 3, 224, 224])\n",
            "loss: 0.472917  [  352/  401]\n",
            "X: torch.float32,<class 'torch.Tensor'>, torch.Size([32, 3, 224, 224])\n",
            "loss: 0.440229  [  384/  401]\n",
            "X: torch.float32,<class 'torch.Tensor'>, torch.Size([17, 3, 224, 224])\n",
            "loss: 0.408337  [  221/  401]\n",
            "Epoch 10\n",
            "-------------------------------\n",
            "X: torch.float32,<class 'torch.Tensor'>, torch.Size([32, 3, 224, 224])\n",
            "loss: 0.376673  [   32/  401]\n",
            "X: torch.float32,<class 'torch.Tensor'>, torch.Size([32, 3, 224, 224])\n",
            "loss: 0.429591  [   64/  401]\n",
            "X: torch.float32,<class 'torch.Tensor'>, torch.Size([32, 3, 224, 224])\n",
            "loss: 0.376454  [   96/  401]\n",
            "X: torch.float32,<class 'torch.Tensor'>, torch.Size([32, 3, 224, 224])\n",
            "loss: 0.456446  [  128/  401]\n",
            "X: torch.float32,<class 'torch.Tensor'>, torch.Size([32, 3, 224, 224])\n",
            "loss: 0.374283  [  160/  401]\n",
            "X: torch.float32,<class 'torch.Tensor'>, torch.Size([32, 3, 224, 224])\n",
            "loss: 0.360724  [  192/  401]\n",
            "X: torch.float32,<class 'torch.Tensor'>, torch.Size([32, 3, 224, 224])\n",
            "loss: 0.390887  [  224/  401]\n",
            "X: torch.float32,<class 'torch.Tensor'>, torch.Size([32, 3, 224, 224])\n",
            "loss: 0.388459  [  256/  401]\n",
            "X: torch.float32,<class 'torch.Tensor'>, torch.Size([32, 3, 224, 224])\n",
            "loss: 0.388050  [  288/  401]\n",
            "X: torch.float32,<class 'torch.Tensor'>, torch.Size([32, 3, 224, 224])\n",
            "loss: 0.438067  [  320/  401]\n",
            "X: torch.float32,<class 'torch.Tensor'>, torch.Size([32, 3, 224, 224])\n",
            "loss: 0.391568  [  352/  401]\n",
            "X: torch.float32,<class 'torch.Tensor'>, torch.Size([32, 3, 224, 224])\n",
            "loss: 0.403881  [  384/  401]\n",
            "X: torch.float32,<class 'torch.Tensor'>, torch.Size([17, 3, 224, 224])\n",
            "loss: 0.406205  [  221/  401]\n",
            "Done!\n"
          ]
        }
      ],
      "source": [
        "epochs = 10\n",
        "for t in range(epochs):\n",
        "    print(f\"Epoch {t+1}\\n-------------------------------\")\n",
        "    train(train_dataloader, model, loss_fn, optimizer)\n",
        "    #test(test_dataloader, model, loss_fn)\n",
        "    scheduler.step()\n",
        "print(\"Done!\")"
      ]
    },
    {
      "cell_type": "markdown",
      "metadata": {
        "id": "Wh1dwHXYZydz"
      },
      "source": [
        "Read more about [Training your model](optimization_tutorial.html).\n",
        "\n",
        "\n"
      ]
    },
    {
      "cell_type": "code",
      "source": [
        "test(test_dataloader, model, loss_fn)"
      ],
      "metadata": {
        "id": "wEXJWY5kpuPl",
        "outputId": "6b1adc94-034d-4604-c5b2-bada3342618c",
        "colab": {
          "base_uri": "https://localhost:8080/"
        }
      },
      "execution_count": 47,
      "outputs": [
        {
          "output_type": "stream",
          "name": "stdout",
          "text": [
            "Test Error: \n",
            " Accuracy: 95.0%, Avg loss: 0.383527 \n",
            "\n"
          ]
        }
      ]
    },
    {
      "cell_type": "markdown",
      "metadata": {
        "id": "SyoYBINiZydz"
      },
      "source": [
        "--------------\n",
        "\n",
        "\n"
      ]
    },
    {
      "cell_type": "markdown",
      "metadata": {
        "id": "6bTYPn2nZydz"
      },
      "source": [
        "## Saving Models\n",
        "A common way to save a model is to serialize the internal state dictionary (containing the model parameters).\n",
        "\n"
      ]
    },
    {
      "cell_type": "code",
      "execution_count": 48,
      "metadata": {
        "id": "XN622yioZydz",
        "outputId": "20207f5d-567e-4016-e7f6-5abafedd9c4e",
        "colab": {
          "base_uri": "https://localhost:8080/"
        }
      },
      "outputs": [
        {
          "output_type": "stream",
          "name": "stdout",
          "text": [
            "Saved PyTorch Model State to model.pth\n"
          ]
        }
      ],
      "source": [
        "torch.save(model.state_dict(), \"model.pth\")\n",
        "print(\"Saved PyTorch Model State to model.pth\")"
      ]
    },
    {
      "cell_type": "markdown",
      "metadata": {
        "id": "irRdGicfZydz"
      },
      "source": [
        "## Loading Models\n",
        "\n",
        "The process for loading a model includes re-creating the model structure and loading\n",
        "the state dictionary into it.\n",
        "\n"
      ]
    },
    {
      "cell_type": "code",
      "execution_count": 49,
      "metadata": {
        "id": "j0mZMPVqZydz"
      },
      "outputs": [],
      "source": [
        "# model = LeNet().to(device)\n",
        "# model.load_state_dict(torch.load(\"model.pth\"))\n",
        "# model"
      ]
    },
    {
      "cell_type": "markdown",
      "metadata": {
        "id": "qYhEYl9GZydz"
      },
      "source": [
        "This model can now be used to make predictions.\n",
        "\n"
      ]
    },
    {
      "cell_type": "code",
      "execution_count": 50,
      "metadata": {
        "id": "zTZmIQ8mZyd0",
        "outputId": "0016521d-d74d-40fc-c8e5-ebeda1762c20",
        "colab": {
          "base_uri": "https://localhost:8080/",
          "height": 507
        }
      },
      "outputs": [
        {
          "output_type": "stream",
          "name": "stderr",
          "text": [
            "Clipping input data to the valid range for imshow with RGB data ([0..1] for floats or [0..255] for integers).\n"
          ]
        },
        {
          "output_type": "stream",
          "name": "stdout",
          "text": [
            "torch.Size([3, 224, 224]) 1\n",
            "<built-in method size of Tensor object at 0x0000027AA8C02490>\n",
            "Predicted: \"Dog\", Actual: \"Dog\"\n"
          ]
        },
        {
          "output_type": "display_data",
          "data": {
            "text/plain": [
              "<Figure size 640x480 with 1 Axes>"
            ],
            "image/png": "[encoded data removed]"
          },
          "metadata": {}
        }
      ],
      "source": [
        "import matplotlib.pyplot as plt\n",
        "\n",
        "# classes = [\n",
        "#     \"T-shirt/top\",\n",
        "#     \"Trouser\",\n",
        "#     \"Pullover\",\n",
        "#     \"Dress\",\n",
        "#     \"Coat\",\n",
        "#     \"Sandal\",\n",
        "#     \"Shirt\",\n",
        "#     \"Sneaker\",\n",
        "#     \"Bag\",\n",
        "#     \"Ankle boot\",\n",
        "# ]\n",
        "\n",
        "classes = [\n",
        "    \"Cat\",\n",
        "    \"Dog\",\n",
        "]\n",
        "\n",
        "model.eval()\n",
        "x, y = test_data[0][0], test_data[0][1]\n",
        "print(x.shape, y)\n",
        "x = x.expand(1, 3, 224, 224)\n",
        "with torch.no_grad():\n",
        "  x = x.to(device)\n",
        "  pred = model(x)\n",
        "  predicted, actual = classes[pred[0].argmax(0)], classes[y]\n",
        "  x_img = x.squeeze().permute(1, 2, 0).cpu()\n",
        "  print(x_img.size)\n",
        "  plt.imshow(x_img)\n",
        "  print(f'Predicted: \"{predicted}\", Actual: \"{actual}\"')"
      ]
    },
    {
      "cell_type": "markdown",
      "metadata": {
        "id": "IzU0-ch4Zyd0"
      },
      "source": [
        "Read more about [Saving & Loading your model](saveloadrun_tutorial.html).\n",
        "\n",
        "\n"
      ]
    },
    {
      "cell_type": "code",
      "source": [
        "!pip install lightning"
      ],
      "metadata": {
        "colab": {
          "base_uri": "https://localhost:8080/"
        },
        "id": "WnXiVpAP9YxR",
        "outputId": "9a89e158-ba02-4c49-c2e2-47aebc43538a"
      },
      "execution_count": 51,
      "outputs": [
        {
          "output_type": "stream",
          "name": "stdout",
          "text": [
            "Collecting lightning\n",
            "  Downloading lightning-2.1.4-py3-none-any.whl.metadata (57 kB)\n",
            "     ---------------------------------------- 0.0/57.2 kB ? eta -:--:--\n",
            "     -------------------- ----------------- 30.7/57.2 kB 435.7 kB/s eta 0:00:01\n",
            "     -------------------------------------- 57.2/57.2 kB 601.5 kB/s eta 0:00:00\n",
            "Requirement already satisfied: PyYAML<8.0,>=5.4 in c:\\users\\user\\anaconda3\\envs\\torch_book\\lib\\site-packages (from lightning) (6.0.1)\n",
            "Requirement already satisfied: fsspec<2025.0,>=2022.5.0 in c:\\users\\user\\anaconda3\\envs\\torch_book\\lib\\site-packages (from fsspec[http]<2025.0,>=2022.5.0->lightning) (2023.12.2)\n",
            "Requirement already satisfied: lightning-utilities<2.0,>=0.8.0 in c:\\users\\user\\anaconda3\\envs\\torch_book\\lib\\site-packages (from lightning) (0.10.1)\n",
            "Requirement already satisfied: numpy<3.0,>=1.17.2 in c:\\users\\user\\anaconda3\\envs\\torch_book\\lib\\site-packages (from lightning) (1.26.3)\n",
            "Requirement already satisfied: packaging<25.0,>=20.0 in c:\\users\\user\\anaconda3\\envs\\torch_book\\lib\\site-packages (from lightning) (23.1)\n",
            "Requirement already satisfied: torch<4.0,>=1.12.0 in c:\\users\\user\\anaconda3\\envs\\torch_book\\lib\\site-packages (from lightning) (2.2.0)\n",
            "Requirement already satisfied: torchmetrics<3.0,>=0.7.0 in c:\\users\\user\\anaconda3\\envs\\torch_book\\lib\\site-packages (from lightning) (1.3.0.post0)\n",
            "Requirement already satisfied: tqdm<6.0,>=4.57.0 in c:\\users\\user\\anaconda3\\envs\\torch_book\\lib\\site-packages (from lightning) (4.66.1)\n",
            "Requirement already satisfied: typing-extensions<6.0,>=4.0.0 in c:\\users\\user\\anaconda3\\envs\\torch_book\\lib\\site-packages (from lightning) (4.9.0)\n",
            "Collecting pytorch-lightning (from lightning)\n",
            "  Downloading pytorch_lightning-2.1.4-py3-none-any.whl.metadata (21 kB)\n",
            "Requirement already satisfied: requests in c:\\users\\user\\anaconda3\\envs\\torch_book\\lib\\site-packages (from fsspec[http]<2025.0,>=2022.5.0->lightning) (2.31.0)\n",
            "Collecting aiohttp!=4.0.0a0,!=4.0.0a1 (from fsspec[http]<2025.0,>=2022.5.0->lightning)\n",
            "  Downloading aiohttp-3.9.3-cp312-cp312-win_amd64.whl.metadata (7.6 kB)\n",
            "Requirement already satisfied: setuptools in c:\\users\\user\\anaconda3\\envs\\torch_book\\lib\\site-packages (from lightning-utilities<2.0,>=0.8.0->lightning) (68.2.2)\n",
            "Requirement already satisfied: filelock in c:\\users\\user\\anaconda3\\envs\\torch_book\\lib\\site-packages (from torch<4.0,>=1.12.0->lightning) (3.13.1)\n",
            "Requirement already satisfied: sympy in c:\\users\\user\\anaconda3\\envs\\torch_book\\lib\\site-packages (from torch<4.0,>=1.12.0->lightning) (1.12)\n",
            "Requirement already satisfied: networkx in c:\\users\\user\\anaconda3\\envs\\torch_book\\lib\\site-packages (from torch<4.0,>=1.12.0->lightning) (3.1)\n",
            "Requirement already satisfied: jinja2 in c:\\users\\user\\anaconda3\\envs\\torch_book\\lib\\site-packages (from torch<4.0,>=1.12.0->lightning) (3.1.2)\n",
            "Requirement already satisfied: colorama in c:\\users\\user\\anaconda3\\envs\\torch_book\\lib\\site-packages (from tqdm<6.0,>=4.57.0->lightning) (0.4.6)\n",
            "Collecting aiosignal>=1.1.2 (from aiohttp!=4.0.0a0,!=4.0.0a1->fsspec[http]<2025.0,>=2022.5.0->lightning)\n",
            "  Downloading aiosignal-1.3.1-py3-none-any.whl (7.6 kB)\n",
            "Requirement already satisfied: attrs>=17.3.0 in c:\\users\\user\\anaconda3\\envs\\torch_book\\lib\\site-packages (from aiohttp!=4.0.0a0,!=4.0.0a1->fsspec[http]<2025.0,>=2022.5.0->lightning) (23.2.0)\n",
            "Collecting frozenlist>=1.1.1 (from aiohttp!=4.0.0a0,!=4.0.0a1->fsspec[http]<2025.0,>=2022.5.0->lightning)\n",
            "  Downloading frozenlist-1.4.1-cp312-cp312-win_amd64.whl.metadata (12 kB)\n",
            "Collecting multidict<7.0,>=4.5 (from aiohttp!=4.0.0a0,!=4.0.0a1->fsspec[http]<2025.0,>=2022.5.0->lightning)\n",
            "  Downloading multidict-6.0.5-cp312-cp312-win_amd64.whl.metadata (4.3 kB)\n",
            "Collecting yarl<2.0,>=1.0 (from aiohttp!=4.0.0a0,!=4.0.0a1->fsspec[http]<2025.0,>=2022.5.0->lightning)\n",
            "  Downloading yarl-1.9.4-cp312-cp312-win_amd64.whl.metadata (32 kB)\n",
            "Requirement already satisfied: MarkupSafe>=2.0 in c:\\users\\user\\anaconda3\\envs\\torch_book\\lib\\site-packages (from jinja2->torch<4.0,>=1.12.0->lightning) (2.1.1)\n",
            "Requirement already satisfied: charset-normalizer<4,>=2 in c:\\users\\user\\anaconda3\\envs\\torch_book\\lib\\site-packages (from requests->fsspec[http]<2025.0,>=2022.5.0->lightning) (2.0.4)\n",
            "Requirement already satisfied: idna<4,>=2.5 in c:\\users\\user\\anaconda3\\envs\\torch_book\\lib\\site-packages (from requests->fsspec[http]<2025.0,>=2022.5.0->lightning) (3.4)\n",
            "Requirement already satisfied: urllib3<3,>=1.21.1 in c:\\users\\user\\anaconda3\\envs\\torch_book\\lib\\site-packages (from requests->fsspec[http]<2025.0,>=2022.5.0->lightning) (1.26.18)\n",
            "Requirement already satisfied: certifi>=2017.4.17 in c:\\users\\user\\anaconda3\\envs\\torch_book\\lib\\site-packages (from requests->fsspec[http]<2025.0,>=2022.5.0->lightning) (2024.2.2)\n",
            "Requirement already satisfied: mpmath>=0.19 in c:\\users\\user\\anaconda3\\envs\\torch_book\\lib\\site-packages (from sympy->torch<4.0,>=1.12.0->lightning) (1.3.0)\n",
            "Downloading lightning-2.1.4-py3-none-any.whl (2.0 MB)\n",
            "   ---------------------------------------- 0.0/2.0 MB ? eta -:--:--\n",
            "   -------- ------------------------------- 0.4/2.0 MB 12.9 MB/s eta 0:00:01\n",
            "   --------------- ------------------------ 0.8/2.0 MB 12.9 MB/s eta 0:00:01\n",
            "   ------------------------- -------------- 1.3/2.0 MB 10.2 MB/s eta 0:00:01\n",
            "   ---------------------------------- ----- 1.8/2.0 MB 11.3 MB/s eta 0:00:01\n",
            "   ---------------------------------------- 2.0/2.0 MB 10.8 MB/s eta 0:00:00\n",
            "Downloading pytorch_lightning-2.1.4-py3-none-any.whl (778 kB)\n",
            "   ---------------------------------------- 0.0/778.1 kB ? eta -:--:--\n",
            "   ------------------------- ------------- 501.8/778.1 kB 15.4 MB/s eta 0:00:01\n",
            "   --------------------------------------- 778.1/778.1 kB 12.2 MB/s eta 0:00:00\n",
            "Downloading aiohttp-3.9.3-cp312-cp312-win_amd64.whl (363 kB)\n",
            "   ---------------------------------------- 0.0/363.4 kB ? eta -:--:--\n",
            "   --------------------------------------- 363.4/363.4 kB 11.4 MB/s eta 0:00:00\n",
            "Downloading frozenlist-1.4.1-cp312-cp312-win_amd64.whl (50 kB)\n",
            "   ---------------------------------------- 0.0/50.5 kB ? eta -:--:--\n",
            "   ---------------------------------------- 50.5/50.5 kB 2.5 MB/s eta 0:00:00\n",
            "Downloading multidict-6.0.5-cp312-cp312-win_amd64.whl (27 kB)\n",
            "Downloading yarl-1.9.4-cp312-cp312-win_amd64.whl (76 kB)\n",
            "   ---------------------------------------- 0.0/76.4 kB ? eta -:--:--\n",
            "   ---------------------------------------- 76.4/76.4 kB 4.4 MB/s eta 0:00:00\n",
            "Installing collected packages: multidict, frozenlist, yarl, aiosignal, aiohttp, pytorch-lightning, lightning\n",
            "Successfully installed aiohttp-3.9.3 aiosignal-1.3.1 frozenlist-1.4.1 lightning-2.1.4 multidict-6.0.5 pytorch-lightning-2.1.4 yarl-1.9.4\n"
          ]
        }
      ]
    },
    {
      "cell_type": "code",
      "source": [
        "import torch\n",
        "from torch import nn\n",
        "from torch.optim import Adam\n",
        "from torch.nn.functional import cross_entropy\n",
        "\n",
        "from torchmetrics.classification import Accuracy\n",
        "\n",
        "import lightning as L\n",
        "\n",
        "# # A LightningModule (nn.Module subclass) defines a full *system*\n",
        "class LitLeNet(L.LightningModule):\n",
        "  def __init__(self):\n",
        "    super().__init__()\n",
        "    self.accuracy = Accuracy(task=\"multiclass\", num_classes=2)\n",
        "    self.features = nn.Sequential(\n",
        "        nn.Conv2d(3, 6, 5, padding='same'),\n",
        "        nn.BatchNorm2d(6),\n",
        "        nn.ReLU(),\n",
        "        nn.MaxPool2d(2),\n",
        "        nn.Conv2d(6, 16, 5, padding='same'),\n",
        "        nn.ReLU(),\n",
        "        nn.MaxPool2d(2),\n",
        "        #nn.Conv2d(16, 120, 7),\n",
        "        #nn.ReLU(),\n",
        "    )\n",
        "    #self.maxpool = nn.MaxPool2d(7)\n",
        "    self.classifier = nn.Sequential(\n",
        "        nn.Dropout(p=0.5),\n",
        "        nn.Flatten(),\n",
        "        nn.Linear(16*56*56, 256),\n",
        "        nn.ReLU(),\n",
        "        nn.Dropout(p=0.5),\n",
        "        nn.Linear(256, 64),\n",
        "        nn.ReLU(),\n",
        "        nn.Dropout(p=0.5),\n",
        "        #nn.Sigmoid(),\n",
        "        nn.Linear(64, 2),\n",
        "        #nn.Softmax(dim=1)\n",
        "    )\n",
        "\n",
        "  def forward(self, x):\n",
        "    features = self.features(x)\n",
        "    #print(features.shape)\n",
        "    #features = self.maxpool(features)\n",
        "    #print(features.shape)\n",
        "    out = self.classifier(features)\n",
        "    #print(out.shape)\n",
        "    return out\n",
        "\n",
        "  def training_step(self, batch, batch_idx):\n",
        "    X, y = batch\n",
        "    #X, y = X.to(device), y.to(device)\n",
        "    pred = self.forward(X)\n",
        "    loss = cross_entropy(pred, y)\n",
        "    self.log(\"train_loss\", loss, prog_bar=True)\n",
        "    accuracy = self.accuracy(pred, y)\n",
        "    self.log('train_acc_step', accuracy, prog_bar=True)\n",
        "\n",
        "    loss.backward()\n",
        "    optimizer.step()\n",
        "    optimizer.zero_grad()\n",
        "\n",
        "  def on_train_epoch_end(self):\n",
        "      self.log('train_acc_epoch', self.accuracy)\n",
        "\n",
        "  def validation_step(self, batch, batch_idx):\n",
        "    X, y = batch\n",
        "    pred = self.forward(X)\n",
        "    loss = cross_entropy(pred, y)\n",
        "    self.log(\"val_loss\", loss, prog_bar=True)\n",
        "    accuracy = self.accuracy(pred, y)\n",
        "    self.log('val_acc_step', accuracy, prog_bar=True)\n",
        "\n",
        "  def configure_optimizers(self):\n",
        "    optimizer = Adam(model.parameters(), lr=1e-3)\n",
        "    return optimizer"
      ],
      "metadata": {
        "id": "H2cC004OqKUr"
      },
      "execution_count": 52,
      "outputs": []
    },
    {
      "cell_type": "code",
      "source": [
        "from lightning.pytorch.callbacks import EarlyStopping, ModelCheckpoint\n",
        "\n",
        "model = LitLeNet()\n",
        "trainer = L.Trainer(max_epochs=5)\n",
        "es = EarlyStopping(monitor='val_loss')\n",
        "checkpoint = ModelCheckpoint(monitor='val_loss', )\n",
        "#trainer = L.Trainer(callbacks=[es, checkpoint], max_epochs=5, default_root_dir=\"models\")\n",
        "trainer.fit(model, train_dataloader, test_dataloader)"
      ],
      "metadata": {
        "colab": {
          "base_uri": "https://localhost:8080/",
          "height": 459,
          "referenced_widgets": [
            "ce53e8af2a934a98b928a962097104c4",
            "8199cc47d8d3474c8da36062d53c7e09",
            "5db2418b2aa5445db37b825b30cb9e4d",
            "6d843e32b6fa4002a5cbb074f0da89a5",
            "e3e3dc52e6984e4aa54baf4bdeab1f05",
            "601743c7bb87472e92b8ee4641ab7202",
            "1515239e08a445ad909d70533704e971",
            "158540080e0047298300a0bd7a9131fa",
            "37cc4e0bc09c432082aa3b90176c3e4f",
            "db852b7383b74df0a1fadf8f510c97fd",
            "213ce197677a42108754490853815630",
            "307462b782b7495fa5b7dad4e876bbb6",
            "1d030770e92946fb8db85b9407cdabc8",
            "a9965ba77d914d7da8629036efe50776",
            "d8a443f01dba456f98409db825a69f4a",
            "f4100d8b72ed4c038f0d725b99e61bae",
            "9da300450eb2413f87501068475f70f6",
            "a9caf9d47fc24ef790beaa50e13c2388",
            "e028251fc94c470fa549687b7089c49d",
            "9d97e1573fe04717af25511e0db6267a",
            "099b6dd5a1a04fdda9af26b9474e626a",
            "c21a08263a474261903820cdcefa9bb6",
            "d24cce6b06414bba812bc71260c48aa8",
            "e9f726795e8e41c7a8c4c88abdf884eb",
            "d98a412fa80347129aa0945b65aa5a23",
            "ed3bd49828364ce69903f8069cdd74c8",
            "db17003938d74d25bfadfd528d420dae",
            "e609645c798246a690d20a3b634a7227",
            "7951fa1576424326a61d0dbc39969c13",
            "ed3ec3167edd4eefb76606257b1b3215",
            "e7171e551aff48d583d17496fe3e6992",
            "1ddbc9239dd642a68ceb5d39daf27d12",
            "919403cc2eb84a07b7811820d29ca7b1",
            "2c50b6e545574f889b81db2a02f922d4",
            "e041ec3bba1c400fbdac305b9b0d2a2b",
            "bf669853836d42f9867f3f84d72942e1",
            "ab18623e0ce04a6db0df027bb5294717",
            "10108ccbdc724ec58d98bb0f38253bb8",
            "e2f15e722e354a21bf86fac58d1c85c8",
            "591fe4c5e07a4e3d9cf56d9ce9244a33",
            "24866d75bccd4d7094edb189ca322229",
            "6ef3e5b31026418e91d8ad383b8ae1c2",
            "34bf77125ea243ab8fbcef4c6ef6926b",
            "530fc61439144dfdafeb476edabdf9bb",
            "dbd7f132969f45029beec3afc977c4df",
            "36692d0030ab422682cea5bcde0d8dd9",
            "4ea0c7b4404e4f119b958742004792d6",
            "27a6fd4ab9c84eb4a7483d70c6af28bb",
            "f22480d212ba45d292fdf43798f59e8e",
            "917a25e38b564fc69b4a71fc65fe151d",
            "26e8a97a90234ed1a965f422d46bcbe7",
            "842632d175a44f76aa0b63ad6c34731f",
            "b49607a2ab024087827edeef897215d7",
            "236edbc3e059477dbdfc44b57b464799",
            "d25b8cd55cf34504ab01b92afbd39b91",
            "fcad6d5b950b4e539c1f5941ea6963b1",
            "26321d59ccd74c3fb096038aa666f949",
            "f8c3a01819034fe0b379bdf45268ac93",
            "159d6792df0f499c9b3ef4446b40c77e",
            "7bef187b1dd04f8ab6e0b08aca8af810",
            "d8c60c68f0f847e19e9161b2aff78c30",
            "f0da7647e1894807bbf94cbfcd870411",
            "08bc5eb1d49147bd927b65dc9a6f0420",
            "c6d86aee394240239ea399308e013eb1",
            "6485d3ab614e49cbac1d5f1d507f01b0",
            "058eef386aab4d2da372f90def954c39",
            "6b249a53bd064bf0b7349eb4625ab22c",
            "c49ae099e77f48248f141cebdf5870c5",
            "904497945fdf47ec8b9b31159d6339ff",
            "7b83e52cbc3f4cfbb56c2d6fb825976c",
            "199695fcf7784922aeb1cada87e06453",
            "737d7e32dfed4a808309159bd417d9c5",
            "283022617ff94bd18d933b4c404dfa37",
            "0e191166fcb64a7d8435f201ce3125fd",
            "0de8348c5341497db2b35be7bf7cb82a",
            "9871b7f8df1f4ad5a417aa16c02f790a",
            "455c7e859c5e4f76a6834cde3f020ead"
          ]
        },
        "id": "Tex2pgMN-D6h",
        "outputId": "14aded7f-c23a-48d2-a3af-15aed8d07d85"
      },
      "execution_count": 53,
      "outputs": [
        {
          "output_type": "stream",
          "name": "stderr",
          "text": [
            "GPU available: True (cuda), used: True\n",
            "TPU available: False, using: 0 TPU cores\n",
            "IPU available: False, using: 0 IPUs\n",
            "HPU available: False, using: 0 HPUs\n",
            "Missing logger folder: C:\\Dev\\od_finetune\\lightning_logs\n",
            "LOCAL_RANK: 0 - CUDA_VISIBLE_DEVICES: [0]\n",
            "\n",
            "  | Name       | Type               | Params\n",
            "--------------------------------------------------\n",
            "0 | accuracy   | MulticlassAccuracy | 0     \n",
            "1 | features   | Sequential         | 2.9 K \n",
            "2 | classifier | Sequential         | 12.9 M\n",
            "--------------------------------------------------\n",
            "12.9 M    Trainable params\n",
            "0         Non-trainable params\n",
            "12.9 M    Total params\n",
            "51.459    Total estimated model params size (MB)\n"
          ]
        },
        {
          "output_type": "display_data",
          "data": {
            "text/plain": [
              "Sanity Checking: |                                                                               | 0/? [00:00<…"
            ],
            "application/vnd.jupyter.widget-view+json": {
              "version_major": 2,
              "version_minor": 0,
              "model_id": "ce53e8af2a934a98b928a962097104c4"
            }
          },
          "metadata": {}
        },
        {
          "output_type": "stream",
          "name": "stderr",
          "text": [
            "C:\\Users\\user\\anaconda3\\envs\\torch_book\\Lib\\site-packages\\lightning\\pytorch\\trainer\\connectors\\data_connector.py:492: Your `val_dataloader`'s sampler has shuffling enabled, it is strongly recommended that you turn shuffling off for val/test dataloaders.\n",
            "C:\\Users\\user\\anaconda3\\envs\\torch_book\\Lib\\site-packages\\lightning\\pytorch\\trainer\\connectors\\data_connector.py:441: The 'val_dataloader' does not have many workers which may be a bottleneck. Consider increasing the value of the `num_workers` argument` to `num_workers=7` in the `DataLoader` to improve performance.\n",
            "C:\\Users\\user\\anaconda3\\envs\\torch_book\\Lib\\site-packages\\lightning\\pytorch\\trainer\\connectors\\data_connector.py:441: The 'train_dataloader' does not have many workers which may be a bottleneck. Consider increasing the value of the `num_workers` argument` to `num_workers=7` in the `DataLoader` to improve performance.\n",
            "C:\\Users\\user\\anaconda3\\envs\\torch_book\\Lib\\site-packages\\lightning\\pytorch\\loops\\fit_loop.py:293: The number of training batches (13) is smaller than the logging interval Trainer(log_every_n_steps=50). Set a lower value for log_every_n_steps if you want to see logs for the training epoch.\n"
          ]
        },
        {
          "output_type": "display_data",
          "data": {
            "text/plain": [
              "Training: |                                                                                      | 0/? [00:00<…"
            ],
            "application/vnd.jupyter.widget-view+json": {
              "version_major": 2,
              "version_minor": 0,
              "model_id": "307462b782b7495fa5b7dad4e876bbb6"
            }
          },
          "metadata": {}
        },
        {
          "output_type": "stream",
          "name": "stderr",
          "text": [
            "C:\\Users\\user\\anaconda3\\envs\\torch_book\\Lib\\site-packages\\lightning\\pytorch\\loops\\optimization\\automatic.py:129: `training_step` returned `None`. If this was on purpose, ignore this warning...\n"
          ]
        },
        {
          "output_type": "display_data",
          "data": {
            "text/plain": [
              "Validation: |                                                                                    | 0/? [00:00<…"
            ],
            "application/vnd.jupyter.widget-view+json": {
              "version_major": 2,
              "version_minor": 0,
              "model_id": "d24cce6b06414bba812bc71260c48aa8"
            }
          },
          "metadata": {}
        },
        {
          "output_type": "display_data",
          "data": {
            "text/plain": [
              "Validation: |                                                                                    | 0/? [00:00<…"
            ],
            "application/vnd.jupyter.widget-view+json": {
              "version_major": 2,
              "version_minor": 0,
              "model_id": "2c50b6e545574f889b81db2a02f922d4"
            }
          },
          "metadata": {}
        },
        {
          "output_type": "display_data",
          "data": {
            "text/plain": [
              "Validation: |                                                                                    | 0/? [00:00<…"
            ],
            "application/vnd.jupyter.widget-view+json": {
              "version_major": 2,
              "version_minor": 0,
              "model_id": "dbd7f132969f45029beec3afc977c4df"
            }
          },
          "metadata": {}
        },
        {
          "output_type": "display_data",
          "data": {
            "text/plain": [
              "Validation: |                                                                                    | 0/? [00:00<…"
            ],
            "application/vnd.jupyter.widget-view+json": {
              "version_major": 2,
              "version_minor": 0,
              "model_id": "fcad6d5b950b4e539c1f5941ea6963b1"
            }
          },
          "metadata": {}
        },
        {
          "output_type": "display_data",
          "data": {
            "text/plain": [
              "Validation: |                                                                                    | 0/? [00:00<…"
            ],
            "application/vnd.jupyter.widget-view+json": {
              "version_major": 2,
              "version_minor": 0,
              "model_id": "6b249a53bd064bf0b7349eb4625ab22c"
            }
          },
          "metadata": {}
        },
        {
          "output_type": "stream",
          "name": "stderr",
          "text": [
            "`Trainer.fit` stopped: `max_epochs=5` reached.\n"
          ]
        }
      ]
    },
    {
      "cell_type": "code",
      "source": [
        "!dir"
      ],
      "metadata": {
        "colab": {
          "base_uri": "https://localhost:8080/"
        },
        "id": "TEzgrlnH-S4a",
        "outputId": "15061296-e56f-45ad-b094-22581b9bd900"
      },
      "execution_count": 54,
      "outputs": [
        {
          "output_type": "stream",
          "name": "stdout",
          "text": [
            " C 드라이브의 볼륨에는 이름이 없습니다.\n",
            " 볼륨 일련 번호: CD26-C79F\n",
            "\n",
            " C:\\Dev\\od_finetune 디렉터리\n",
            "\n",
            "2024-02-06  오후 05:29    <DIR>          .\n",
            "2024-02-06  오후 05:29    <DIR>          ..\n",
            "2024-02-06  오후 02:32    <DIR>          .ipynb_checkpoints\n",
            "2024-02-06  오후 02:24    <DIR>          .virtual_documents\n",
            "2024-02-06  오후 02:32         1,968,965 COCO dataset.ipynb\n",
            "2024-02-06  오후 02:48             6,447 coco_eval.py\n",
            "2024-02-06  오후 02:48             8,397 coco_utils.py\n",
            "2024-02-06  오후 03:51    <DIR>          cvat\n",
            "2024-02-06  오후 02:13    <DIR>          data\n",
            "2024-02-06  오후 02:48             4,063 engine.py\n",
            "2024-02-06  오후 04:51           993,169 License_Plate.ipynb\n",
            "2024-02-06  오후 05:29    <DIR>          lightning_logs\n",
            "2024-02-06  오후 05:29        96,497,690 model.pth\n",
            "2024-02-06  오후 03:26         3,305,223 torchvision_tutorial.ipynb\n",
            "2024-02-06  오후 02:48            23,628 transforms.py\n",
            "2024-02-06  오후 02:48             8,388 utils.py\n",
            "2024-02-06  오후 02:49    <DIR>          __pycache__\n",
            "               9개 파일         102,815,970 바이트\n",
            "               8개 디렉터리  263,870,976,000 바이트 남음\n"
          ]
        }
      ]
    },
    {
      "cell_type": "markdown",
      "source": [
        "```bash\n",
        "$ docker run -it -p 8888:8888 -p 6006:6006 tensorflow/tensorflow:nightly-py3-jupyter\n",
        "```"
      ],
      "metadata": {
        "id": "3QNgjnAmII31"
      }
    },
    {
      "cell_type": "code",
      "source": [
        "#%reload_ext tensorboard\n",
        "#%tensorboard --logdir lightning_logs --port 6006"
      ],
      "metadata": {
        "id": "6U3rTaYvGazi"
      },
      "execution_count": 55,
      "outputs": []
    },
    {
      "cell_type": "code",
      "source": [
        "checkpoint.best_model_path"
      ],
      "metadata": {
        "colab": {
          "base_uri": "https://localhost:8080/"
        },
        "id": "S5Ran8fGD5iU",
        "outputId": "64025410-be8f-473b-e116-f1bb8b95e975"
      },
      "execution_count": 56,
      "outputs": [
        {
          "output_type": "execute_result",
          "data": {
            "text/plain": [
              "''"
            ]
          },
          "metadata": {},
          "execution_count": 56
        }
      ]
    },
    {
      "cell_type": "code",
      "source": [
        "model = LitLeNet.load_from_checkpoint(checkpoint.best_model_path)\n",
        "model.eval()\n",
        "test(test_dataloader, model, loss_fn)"
      ],
      "metadata": {
        "colab": {
          "base_uri": "https://localhost:8080/",
          "height": 1000
        },
        "id": "uNVOV2ntB2Cd",
        "outputId": "90a0e3fb-1c12-4244-f72d-46e73f197b87"
      },
      "execution_count": 57,
      "outputs": [
        {
          "output_type": "error",
          "ename": "PermissionError",
          "evalue": "[Errno 13] Permission denied: 'C:/Dev/od_finetune'",
          "traceback": [
            "\u001b[1;31m---------------------------------------------------------------------------\u001b[0m",
            "\u001b[1;31mPermissionError\u001b[0m                           Traceback (most recent call last)",
            "Cell \u001b[1;32mIn[57], line 1\u001b[0m\n\u001b[1;32m----> 1\u001b[0m model \u001b[38;5;241m=\u001b[39m LitLeNet\u001b[38;5;241m.\u001b[39mload_from_checkpoint(checkpoint\u001b[38;5;241m.\u001b[39mbest_model_path)\n\u001b[0;32m      2\u001b[0m model\u001b[38;5;241m.\u001b[39meval()\n\u001b[0;32m      3\u001b[0m test(test_dataloader, model, loss_fn)\n",
            "File \u001b[1;32m~\\anaconda3\\envs\\torch_book\\Lib\\site-packages\\lightning\\pytorch\\utilities\\model_helpers.py:100\u001b[0m, in \u001b[0;36m_restricted_classmethod_impl.__get__.<locals>.wrapper\u001b[1;34m(*args, **kwargs)\u001b[0m\n\u001b[0;32m     95\u001b[0m \u001b[38;5;28;01mif\u001b[39;00m instance \u001b[38;5;129;01mis\u001b[39;00m \u001b[38;5;129;01mnot\u001b[39;00m \u001b[38;5;28;01mNone\u001b[39;00m \u001b[38;5;129;01mand\u001b[39;00m \u001b[38;5;129;01mnot\u001b[39;00m is_scripting:\n\u001b[0;32m     96\u001b[0m     \u001b[38;5;28;01mraise\u001b[39;00m \u001b[38;5;167;01mTypeError\u001b[39;00m(\n\u001b[0;32m     97\u001b[0m         \u001b[38;5;124mf\u001b[39m\u001b[38;5;124m\"\u001b[39m\u001b[38;5;124mThe classmethod `\u001b[39m\u001b[38;5;132;01m{\u001b[39;00m\u001b[38;5;28mcls\u001b[39m\u001b[38;5;241m.\u001b[39m\u001b[38;5;18m__name__\u001b[39m\u001b[38;5;132;01m}\u001b[39;00m\u001b[38;5;124m.\u001b[39m\u001b[38;5;132;01m{\u001b[39;00m\u001b[38;5;28mself\u001b[39m\u001b[38;5;241m.\u001b[39mmethod\u001b[38;5;241m.\u001b[39m\u001b[38;5;18m__name__\u001b[39m\u001b[38;5;132;01m}\u001b[39;00m\u001b[38;5;124m` cannot be called on an instance.\u001b[39m\u001b[38;5;124m\"\u001b[39m\n\u001b[0;32m     98\u001b[0m         \u001b[38;5;124m\"\u001b[39m\u001b[38;5;124m Please call it on the class type and make sure the return value is used.\u001b[39m\u001b[38;5;124m\"\u001b[39m\n\u001b[0;32m     99\u001b[0m     )\n\u001b[1;32m--> 100\u001b[0m \u001b[38;5;28;01mreturn\u001b[39;00m \u001b[38;5;28mself\u001b[39m\u001b[38;5;241m.\u001b[39mmethod(\u001b[38;5;28mcls\u001b[39m, \u001b[38;5;241m*\u001b[39margs, \u001b[38;5;241m*\u001b[39m\u001b[38;5;241m*\u001b[39mkwargs)\n",
            "File \u001b[1;32m~\\anaconda3\\envs\\torch_book\\Lib\\site-packages\\lightning\\pytorch\\core\\module.py:1561\u001b[0m, in \u001b[0;36mLightningModule.load_from_checkpoint\u001b[1;34m(cls, checkpoint_path, map_location, hparams_file, strict, **kwargs)\u001b[0m\n\u001b[0;32m   1480\u001b[0m \u001b[38;5;129m@_restricted_classmethod\u001b[39m\n\u001b[0;32m   1481\u001b[0m \u001b[38;5;28;01mdef\u001b[39;00m \u001b[38;5;21mload_from_checkpoint\u001b[39m(\n\u001b[0;32m   1482\u001b[0m     \u001b[38;5;28mcls\u001b[39m,\n\u001b[1;32m   (...)\u001b[0m\n\u001b[0;32m   1487\u001b[0m     \u001b[38;5;241m*\u001b[39m\u001b[38;5;241m*\u001b[39mkwargs: Any,\n\u001b[0;32m   1488\u001b[0m ) \u001b[38;5;241m-\u001b[39m\u001b[38;5;241m>\u001b[39m Self:\n\u001b[0;32m   1489\u001b[0m \u001b[38;5;250m    \u001b[39m\u001b[38;5;124mr\u001b[39m\u001b[38;5;124;03m\"\"\"Primary way of loading a model from a checkpoint. When Lightning saves a checkpoint it stores the arguments\u001b[39;00m\n\u001b[0;32m   1490\u001b[0m \u001b[38;5;124;03m    passed to ``__init__``  in the checkpoint under ``\"hyper_parameters\"``.\u001b[39;00m\n\u001b[0;32m   1491\u001b[0m \n\u001b[1;32m   (...)\u001b[0m\n\u001b[0;32m   1559\u001b[0m \n\u001b[0;32m   1560\u001b[0m \u001b[38;5;124;03m    \"\"\"\u001b[39;00m\n\u001b[1;32m-> 1561\u001b[0m     loaded \u001b[38;5;241m=\u001b[39m _load_from_checkpoint(\n\u001b[0;32m   1562\u001b[0m         \u001b[38;5;28mcls\u001b[39m,  \u001b[38;5;66;03m# type: ignore[arg-type]\u001b[39;00m\n\u001b[0;32m   1563\u001b[0m         checkpoint_path,\n\u001b[0;32m   1564\u001b[0m         map_location,\n\u001b[0;32m   1565\u001b[0m         hparams_file,\n\u001b[0;32m   1566\u001b[0m         strict,\n\u001b[0;32m   1567\u001b[0m         \u001b[38;5;241m*\u001b[39m\u001b[38;5;241m*\u001b[39mkwargs,\n\u001b[0;32m   1568\u001b[0m     )\n\u001b[0;32m   1569\u001b[0m     \u001b[38;5;28;01mreturn\u001b[39;00m cast(Self, loaded)\n",
            "File \u001b[1;32m~\\anaconda3\\envs\\torch_book\\Lib\\site-packages\\lightning\\pytorch\\core\\saving.py:61\u001b[0m, in \u001b[0;36m_load_from_checkpoint\u001b[1;34m(cls, checkpoint_path, map_location, hparams_file, strict, **kwargs)\u001b[0m\n\u001b[0;32m     59\u001b[0m map_location \u001b[38;5;241m=\u001b[39m map_location \u001b[38;5;129;01mor\u001b[39;00m _default_map_location\n\u001b[0;32m     60\u001b[0m \u001b[38;5;28;01mwith\u001b[39;00m pl_legacy_patch():\n\u001b[1;32m---> 61\u001b[0m     checkpoint \u001b[38;5;241m=\u001b[39m pl_load(checkpoint_path, map_location\u001b[38;5;241m=\u001b[39mmap_location)\n\u001b[0;32m     63\u001b[0m \u001b[38;5;66;03m# convert legacy checkpoints to the new format\u001b[39;00m\n\u001b[0;32m     64\u001b[0m checkpoint \u001b[38;5;241m=\u001b[39m _pl_migrate_checkpoint(\n\u001b[0;32m     65\u001b[0m     checkpoint, checkpoint_path\u001b[38;5;241m=\u001b[39m(checkpoint_path \u001b[38;5;28;01mif\u001b[39;00m \u001b[38;5;28misinstance\u001b[39m(checkpoint_path, (\u001b[38;5;28mstr\u001b[39m, Path)) \u001b[38;5;28;01melse\u001b[39;00m \u001b[38;5;28;01mNone\u001b[39;00m)\n\u001b[0;32m     66\u001b[0m )\n",
            "File \u001b[1;32m~\\anaconda3\\envs\\torch_book\\Lib\\site-packages\\lightning\\fabric\\utilities\\cloud_io.py:55\u001b[0m, in \u001b[0;36m_load\u001b[1;34m(path_or_url, map_location)\u001b[0m\n\u001b[0;32m     50\u001b[0m     \u001b[38;5;28;01mreturn\u001b[39;00m torch\u001b[38;5;241m.\u001b[39mhub\u001b[38;5;241m.\u001b[39mload_state_dict_from_url(\n\u001b[0;32m     51\u001b[0m         \u001b[38;5;28mstr\u001b[39m(path_or_url),\n\u001b[0;32m     52\u001b[0m         map_location\u001b[38;5;241m=\u001b[39mmap_location,  \u001b[38;5;66;03m# type: ignore[arg-type]\u001b[39;00m\n\u001b[0;32m     53\u001b[0m     )\n\u001b[0;32m     54\u001b[0m fs \u001b[38;5;241m=\u001b[39m get_filesystem(path_or_url)\n\u001b[1;32m---> 55\u001b[0m \u001b[38;5;28;01mwith\u001b[39;00m fs\u001b[38;5;241m.\u001b[39mopen(path_or_url, \u001b[38;5;124m\"\u001b[39m\u001b[38;5;124mrb\u001b[39m\u001b[38;5;124m\"\u001b[39m) \u001b[38;5;28;01mas\u001b[39;00m f:\n\u001b[0;32m     56\u001b[0m     \u001b[38;5;28;01mreturn\u001b[39;00m torch\u001b[38;5;241m.\u001b[39mload(f, map_location\u001b[38;5;241m=\u001b[39mmap_location)\n",
            "File \u001b[1;32m~\\anaconda3\\envs\\torch_book\\Lib\\site-packages\\fsspec\\spec.py:1295\u001b[0m, in \u001b[0;36mAbstractFileSystem.open\u001b[1;34m(self, path, mode, block_size, cache_options, compression, **kwargs)\u001b[0m\n\u001b[0;32m   1293\u001b[0m \u001b[38;5;28;01melse\u001b[39;00m:\n\u001b[0;32m   1294\u001b[0m     ac \u001b[38;5;241m=\u001b[39m kwargs\u001b[38;5;241m.\u001b[39mpop(\u001b[38;5;124m\"\u001b[39m\u001b[38;5;124mautocommit\u001b[39m\u001b[38;5;124m\"\u001b[39m, \u001b[38;5;129;01mnot\u001b[39;00m \u001b[38;5;28mself\u001b[39m\u001b[38;5;241m.\u001b[39m_intrans)\n\u001b[1;32m-> 1295\u001b[0m     f \u001b[38;5;241m=\u001b[39m \u001b[38;5;28mself\u001b[39m\u001b[38;5;241m.\u001b[39m_open(\n\u001b[0;32m   1296\u001b[0m         path,\n\u001b[0;32m   1297\u001b[0m         mode\u001b[38;5;241m=\u001b[39mmode,\n\u001b[0;32m   1298\u001b[0m         block_size\u001b[38;5;241m=\u001b[39mblock_size,\n\u001b[0;32m   1299\u001b[0m         autocommit\u001b[38;5;241m=\u001b[39mac,\n\u001b[0;32m   1300\u001b[0m         cache_options\u001b[38;5;241m=\u001b[39mcache_options,\n\u001b[0;32m   1301\u001b[0m         \u001b[38;5;241m*\u001b[39m\u001b[38;5;241m*\u001b[39mkwargs,\n\u001b[0;32m   1302\u001b[0m     )\n\u001b[0;32m   1303\u001b[0m     \u001b[38;5;28;01mif\u001b[39;00m compression \u001b[38;5;129;01mis\u001b[39;00m \u001b[38;5;129;01mnot\u001b[39;00m \u001b[38;5;28;01mNone\u001b[39;00m:\n\u001b[0;32m   1304\u001b[0m         \u001b[38;5;28;01mfrom\u001b[39;00m \u001b[38;5;21;01mfsspec\u001b[39;00m\u001b[38;5;21;01m.\u001b[39;00m\u001b[38;5;21;01mcompression\u001b[39;00m \u001b[38;5;28;01mimport\u001b[39;00m compr\n",
            "File \u001b[1;32m~\\anaconda3\\envs\\torch_book\\Lib\\site-packages\\fsspec\\implementations\\local.py:180\u001b[0m, in \u001b[0;36mLocalFileSystem._open\u001b[1;34m(self, path, mode, block_size, **kwargs)\u001b[0m\n\u001b[0;32m    178\u001b[0m \u001b[38;5;28;01mif\u001b[39;00m \u001b[38;5;28mself\u001b[39m\u001b[38;5;241m.\u001b[39mauto_mkdir \u001b[38;5;129;01mand\u001b[39;00m \u001b[38;5;124m\"\u001b[39m\u001b[38;5;124mw\u001b[39m\u001b[38;5;124m\"\u001b[39m \u001b[38;5;129;01min\u001b[39;00m mode:\n\u001b[0;32m    179\u001b[0m     \u001b[38;5;28mself\u001b[39m\u001b[38;5;241m.\u001b[39mmakedirs(\u001b[38;5;28mself\u001b[39m\u001b[38;5;241m.\u001b[39m_parent(path), exist_ok\u001b[38;5;241m=\u001b[39m\u001b[38;5;28;01mTrue\u001b[39;00m)\n\u001b[1;32m--> 180\u001b[0m \u001b[38;5;28;01mreturn\u001b[39;00m LocalFileOpener(path, mode, fs\u001b[38;5;241m=\u001b[39m\u001b[38;5;28mself\u001b[39m, \u001b[38;5;241m*\u001b[39m\u001b[38;5;241m*\u001b[39mkwargs)\n",
            "File \u001b[1;32m~\\anaconda3\\envs\\torch_book\\Lib\\site-packages\\fsspec\\implementations\\local.py:302\u001b[0m, in \u001b[0;36mLocalFileOpener.__init__\u001b[1;34m(self, path, mode, autocommit, fs, compression, **kwargs)\u001b[0m\n\u001b[0;32m    300\u001b[0m \u001b[38;5;28mself\u001b[39m\u001b[38;5;241m.\u001b[39mcompression \u001b[38;5;241m=\u001b[39m get_compression(path, compression)\n\u001b[0;32m    301\u001b[0m \u001b[38;5;28mself\u001b[39m\u001b[38;5;241m.\u001b[39mblocksize \u001b[38;5;241m=\u001b[39m io\u001b[38;5;241m.\u001b[39mDEFAULT_BUFFER_SIZE\n\u001b[1;32m--> 302\u001b[0m \u001b[38;5;28mself\u001b[39m\u001b[38;5;241m.\u001b[39m_open()\n",
            "File \u001b[1;32m~\\anaconda3\\envs\\torch_book\\Lib\\site-packages\\fsspec\\implementations\\local.py:307\u001b[0m, in \u001b[0;36mLocalFileOpener._open\u001b[1;34m(self)\u001b[0m\n\u001b[0;32m    305\u001b[0m \u001b[38;5;28;01mif\u001b[39;00m \u001b[38;5;28mself\u001b[39m\u001b[38;5;241m.\u001b[39mf \u001b[38;5;129;01mis\u001b[39;00m \u001b[38;5;28;01mNone\u001b[39;00m \u001b[38;5;129;01mor\u001b[39;00m \u001b[38;5;28mself\u001b[39m\u001b[38;5;241m.\u001b[39mf\u001b[38;5;241m.\u001b[39mclosed:\n\u001b[0;32m    306\u001b[0m     \u001b[38;5;28;01mif\u001b[39;00m \u001b[38;5;28mself\u001b[39m\u001b[38;5;241m.\u001b[39mautocommit \u001b[38;5;129;01mor\u001b[39;00m \u001b[38;5;124m\"\u001b[39m\u001b[38;5;124mw\u001b[39m\u001b[38;5;124m\"\u001b[39m \u001b[38;5;129;01mnot\u001b[39;00m \u001b[38;5;129;01min\u001b[39;00m \u001b[38;5;28mself\u001b[39m\u001b[38;5;241m.\u001b[39mmode:\n\u001b[1;32m--> 307\u001b[0m         \u001b[38;5;28mself\u001b[39m\u001b[38;5;241m.\u001b[39mf \u001b[38;5;241m=\u001b[39m \u001b[38;5;28mopen\u001b[39m(\u001b[38;5;28mself\u001b[39m\u001b[38;5;241m.\u001b[39mpath, mode\u001b[38;5;241m=\u001b[39m\u001b[38;5;28mself\u001b[39m\u001b[38;5;241m.\u001b[39mmode)\n\u001b[0;32m    308\u001b[0m         \u001b[38;5;28;01mif\u001b[39;00m \u001b[38;5;28mself\u001b[39m\u001b[38;5;241m.\u001b[39mcompression:\n\u001b[0;32m    309\u001b[0m             compress \u001b[38;5;241m=\u001b[39m compr[\u001b[38;5;28mself\u001b[39m\u001b[38;5;241m.\u001b[39mcompression]\n",
            "\u001b[1;31mPermissionError\u001b[0m: [Errno 13] Permission denied: 'C:/Dev/od_finetune'"
          ]
        }
      ]
    },
    {
      "cell_type": "code",
      "source": [],
      "metadata": {
        "id": "QIH9L1JYCVDp"
      },
      "execution_count": null,
      "outputs": []
    }
  ],
  "metadata": {
    "kernelspec": {
      "display_name": "Python 3",
      "language": "python",
      "name": "python3"
    },
    "language_info": {
      "codemirror_mode": {
        "name": "ipython",
        "version": 3
      },
      "file_extension": ".py",
      "mimetype": "text/x-python",
      "name": "python",
      "nbconvert_exporter": "python",
      "pygments_lexer": "ipython3",
      "version": "3.10.13"
    },
    "colab": {
      "provenance": [],
      "include_colab_link": true
    },
    "widgets": {
      "application/vnd.jupyter.widget-state+json": {
        "ce53e8af2a934a98b928a962097104c4": {
          "model_module": "@jupyter-widgets/controls",
          "model_name": "HBoxModel",
          "model_module_version": "2.0.0",
          "state": {
            "_dom_classes": [],
            "_model_module": "@jupyter-widgets/controls",
            "_model_module_version": "2.0.0",
            "_model_name": "HBoxModel",
            "_view_count": null,
            "_view_module": "@jupyter-widgets/controls",
            "_view_module_version": "2.0.0",
            "_view_name": "HBoxView",
            "box_style": "",
            "children": [
              "IPY_MODEL_8199cc47d8d3474c8da36062d53c7e09",
              "IPY_MODEL_5db2418b2aa5445db37b825b30cb9e4d",
              "IPY_MODEL_6d843e32b6fa4002a5cbb074f0da89a5"
            ],
            "layout": "IPY_MODEL_e3e3dc52e6984e4aa54baf4bdeab1f05",
            "tabbable": null,
            "tooltip": null
          }
        },
        "8199cc47d8d3474c8da36062d53c7e09": {
          "model_module": "@jupyter-widgets/controls",
          "model_name": "HTMLModel",
          "model_module_version": "2.0.0",
          "state": {
            "_dom_classes": [],
            "_model_module": "@jupyter-widgets/controls",
            "_model_module_version": "2.0.0",
            "_model_name": "HTMLModel",
            "_view_count": null,
            "_view_module": "@jupyter-widgets/controls",
            "_view_module_version": "2.0.0",
            "_view_name": "HTMLView",
            "description": "",
            "description_allow_html": false,
            "layout": "IPY_MODEL_601743c7bb87472e92b8ee4641ab7202",
            "placeholder": "​",
            "style": "IPY_MODEL_1515239e08a445ad909d70533704e971",
            "tabbable": null,
            "tooltip": null,
            "value": "Sanity Checking DataLoader 0: 100%"
          }
        },
        "5db2418b2aa5445db37b825b30cb9e4d": {
          "model_module": "@jupyter-widgets/controls",
          "model_name": "FloatProgressModel",
          "model_module_version": "2.0.0",
          "state": {
            "_dom_classes": [],
            "_model_module": "@jupyter-widgets/controls",
            "_model_module_version": "2.0.0",
            "_model_name": "FloatProgressModel",
            "_view_count": null,
            "_view_module": "@jupyter-widgets/controls",
            "_view_module_version": "2.0.0",
            "_view_name": "ProgressView",
            "bar_style": "",
            "description": "",
            "description_allow_html": false,
            "layout": "IPY_MODEL_158540080e0047298300a0bd7a9131fa",
            "max": 2,
            "min": 0,
            "orientation": "horizontal",
            "style": "IPY_MODEL_37cc4e0bc09c432082aa3b90176c3e4f",
            "tabbable": null,
            "tooltip": null,
            "value": 2
          }
        },
        "6d843e32b6fa4002a5cbb074f0da89a5": {
          "model_module": "@jupyter-widgets/controls",
          "model_name": "HTMLModel",
          "model_module_version": "2.0.0",
          "state": {
            "_dom_classes": [],
            "_model_module": "@jupyter-widgets/controls",
            "_model_module_version": "2.0.0",
            "_model_name": "HTMLModel",
            "_view_count": null,
            "_view_module": "@jupyter-widgets/controls",
            "_view_module_version": "2.0.0",
            "_view_name": "HTMLView",
            "description": "",
            "description_allow_html": false,
            "layout": "IPY_MODEL_db852b7383b74df0a1fadf8f510c97fd",
            "placeholder": "​",
            "style": "IPY_MODEL_213ce197677a42108754490853815630",
            "tabbable": null,
            "tooltip": null,
            "value": " 2/2 [00:00&lt;00:00,  5.37it/s]"
          }
        },
        "e3e3dc52e6984e4aa54baf4bdeab1f05": {
          "model_module": "@jupyter-widgets/base",
          "model_name": "LayoutModel",
          "model_module_version": "2.0.0",
          "state": {
            "_model_module": "@jupyter-widgets/base",
            "_model_module_version": "2.0.0",
            "_model_name": "LayoutModel",
            "_view_count": null,
            "_view_module": "@jupyter-widgets/base",
            "_view_module_version": "2.0.0",
            "_view_name": "LayoutView",
            "align_content": null,
            "align_items": null,
            "align_self": null,
            "border_bottom": null,
            "border_left": null,
            "border_right": null,
            "border_top": null,
            "bottom": null,
            "display": "inline-flex",
            "flex": null,
            "flex_flow": "row wrap",
            "grid_area": null,
            "grid_auto_columns": null,
            "grid_auto_flow": null,
            "grid_auto_rows": null,
            "grid_column": null,
            "grid_gap": null,
            "grid_row": null,
            "grid_template_areas": null,
            "grid_template_columns": null,
            "grid_template_rows": null,
            "height": null,
            "justify_content": null,
            "justify_items": null,
            "left": null,
            "margin": null,
            "max_height": null,
            "max_width": null,
            "min_height": null,
            "min_width": null,
            "object_fit": null,
            "object_position": null,
            "order": null,
            "overflow": null,
            "padding": null,
            "right": null,
            "top": null,
            "visibility": "hidden",
            "width": "100%"
          }
        },
        "601743c7bb87472e92b8ee4641ab7202": {
          "model_module": "@jupyter-widgets/base",
          "model_name": "LayoutModel",
          "model_module_version": "2.0.0",
          "state": {
            "_model_module": "@jupyter-widgets/base",
            "_model_module_version": "2.0.0",
            "_model_name": "LayoutModel",
            "_view_count": null,
            "_view_module": "@jupyter-widgets/base",
            "_view_module_version": "2.0.0",
            "_view_name": "LayoutView",
            "align_content": null,
            "align_items": null,
            "align_self": null,
            "border_bottom": null,
            "border_left": null,
            "border_right": null,
            "border_top": null,
            "bottom": null,
            "display": null,
            "flex": null,
            "flex_flow": null,
            "grid_area": null,
            "grid_auto_columns": null,
            "grid_auto_flow": null,
            "grid_auto_rows": null,
            "grid_column": null,
            "grid_gap": null,
            "grid_row": null,
            "grid_template_areas": null,
            "grid_template_columns": null,
            "grid_template_rows": null,
            "height": null,
            "justify_content": null,
            "justify_items": null,
            "left": null,
            "margin": null,
            "max_height": null,
            "max_width": null,
            "min_height": null,
            "min_width": null,
            "object_fit": null,
            "object_position": null,
            "order": null,
            "overflow": null,
            "padding": null,
            "right": null,
            "top": null,
            "visibility": null,
            "width": null
          }
        },
        "1515239e08a445ad909d70533704e971": {
          "model_module": "@jupyter-widgets/controls",
          "model_name": "HTMLStyleModel",
          "model_module_version": "2.0.0",
          "state": {
            "_model_module": "@jupyter-widgets/controls",
            "_model_module_version": "2.0.0",
            "_model_name": "HTMLStyleModel",
            "_view_count": null,
            "_view_module": "@jupyter-widgets/base",
            "_view_module_version": "2.0.0",
            "_view_name": "StyleView",
            "background": null,
            "description_width": "",
            "font_size": null,
            "text_color": null
          }
        },
        "158540080e0047298300a0bd7a9131fa": {
          "model_module": "@jupyter-widgets/base",
          "model_name": "LayoutModel",
          "model_module_version": "2.0.0",
          "state": {
            "_model_module": "@jupyter-widgets/base",
            "_model_module_version": "2.0.0",
            "_model_name": "LayoutModel",
            "_view_count": null,
            "_view_module": "@jupyter-widgets/base",
            "_view_module_version": "2.0.0",
            "_view_name": "LayoutView",
            "align_content": null,
            "align_items": null,
            "align_self": null,
            "border_bottom": null,
            "border_left": null,
            "border_right": null,
            "border_top": null,
            "bottom": null,
            "display": null,
            "flex": "2",
            "flex_flow": null,
            "grid_area": null,
            "grid_auto_columns": null,
            "grid_auto_flow": null,
            "grid_auto_rows": null,
            "grid_column": null,
            "grid_gap": null,
            "grid_row": null,
            "grid_template_areas": null,
            "grid_template_columns": null,
            "grid_template_rows": null,
            "height": null,
            "justify_content": null,
            "justify_items": null,
            "left": null,
            "margin": null,
            "max_height": null,
            "max_width": null,
            "min_height": null,
            "min_width": null,
            "object_fit": null,
            "object_position": null,
            "order": null,
            "overflow": null,
            "padding": null,
            "right": null,
            "top": null,
            "visibility": null,
            "width": null
          }
        },
        "37cc4e0bc09c432082aa3b90176c3e4f": {
          "model_module": "@jupyter-widgets/controls",
          "model_name": "ProgressStyleModel",
          "model_module_version": "2.0.0",
          "state": {
            "_model_module": "@jupyter-widgets/controls",
            "_model_module_version": "2.0.0",
            "_model_name": "ProgressStyleModel",
            "_view_count": null,
            "_view_module": "@jupyter-widgets/base",
            "_view_module_version": "2.0.0",
            "_view_name": "StyleView",
            "bar_color": null,
            "description_width": ""
          }
        },
        "db852b7383b74df0a1fadf8f510c97fd": {
          "model_module": "@jupyter-widgets/base",
          "model_name": "LayoutModel",
          "model_module_version": "2.0.0",
          "state": {
            "_model_module": "@jupyter-widgets/base",
            "_model_module_version": "2.0.0",
            "_model_name": "LayoutModel",
            "_view_count": null,
            "_view_module": "@jupyter-widgets/base",
            "_view_module_version": "2.0.0",
            "_view_name": "LayoutView",
            "align_content": null,
            "align_items": null,
            "align_self": null,
            "border_bottom": null,
            "border_left": null,
            "border_right": null,
            "border_top": null,
            "bottom": null,
            "display": null,
            "flex": null,
            "flex_flow": null,
            "grid_area": null,
            "grid_auto_columns": null,
            "grid_auto_flow": null,
            "grid_auto_rows": null,
            "grid_column": null,
            "grid_gap": null,
            "grid_row": null,
            "grid_template_areas": null,
            "grid_template_columns": null,
            "grid_template_rows": null,
            "height": null,
            "justify_content": null,
            "justify_items": null,
            "left": null,
            "margin": null,
            "max_height": null,
            "max_width": null,
            "min_height": null,
            "min_width": null,
            "object_fit": null,
            "object_position": null,
            "order": null,
            "overflow": null,
            "padding": null,
            "right": null,
            "top": null,
            "visibility": null,
            "width": null
          }
        },
        "213ce197677a42108754490853815630": {
          "model_module": "@jupyter-widgets/controls",
          "model_name": "HTMLStyleModel",
          "model_module_version": "2.0.0",
          "state": {
            "_model_module": "@jupyter-widgets/controls",
            "_model_module_version": "2.0.0",
            "_model_name": "HTMLStyleModel",
            "_view_count": null,
            "_view_module": "@jupyter-widgets/base",
            "_view_module_version": "2.0.0",
            "_view_name": "StyleView",
            "background": null,
            "description_width": "",
            "font_size": null,
            "text_color": null
          }
        },
        "307462b782b7495fa5b7dad4e876bbb6": {
          "model_module": "@jupyter-widgets/controls",
          "model_name": "HBoxModel",
          "model_module_version": "2.0.0",
          "state": {
            "_dom_classes": [],
            "_model_module": "@jupyter-widgets/controls",
            "_model_module_version": "2.0.0",
            "_model_name": "HBoxModel",
            "_view_count": null,
            "_view_module": "@jupyter-widgets/controls",
            "_view_module_version": "2.0.0",
            "_view_name": "HBoxView",
            "box_style": "",
            "children": [
              "IPY_MODEL_1d030770e92946fb8db85b9407cdabc8",
              "IPY_MODEL_a9965ba77d914d7da8629036efe50776",
              "IPY_MODEL_d8a443f01dba456f98409db825a69f4a"
            ],
            "layout": "IPY_MODEL_f4100d8b72ed4c038f0d725b99e61bae",
            "tabbable": null,
            "tooltip": null
          }
        },
        "1d030770e92946fb8db85b9407cdabc8": {
          "model_module": "@jupyter-widgets/controls",
          "model_name": "HTMLModel",
          "model_module_version": "2.0.0",
          "state": {
            "_dom_classes": [],
            "_model_module": "@jupyter-widgets/controls",
            "_model_module_version": "2.0.0",
            "_model_name": "HTMLModel",
            "_view_count": null,
            "_view_module": "@jupyter-widgets/controls",
            "_view_module_version": "2.0.0",
            "_view_name": "HTMLView",
            "description": "",
            "description_allow_html": false,
            "layout": "IPY_MODEL_9da300450eb2413f87501068475f70f6",
            "placeholder": "​",
            "style": "IPY_MODEL_a9caf9d47fc24ef790beaa50e13c2388",
            "tabbable": null,
            "tooltip": null,
            "value": "Epoch 4: 100%"
          }
        },
        "a9965ba77d914d7da8629036efe50776": {
          "model_module": "@jupyter-widgets/controls",
          "model_name": "FloatProgressModel",
          "model_module_version": "2.0.0",
          "state": {
            "_dom_classes": [],
            "_model_module": "@jupyter-widgets/controls",
            "_model_module_version": "2.0.0",
            "_model_name": "FloatProgressModel",
            "_view_count": null,
            "_view_module": "@jupyter-widgets/controls",
            "_view_module_version": "2.0.0",
            "_view_name": "ProgressView",
            "bar_style": "success",
            "description": "",
            "description_allow_html": false,
            "layout": "IPY_MODEL_e028251fc94c470fa549687b7089c49d",
            "max": 13,
            "min": 0,
            "orientation": "horizontal",
            "style": "IPY_MODEL_9d97e1573fe04717af25511e0db6267a",
            "tabbable": null,
            "tooltip": null,
            "value": 13
          }
        },
        "d8a443f01dba456f98409db825a69f4a": {
          "model_module": "@jupyter-widgets/controls",
          "model_name": "HTMLModel",
          "model_module_version": "2.0.0",
          "state": {
            "_dom_classes": [],
            "_model_module": "@jupyter-widgets/controls",
            "_model_module_version": "2.0.0",
            "_model_name": "HTMLModel",
            "_view_count": null,
            "_view_module": "@jupyter-widgets/controls",
            "_view_module_version": "2.0.0",
            "_view_name": "HTMLView",
            "description": "",
            "description_allow_html": false,
            "layout": "IPY_MODEL_099b6dd5a1a04fdda9af26b9474e626a",
            "placeholder": "​",
            "style": "IPY_MODEL_c21a08263a474261903820cdcefa9bb6",
            "tabbable": null,
            "tooltip": null,
            "value": " 13/13 [00:02&lt;00:00,  4.48it/s, v_num=0, train_loss=0.711, train_acc_step=0.353, val_loss=0.693, val_acc_step=0.535]"
          }
        },
        "f4100d8b72ed4c038f0d725b99e61bae": {
          "model_module": "@jupyter-widgets/base",
          "model_name": "LayoutModel",
          "model_module_version": "2.0.0",
          "state": {
            "_model_module": "@jupyter-widgets/base",
            "_model_module_version": "2.0.0",
            "_model_name": "LayoutModel",
            "_view_count": null,
            "_view_module": "@jupyter-widgets/base",
            "_view_module_version": "2.0.0",
            "_view_name": "LayoutView",
            "align_content": null,
            "align_items": null,
            "align_self": null,
            "border_bottom": null,
            "border_left": null,
            "border_right": null,
            "border_top": null,
            "bottom": null,
            "display": "inline-flex",
            "flex": null,
            "flex_flow": "row wrap",
            "grid_area": null,
            "grid_auto_columns": null,
            "grid_auto_flow": null,
            "grid_auto_rows": null,
            "grid_column": null,
            "grid_gap": null,
            "grid_row": null,
            "grid_template_areas": null,
            "grid_template_columns": null,
            "grid_template_rows": null,
            "height": null,
            "justify_content": null,
            "justify_items": null,
            "left": null,
            "margin": null,
            "max_height": null,
            "max_width": null,
            "min_height": null,
            "min_width": null,
            "object_fit": null,
            "object_position": null,
            "order": null,
            "overflow": null,
            "padding": null,
            "right": null,
            "top": null,
            "visibility": null,
            "width": "100%"
          }
        },
        "9da300450eb2413f87501068475f70f6": {
          "model_module": "@jupyter-widgets/base",
          "model_name": "LayoutModel",
          "model_module_version": "2.0.0",
          "state": {
            "_model_module": "@jupyter-widgets/base",
            "_model_module_version": "2.0.0",
            "_model_name": "LayoutModel",
            "_view_count": null,
            "_view_module": "@jupyter-widgets/base",
            "_view_module_version": "2.0.0",
            "_view_name": "LayoutView",
            "align_content": null,
            "align_items": null,
            "align_self": null,
            "border_bottom": null,
            "border_left": null,
            "border_right": null,
            "border_top": null,
            "bottom": null,
            "display": null,
            "flex": null,
            "flex_flow": null,
            "grid_area": null,
            "grid_auto_columns": null,
            "grid_auto_flow": null,
            "grid_auto_rows": null,
            "grid_column": null,
            "grid_gap": null,
            "grid_row": null,
            "grid_template_areas": null,
            "grid_template_columns": null,
            "grid_template_rows": null,
            "height": null,
            "justify_content": null,
            "justify_items": null,
            "left": null,
            "margin": null,
            "max_height": null,
            "max_width": null,
            "min_height": null,
            "min_width": null,
            "object_fit": null,
            "object_position": null,
            "order": null,
            "overflow": null,
            "padding": null,
            "right": null,
            "top": null,
            "visibility": null,
            "width": null
          }
        },
        "a9caf9d47fc24ef790beaa50e13c2388": {
          "model_module": "@jupyter-widgets/controls",
          "model_name": "HTMLStyleModel",
          "model_module_version": "2.0.0",
          "state": {
            "_model_module": "@jupyter-widgets/controls",
            "_model_module_version": "2.0.0",
            "_model_name": "HTMLStyleModel",
            "_view_count": null,
            "_view_module": "@jupyter-widgets/base",
            "_view_module_version": "2.0.0",
            "_view_name": "StyleView",
            "background": null,
            "description_width": "",
            "font_size": null,
            "text_color": null
          }
        },
        "e028251fc94c470fa549687b7089c49d": {
          "model_module": "@jupyter-widgets/base",
          "model_name": "LayoutModel",
          "model_module_version": "2.0.0",
          "state": {
            "_model_module": "@jupyter-widgets/base",
            "_model_module_version": "2.0.0",
            "_model_name": "LayoutModel",
            "_view_count": null,
            "_view_module": "@jupyter-widgets/base",
            "_view_module_version": "2.0.0",
            "_view_name": "LayoutView",
            "align_content": null,
            "align_items": null,
            "align_self": null,
            "border_bottom": null,
            "border_left": null,
            "border_right": null,
            "border_top": null,
            "bottom": null,
            "display": null,
            "flex": "2",
            "flex_flow": null,
            "grid_area": null,
            "grid_auto_columns": null,
            "grid_auto_flow": null,
            "grid_auto_rows": null,
            "grid_column": null,
            "grid_gap": null,
            "grid_row": null,
            "grid_template_areas": null,
            "grid_template_columns": null,
            "grid_template_rows": null,
            "height": null,
            "justify_content": null,
            "justify_items": null,
            "left": null,
            "margin": null,
            "max_height": null,
            "max_width": null,
            "min_height": null,
            "min_width": null,
            "object_fit": null,
            "object_position": null,
            "order": null,
            "overflow": null,
            "padding": null,
            "right": null,
            "top": null,
            "visibility": null,
            "width": null
          }
        },
        "9d97e1573fe04717af25511e0db6267a": {
          "model_module": "@jupyter-widgets/controls",
          "model_name": "ProgressStyleModel",
          "model_module_version": "2.0.0",
          "state": {
            "_model_module": "@jupyter-widgets/controls",
            "_model_module_version": "2.0.0",
            "_model_name": "ProgressStyleModel",
            "_view_count": null,
            "_view_module": "@jupyter-widgets/base",
            "_view_module_version": "2.0.0",
            "_view_name": "StyleView",
            "bar_color": null,
            "description_width": ""
          }
        },
        "099b6dd5a1a04fdda9af26b9474e626a": {
          "model_module": "@jupyter-widgets/base",
          "model_name": "LayoutModel",
          "model_module_version": "2.0.0",
          "state": {
            "_model_module": "@jupyter-widgets/base",
            "_model_module_version": "2.0.0",
            "_model_name": "LayoutModel",
            "_view_count": null,
            "_view_module": "@jupyter-widgets/base",
            "_view_module_version": "2.0.0",
            "_view_name": "LayoutView",
            "align_content": null,
            "align_items": null,
            "align_self": null,
            "border_bottom": null,
            "border_left": null,
            "border_right": null,
            "border_top": null,
            "bottom": null,
            "display": null,
            "flex": null,
            "flex_flow": null,
            "grid_area": null,
            "grid_auto_columns": null,
            "grid_auto_flow": null,
            "grid_auto_rows": null,
            "grid_column": null,
            "grid_gap": null,
            "grid_row": null,
            "grid_template_areas": null,
            "grid_template_columns": null,
            "grid_template_rows": null,
            "height": null,
            "justify_content": null,
            "justify_items": null,
            "left": null,
            "margin": null,
            "max_height": null,
            "max_width": null,
            "min_height": null,
            "min_width": null,
            "object_fit": null,
            "object_position": null,
            "order": null,
            "overflow": null,
            "padding": null,
            "right": null,
            "top": null,
            "visibility": null,
            "width": null
          }
        },
        "c21a08263a474261903820cdcefa9bb6": {
          "model_module": "@jupyter-widgets/controls",
          "model_name": "HTMLStyleModel",
          "model_module_version": "2.0.0",
          "state": {
            "_model_module": "@jupyter-widgets/controls",
            "_model_module_version": "2.0.0",
            "_model_name": "HTMLStyleModel",
            "_view_count": null,
            "_view_module": "@jupyter-widgets/base",
            "_view_module_version": "2.0.0",
            "_view_name": "StyleView",
            "background": null,
            "description_width": "",
            "font_size": null,
            "text_color": null
          }
        },
        "d24cce6b06414bba812bc71260c48aa8": {
          "model_module": "@jupyter-widgets/controls",
          "model_name": "HBoxModel",
          "model_module_version": "2.0.0",
          "state": {
            "_dom_classes": [],
            "_model_module": "@jupyter-widgets/controls",
            "_model_module_version": "2.0.0",
            "_model_name": "HBoxModel",
            "_view_count": null,
            "_view_module": "@jupyter-widgets/controls",
            "_view_module_version": "2.0.0",
            "_view_name": "HBoxView",
            "box_style": "",
            "children": [
              "IPY_MODEL_e9f726795e8e41c7a8c4c88abdf884eb",
              "IPY_MODEL_d98a412fa80347129aa0945b65aa5a23",
              "IPY_MODEL_ed3bd49828364ce69903f8069cdd74c8"
            ],
            "layout": "IPY_MODEL_db17003938d74d25bfadfd528d420dae",
            "tabbable": null,
            "tooltip": null
          }
        },
        "e9f726795e8e41c7a8c4c88abdf884eb": {
          "model_module": "@jupyter-widgets/controls",
          "model_name": "HTMLModel",
          "model_module_version": "2.0.0",
          "state": {
            "_dom_classes": [],
            "_model_module": "@jupyter-widgets/controls",
            "_model_module_version": "2.0.0",
            "_model_name": "HTMLModel",
            "_view_count": null,
            "_view_module": "@jupyter-widgets/controls",
            "_view_module_version": "2.0.0",
            "_view_name": "HTMLView",
            "description": "",
            "description_allow_html": false,
            "layout": "IPY_MODEL_e609645c798246a690d20a3b634a7227",
            "placeholder": "​",
            "style": "IPY_MODEL_7951fa1576424326a61d0dbc39969c13",
            "tabbable": null,
            "tooltip": null,
            "value": "Validation DataLoader 0: 100%"
          }
        },
        "d98a412fa80347129aa0945b65aa5a23": {
          "model_module": "@jupyter-widgets/controls",
          "model_name": "FloatProgressModel",
          "model_module_version": "2.0.0",
          "state": {
            "_dom_classes": [],
            "_model_module": "@jupyter-widgets/controls",
            "_model_module_version": "2.0.0",
            "_model_name": "FloatProgressModel",
            "_view_count": null,
            "_view_module": "@jupyter-widgets/controls",
            "_view_module_version": "2.0.0",
            "_view_name": "ProgressView",
            "bar_style": "",
            "description": "",
            "description_allow_html": false,
            "layout": "IPY_MODEL_ed3ec3167edd4eefb76606257b1b3215",
            "max": 4,
            "min": 0,
            "orientation": "horizontal",
            "style": "IPY_MODEL_e7171e551aff48d583d17496fe3e6992",
            "tabbable": null,
            "tooltip": null,
            "value": 4
          }
        },
        "ed3bd49828364ce69903f8069cdd74c8": {
          "model_module": "@jupyter-widgets/controls",
          "model_name": "HTMLModel",
          "model_module_version": "2.0.0",
          "state": {
            "_dom_classes": [],
            "_model_module": "@jupyter-widgets/controls",
            "_model_module_version": "2.0.0",
            "_model_name": "HTMLModel",
            "_view_count": null,
            "_view_module": "@jupyter-widgets/controls",
            "_view_module_version": "2.0.0",
            "_view_name": "HTMLView",
            "description": "",
            "description_allow_html": false,
            "layout": "IPY_MODEL_1ddbc9239dd642a68ceb5d39daf27d12",
            "placeholder": "​",
            "style": "IPY_MODEL_919403cc2eb84a07b7811820d29ca7b1",
            "tabbable": null,
            "tooltip": null,
            "value": " 4/4 [00:00&lt;00:00, 11.74it/s]"
          }
        },
        "db17003938d74d25bfadfd528d420dae": {
          "model_module": "@jupyter-widgets/base",
          "model_name": "LayoutModel",
          "model_module_version": "2.0.0",
          "state": {
            "_model_module": "@jupyter-widgets/base",
            "_model_module_version": "2.0.0",
            "_model_name": "LayoutModel",
            "_view_count": null,
            "_view_module": "@jupyter-widgets/base",
            "_view_module_version": "2.0.0",
            "_view_name": "LayoutView",
            "align_content": null,
            "align_items": null,
            "align_self": null,
            "border_bottom": null,
            "border_left": null,
            "border_right": null,
            "border_top": null,
            "bottom": null,
            "display": "inline-flex",
            "flex": null,
            "flex_flow": "row wrap",
            "grid_area": null,
            "grid_auto_columns": null,
            "grid_auto_flow": null,
            "grid_auto_rows": null,
            "grid_column": null,
            "grid_gap": null,
            "grid_row": null,
            "grid_template_areas": null,
            "grid_template_columns": null,
            "grid_template_rows": null,
            "height": null,
            "justify_content": null,
            "justify_items": null,
            "left": null,
            "margin": null,
            "max_height": null,
            "max_width": null,
            "min_height": null,
            "min_width": null,
            "object_fit": null,
            "object_position": null,
            "order": null,
            "overflow": null,
            "padding": null,
            "right": null,
            "top": null,
            "visibility": "hidden",
            "width": "100%"
          }
        },
        "e609645c798246a690d20a3b634a7227": {
          "model_module": "@jupyter-widgets/base",
          "model_name": "LayoutModel",
          "model_module_version": "2.0.0",
          "state": {
            "_model_module": "@jupyter-widgets/base",
            "_model_module_version": "2.0.0",
            "_model_name": "LayoutModel",
            "_view_count": null,
            "_view_module": "@jupyter-widgets/base",
            "_view_module_version": "2.0.0",
            "_view_name": "LayoutView",
            "align_content": null,
            "align_items": null,
            "align_self": null,
            "border_bottom": null,
            "border_left": null,
            "border_right": null,
            "border_top": null,
            "bottom": null,
            "display": null,
            "flex": null,
            "flex_flow": null,
            "grid_area": null,
            "grid_auto_columns": null,
            "grid_auto_flow": null,
            "grid_auto_rows": null,
            "grid_column": null,
            "grid_gap": null,
            "grid_row": null,
            "grid_template_areas": null,
            "grid_template_columns": null,
            "grid_template_rows": null,
            "height": null,
            "justify_content": null,
            "justify_items": null,
            "left": null,
            "margin": null,
            "max_height": null,
            "max_width": null,
            "min_height": null,
            "min_width": null,
            "object_fit": null,
            "object_position": null,
            "order": null,
            "overflow": null,
            "padding": null,
            "right": null,
            "top": null,
            "visibility": null,
            "width": null
          }
        },
        "7951fa1576424326a61d0dbc39969c13": {
          "model_module": "@jupyter-widgets/controls",
          "model_name": "HTMLStyleModel",
          "model_module_version": "2.0.0",
          "state": {
            "_model_module": "@jupyter-widgets/controls",
            "_model_module_version": "2.0.0",
            "_model_name": "HTMLStyleModel",
            "_view_count": null,
            "_view_module": "@jupyter-widgets/base",
            "_view_module_version": "2.0.0",
            "_view_name": "StyleView",
            "background": null,
            "description_width": "",
            "font_size": null,
            "text_color": null
          }
        },
        "ed3ec3167edd4eefb76606257b1b3215": {
          "model_module": "@jupyter-widgets/base",
          "model_name": "LayoutModel",
          "model_module_version": "2.0.0",
          "state": {
            "_model_module": "@jupyter-widgets/base",
            "_model_module_version": "2.0.0",
            "_model_name": "LayoutModel",
            "_view_count": null,
            "_view_module": "@jupyter-widgets/base",
            "_view_module_version": "2.0.0",
            "_view_name": "LayoutView",
            "align_content": null,
            "align_items": null,
            "align_self": null,
            "border_bottom": null,
            "border_left": null,
            "border_right": null,
            "border_top": null,
            "bottom": null,
            "display": null,
            "flex": "2",
            "flex_flow": null,
            "grid_area": null,
            "grid_auto_columns": null,
            "grid_auto_flow": null,
            "grid_auto_rows": null,
            "grid_column": null,
            "grid_gap": null,
            "grid_row": null,
            "grid_template_areas": null,
            "grid_template_columns": null,
            "grid_template_rows": null,
            "height": null,
            "justify_content": null,
            "justify_items": null,
            "left": null,
            "margin": null,
            "max_height": null,
            "max_width": null,
            "min_height": null,
            "min_width": null,
            "object_fit": null,
            "object_position": null,
            "order": null,
            "overflow": null,
            "padding": null,
            "right": null,
            "top": null,
            "visibility": null,
            "width": null
          }
        },
        "e7171e551aff48d583d17496fe3e6992": {
          "model_module": "@jupyter-widgets/controls",
          "model_name": "ProgressStyleModel",
          "model_module_version": "2.0.0",
          "state": {
            "_model_module": "@jupyter-widgets/controls",
            "_model_module_version": "2.0.0",
            "_model_name": "ProgressStyleModel",
            "_view_count": null,
            "_view_module": "@jupyter-widgets/base",
            "_view_module_version": "2.0.0",
            "_view_name": "StyleView",
            "bar_color": null,
            "description_width": ""
          }
        },
        "1ddbc9239dd642a68ceb5d39daf27d12": {
          "model_module": "@jupyter-widgets/base",
          "model_name": "LayoutModel",
          "model_module_version": "2.0.0",
          "state": {
            "_model_module": "@jupyter-widgets/base",
            "_model_module_version": "2.0.0",
            "_model_name": "LayoutModel",
            "_view_count": null,
            "_view_module": "@jupyter-widgets/base",
            "_view_module_version": "2.0.0",
            "_view_name": "LayoutView",
            "align_content": null,
            "align_items": null,
            "align_self": null,
            "border_bottom": null,
            "border_left": null,
            "border_right": null,
            "border_top": null,
            "bottom": null,
            "display": null,
            "flex": null,
            "flex_flow": null,
            "grid_area": null,
            "grid_auto_columns": null,
            "grid_auto_flow": null,
            "grid_auto_rows": null,
            "grid_column": null,
            "grid_gap": null,
            "grid_row": null,
            "grid_template_areas": null,
            "grid_template_columns": null,
            "grid_template_rows": null,
            "height": null,
            "justify_content": null,
            "justify_items": null,
            "left": null,
            "margin": null,
            "max_height": null,
            "max_width": null,
            "min_height": null,
            "min_width": null,
            "object_fit": null,
            "object_position": null,
            "order": null,
            "overflow": null,
            "padding": null,
            "right": null,
            "top": null,
            "visibility": null,
            "width": null
          }
        },
        "919403cc2eb84a07b7811820d29ca7b1": {
          "model_module": "@jupyter-widgets/controls",
          "model_name": "HTMLStyleModel",
          "model_module_version": "2.0.0",
          "state": {
            "_model_module": "@jupyter-widgets/controls",
            "_model_module_version": "2.0.0",
            "_model_name": "HTMLStyleModel",
            "_view_count": null,
            "_view_module": "@jupyter-widgets/base",
            "_view_module_version": "2.0.0",
            "_view_name": "StyleView",
            "background": null,
            "description_width": "",
            "font_size": null,
            "text_color": null
          }
        },
        "2c50b6e545574f889b81db2a02f922d4": {
          "model_module": "@jupyter-widgets/controls",
          "model_name": "HBoxModel",
          "model_module_version": "2.0.0",
          "state": {
            "_dom_classes": [],
            "_model_module": "@jupyter-widgets/controls",
            "_model_module_version": "2.0.0",
            "_model_name": "HBoxModel",
            "_view_count": null,
            "_view_module": "@jupyter-widgets/controls",
            "_view_module_version": "2.0.0",
            "_view_name": "HBoxView",
            "box_style": "",
            "children": [
              "IPY_MODEL_e041ec3bba1c400fbdac305b9b0d2a2b",
              "IPY_MODEL_bf669853836d42f9867f3f84d72942e1",
              "IPY_MODEL_ab18623e0ce04a6db0df027bb5294717"
            ],
            "layout": "IPY_MODEL_10108ccbdc724ec58d98bb0f38253bb8",
            "tabbable": null,
            "tooltip": null
          }
        },
        "e041ec3bba1c400fbdac305b9b0d2a2b": {
          "model_module": "@jupyter-widgets/controls",
          "model_name": "HTMLModel",
          "model_module_version": "2.0.0",
          "state": {
            "_dom_classes": [],
            "_model_module": "@jupyter-widgets/controls",
            "_model_module_version": "2.0.0",
            "_model_name": "HTMLModel",
            "_view_count": null,
            "_view_module": "@jupyter-widgets/controls",
            "_view_module_version": "2.0.0",
            "_view_name": "HTMLView",
            "description": "",
            "description_allow_html": false,
            "layout": "IPY_MODEL_e2f15e722e354a21bf86fac58d1c85c8",
            "placeholder": "​",
            "style": "IPY_MODEL_591fe4c5e07a4e3d9cf56d9ce9244a33",
            "tabbable": null,
            "tooltip": null,
            "value": "Validation DataLoader 0: 100%"
          }
        },
        "bf669853836d42f9867f3f84d72942e1": {
          "model_module": "@jupyter-widgets/controls",
          "model_name": "FloatProgressModel",
          "model_module_version": "2.0.0",
          "state": {
            "_dom_classes": [],
            "_model_module": "@jupyter-widgets/controls",
            "_model_module_version": "2.0.0",
            "_model_name": "FloatProgressModel",
            "_view_count": null,
            "_view_module": "@jupyter-widgets/controls",
            "_view_module_version": "2.0.0",
            "_view_name": "ProgressView",
            "bar_style": "",
            "description": "",
            "description_allow_html": false,
            "layout": "IPY_MODEL_24866d75bccd4d7094edb189ca322229",
            "max": 4,
            "min": 0,
            "orientation": "horizontal",
            "style": "IPY_MODEL_6ef3e5b31026418e91d8ad383b8ae1c2",
            "tabbable": null,
            "tooltip": null,
            "value": 4
          }
        },
        "ab18623e0ce04a6db0df027bb5294717": {
          "model_module": "@jupyter-widgets/controls",
          "model_name": "HTMLModel",
          "model_module_version": "2.0.0",
          "state": {
            "_dom_classes": [],
            "_model_module": "@jupyter-widgets/controls",
            "_model_module_version": "2.0.0",
            "_model_name": "HTMLModel",
            "_view_count": null,
            "_view_module": "@jupyter-widgets/controls",
            "_view_module_version": "2.0.0",
            "_view_name": "HTMLView",
            "description": "",
            "description_allow_html": false,
            "layout": "IPY_MODEL_34bf77125ea243ab8fbcef4c6ef6926b",
            "placeholder": "​",
            "style": "IPY_MODEL_530fc61439144dfdafeb476edabdf9bb",
            "tabbable": null,
            "tooltip": null,
            "value": " 4/4 [00:00&lt;00:00, 10.99it/s]"
          }
        },
        "10108ccbdc724ec58d98bb0f38253bb8": {
          "model_module": "@jupyter-widgets/base",
          "model_name": "LayoutModel",
          "model_module_version": "2.0.0",
          "state": {
            "_model_module": "@jupyter-widgets/base",
            "_model_module_version": "2.0.0",
            "_model_name": "LayoutModel",
            "_view_count": null,
            "_view_module": "@jupyter-widgets/base",
            "_view_module_version": "2.0.0",
            "_view_name": "LayoutView",
            "align_content": null,
            "align_items": null,
            "align_self": null,
            "border_bottom": null,
            "border_left": null,
            "border_right": null,
            "border_top": null,
            "bottom": null,
            "display": "inline-flex",
            "flex": null,
            "flex_flow": "row wrap",
            "grid_area": null,
            "grid_auto_columns": null,
            "grid_auto_flow": null,
            "grid_auto_rows": null,
            "grid_column": null,
            "grid_gap": null,
            "grid_row": null,
            "grid_template_areas": null,
            "grid_template_columns": null,
            "grid_template_rows": null,
            "height": null,
            "justify_content": null,
            "justify_items": null,
            "left": null,
            "margin": null,
            "max_height": null,
            "max_width": null,
            "min_height": null,
            "min_width": null,
            "object_fit": null,
            "object_position": null,
            "order": null,
            "overflow": null,
            "padding": null,
            "right": null,
            "top": null,
            "visibility": "hidden",
            "width": "100%"
          }
        },
        "e2f15e722e354a21bf86fac58d1c85c8": {
          "model_module": "@jupyter-widgets/base",
          "model_name": "LayoutModel",
          "model_module_version": "2.0.0",
          "state": {
            "_model_module": "@jupyter-widgets/base",
            "_model_module_version": "2.0.0",
            "_model_name": "LayoutModel",
            "_view_count": null,
            "_view_module": "@jupyter-widgets/base",
            "_view_module_version": "2.0.0",
            "_view_name": "LayoutView",
            "align_content": null,
            "align_items": null,
            "align_self": null,
            "border_bottom": null,
            "border_left": null,
            "border_right": null,
            "border_top": null,
            "bottom": null,
            "display": null,
            "flex": null,
            "flex_flow": null,
            "grid_area": null,
            "grid_auto_columns": null,
            "grid_auto_flow": null,
            "grid_auto_rows": null,
            "grid_column": null,
            "grid_gap": null,
            "grid_row": null,
            "grid_template_areas": null,
            "grid_template_columns": null,
            "grid_template_rows": null,
            "height": null,
            "justify_content": null,
            "justify_items": null,
            "left": null,
            "margin": null,
            "max_height": null,
            "max_width": null,
            "min_height": null,
            "min_width": null,
            "object_fit": null,
            "object_position": null,
            "order": null,
            "overflow": null,
            "padding": null,
            "right": null,
            "top": null,
            "visibility": null,
            "width": null
          }
        },
        "591fe4c5e07a4e3d9cf56d9ce9244a33": {
          "model_module": "@jupyter-widgets/controls",
          "model_name": "HTMLStyleModel",
          "model_module_version": "2.0.0",
          "state": {
            "_model_module": "@jupyter-widgets/controls",
            "_model_module_version": "2.0.0",
            "_model_name": "HTMLStyleModel",
            "_view_count": null,
            "_view_module": "@jupyter-widgets/base",
            "_view_module_version": "2.0.0",
            "_view_name": "StyleView",
            "background": null,
            "description_width": "",
            "font_size": null,
            "text_color": null
          }
        },
        "24866d75bccd4d7094edb189ca322229": {
          "model_module": "@jupyter-widgets/base",
          "model_name": "LayoutModel",
          "model_module_version": "2.0.0",
          "state": {
            "_model_module": "@jupyter-widgets/base",
            "_model_module_version": "2.0.0",
            "_model_name": "LayoutModel",
            "_view_count": null,
            "_view_module": "@jupyter-widgets/base",
            "_view_module_version": "2.0.0",
            "_view_name": "LayoutView",
            "align_content": null,
            "align_items": null,
            "align_self": null,
            "border_bottom": null,
            "border_left": null,
            "border_right": null,
            "border_top": null,
            "bottom": null,
            "display": null,
            "flex": "2",
            "flex_flow": null,
            "grid_area": null,
            "grid_auto_columns": null,
            "grid_auto_flow": null,
            "grid_auto_rows": null,
            "grid_column": null,
            "grid_gap": null,
            "grid_row": null,
            "grid_template_areas": null,
            "grid_template_columns": null,
            "grid_template_rows": null,
            "height": null,
            "justify_content": null,
            "justify_items": null,
            "left": null,
            "margin": null,
            "max_height": null,
            "max_width": null,
            "min_height": null,
            "min_width": null,
            "object_fit": null,
            "object_position": null,
            "order": null,
            "overflow": null,
            "padding": null,
            "right": null,
            "top": null,
            "visibility": null,
            "width": null
          }
        },
        "6ef3e5b31026418e91d8ad383b8ae1c2": {
          "model_module": "@jupyter-widgets/controls",
          "model_name": "ProgressStyleModel",
          "model_module_version": "2.0.0",
          "state": {
            "_model_module": "@jupyter-widgets/controls",
            "_model_module_version": "2.0.0",
            "_model_name": "ProgressStyleModel",
            "_view_count": null,
            "_view_module": "@jupyter-widgets/base",
            "_view_module_version": "2.0.0",
            "_view_name": "StyleView",
            "bar_color": null,
            "description_width": ""
          }
        },
        "34bf77125ea243ab8fbcef4c6ef6926b": {
          "model_module": "@jupyter-widgets/base",
          "model_name": "LayoutModel",
          "model_module_version": "2.0.0",
          "state": {
            "_model_module": "@jupyter-widgets/base",
            "_model_module_version": "2.0.0",
            "_model_name": "LayoutModel",
            "_view_count": null,
            "_view_module": "@jupyter-widgets/base",
            "_view_module_version": "2.0.0",
            "_view_name": "LayoutView",
            "align_content": null,
            "align_items": null,
            "align_self": null,
            "border_bottom": null,
            "border_left": null,
            "border_right": null,
            "border_top": null,
            "bottom": null,
            "display": null,
            "flex": null,
            "flex_flow": null,
            "grid_area": null,
            "grid_auto_columns": null,
            "grid_auto_flow": null,
            "grid_auto_rows": null,
            "grid_column": null,
            "grid_gap": null,
            "grid_row": null,
            "grid_template_areas": null,
            "grid_template_columns": null,
            "grid_template_rows": null,
            "height": null,
            "justify_content": null,
            "justify_items": null,
            "left": null,
            "margin": null,
            "max_height": null,
            "max_width": null,
            "min_height": null,
            "min_width": null,
            "object_fit": null,
            "object_position": null,
            "order": null,
            "overflow": null,
            "padding": null,
            "right": null,
            "top": null,
            "visibility": null,
            "width": null
          }
        },
        "530fc61439144dfdafeb476edabdf9bb": {
          "model_module": "@jupyter-widgets/controls",
          "model_name": "HTMLStyleModel",
          "model_module_version": "2.0.0",
          "state": {
            "_model_module": "@jupyter-widgets/controls",
            "_model_module_version": "2.0.0",
            "_model_name": "HTMLStyleModel",
            "_view_count": null,
            "_view_module": "@jupyter-widgets/base",
            "_view_module_version": "2.0.0",
            "_view_name": "StyleView",
            "background": null,
            "description_width": "",
            "font_size": null,
            "text_color": null
          }
        },
        "dbd7f132969f45029beec3afc977c4df": {
          "model_module": "@jupyter-widgets/controls",
          "model_name": "HBoxModel",
          "model_module_version": "2.0.0",
          "state": {
            "_dom_classes": [],
            "_model_module": "@jupyter-widgets/controls",
            "_model_module_version": "2.0.0",
            "_model_name": "HBoxModel",
            "_view_count": null,
            "_view_module": "@jupyter-widgets/controls",
            "_view_module_version": "2.0.0",
            "_view_name": "HBoxView",
            "box_style": "",
            "children": [
              "IPY_MODEL_36692d0030ab422682cea5bcde0d8dd9",
              "IPY_MODEL_4ea0c7b4404e4f119b958742004792d6",
              "IPY_MODEL_27a6fd4ab9c84eb4a7483d70c6af28bb"
            ],
            "layout": "IPY_MODEL_f22480d212ba45d292fdf43798f59e8e",
            "tabbable": null,
            "tooltip": null
          }
        },
        "36692d0030ab422682cea5bcde0d8dd9": {
          "model_module": "@jupyter-widgets/controls",
          "model_name": "HTMLModel",
          "model_module_version": "2.0.0",
          "state": {
            "_dom_classes": [],
            "_model_module": "@jupyter-widgets/controls",
            "_model_module_version": "2.0.0",
            "_model_name": "HTMLModel",
            "_view_count": null,
            "_view_module": "@jupyter-widgets/controls",
            "_view_module_version": "2.0.0",
            "_view_name": "HTMLView",
            "description": "",
            "description_allow_html": false,
            "layout": "IPY_MODEL_917a25e38b564fc69b4a71fc65fe151d",
            "placeholder": "​",
            "style": "IPY_MODEL_26e8a97a90234ed1a965f422d46bcbe7",
            "tabbable": null,
            "tooltip": null,
            "value": "Validation DataLoader 0: 100%"
          }
        },
        "4ea0c7b4404e4f119b958742004792d6": {
          "model_module": "@jupyter-widgets/controls",
          "model_name": "FloatProgressModel",
          "model_module_version": "2.0.0",
          "state": {
            "_dom_classes": [],
            "_model_module": "@jupyter-widgets/controls",
            "_model_module_version": "2.0.0",
            "_model_name": "FloatProgressModel",
            "_view_count": null,
            "_view_module": "@jupyter-widgets/controls",
            "_view_module_version": "2.0.0",
            "_view_name": "ProgressView",
            "bar_style": "",
            "description": "",
            "description_allow_html": false,
            "layout": "IPY_MODEL_842632d175a44f76aa0b63ad6c34731f",
            "max": 4,
            "min": 0,
            "orientation": "horizontal",
            "style": "IPY_MODEL_b49607a2ab024087827edeef897215d7",
            "tabbable": null,
            "tooltip": null,
            "value": 4
          }
        },
        "27a6fd4ab9c84eb4a7483d70c6af28bb": {
          "model_module": "@jupyter-widgets/controls",
          "model_name": "HTMLModel",
          "model_module_version": "2.0.0",
          "state": {
            "_dom_classes": [],
            "_model_module": "@jupyter-widgets/controls",
            "_model_module_version": "2.0.0",
            "_model_name": "HTMLModel",
            "_view_count": null,
            "_view_module": "@jupyter-widgets/controls",
            "_view_module_version": "2.0.0",
            "_view_name": "HTMLView",
            "description": "",
            "description_allow_html": false,
            "layout": "IPY_MODEL_236edbc3e059477dbdfc44b57b464799",
            "placeholder": "​",
            "style": "IPY_MODEL_d25b8cd55cf34504ab01b92afbd39b91",
            "tabbable": null,
            "tooltip": null,
            "value": " 4/4 [00:00&lt;00:00, 11.00it/s]"
          }
        },
        "f22480d212ba45d292fdf43798f59e8e": {
          "model_module": "@jupyter-widgets/base",
          "model_name": "LayoutModel",
          "model_module_version": "2.0.0",
          "state": {
            "_model_module": "@jupyter-widgets/base",
            "_model_module_version": "2.0.0",
            "_model_name": "LayoutModel",
            "_view_count": null,
            "_view_module": "@jupyter-widgets/base",
            "_view_module_version": "2.0.0",
            "_view_name": "LayoutView",
            "align_content": null,
            "align_items": null,
            "align_self": null,
            "border_bottom": null,
            "border_left": null,
            "border_right": null,
            "border_top": null,
            "bottom": null,
            "display": "inline-flex",
            "flex": null,
            "flex_flow": "row wrap",
            "grid_area": null,
            "grid_auto_columns": null,
            "grid_auto_flow": null,
            "grid_auto_rows": null,
            "grid_column": null,
            "grid_gap": null,
            "grid_row": null,
            "grid_template_areas": null,
            "grid_template_columns": null,
            "grid_template_rows": null,
            "height": null,
            "justify_content": null,
            "justify_items": null,
            "left": null,
            "margin": null,
            "max_height": null,
            "max_width": null,
            "min_height": null,
            "min_width": null,
            "object_fit": null,
            "object_position": null,
            "order": null,
            "overflow": null,
            "padding": null,
            "right": null,
            "top": null,
            "visibility": "hidden",
            "width": "100%"
          }
        },
        "917a25e38b564fc69b4a71fc65fe151d": {
          "model_module": "@jupyter-widgets/base",
          "model_name": "LayoutModel",
          "model_module_version": "2.0.0",
          "state": {
            "_model_module": "@jupyter-widgets/base",
            "_model_module_version": "2.0.0",
            "_model_name": "LayoutModel",
            "_view_count": null,
            "_view_module": "@jupyter-widgets/base",
            "_view_module_version": "2.0.0",
            "_view_name": "LayoutView",
            "align_content": null,
            "align_items": null,
            "align_self": null,
            "border_bottom": null,
            "border_left": null,
            "border_right": null,
            "border_top": null,
            "bottom": null,
            "display": null,
            "flex": null,
            "flex_flow": null,
            "grid_area": null,
            "grid_auto_columns": null,
            "grid_auto_flow": null,
            "grid_auto_rows": null,
            "grid_column": null,
            "grid_gap": null,
            "grid_row": null,
            "grid_template_areas": null,
            "grid_template_columns": null,
            "grid_template_rows": null,
            "height": null,
            "justify_content": null,
            "justify_items": null,
            "left": null,
            "margin": null,
            "max_height": null,
            "max_width": null,
            "min_height": null,
            "min_width": null,
            "object_fit": null,
            "object_position": null,
            "order": null,
            "overflow": null,
            "padding": null,
            "right": null,
            "top": null,
            "visibility": null,
            "width": null
          }
        },
        "26e8a97a90234ed1a965f422d46bcbe7": {
          "model_module": "@jupyter-widgets/controls",
          "model_name": "HTMLStyleModel",
          "model_module_version": "2.0.0",
          "state": {
            "_model_module": "@jupyter-widgets/controls",
            "_model_module_version": "2.0.0",
            "_model_name": "HTMLStyleModel",
            "_view_count": null,
            "_view_module": "@jupyter-widgets/base",
            "_view_module_version": "2.0.0",
            "_view_name": "StyleView",
            "background": null,
            "description_width": "",
            "font_size": null,
            "text_color": null
          }
        },
        "842632d175a44f76aa0b63ad6c34731f": {
          "model_module": "@jupyter-widgets/base",
          "model_name": "LayoutModel",
          "model_module_version": "2.0.0",
          "state": {
            "_model_module": "@jupyter-widgets/base",
            "_model_module_version": "2.0.0",
            "_model_name": "LayoutModel",
            "_view_count": null,
            "_view_module": "@jupyter-widgets/base",
            "_view_module_version": "2.0.0",
            "_view_name": "LayoutView",
            "align_content": null,
            "align_items": null,
            "align_self": null,
            "border_bottom": null,
            "border_left": null,
            "border_right": null,
            "border_top": null,
            "bottom": null,
            "display": null,
            "flex": "2",
            "flex_flow": null,
            "grid_area": null,
            "grid_auto_columns": null,
            "grid_auto_flow": null,
            "grid_auto_rows": null,
            "grid_column": null,
            "grid_gap": null,
            "grid_row": null,
            "grid_template_areas": null,
            "grid_template_columns": null,
            "grid_template_rows": null,
            "height": null,
            "justify_content": null,
            "justify_items": null,
            "left": null,
            "margin": null,
            "max_height": null,
            "max_width": null,
            "min_height": null,
            "min_width": null,
            "object_fit": null,
            "object_position": null,
            "order": null,
            "overflow": null,
            "padding": null,
            "right": null,
            "top": null,
            "visibility": null,
            "width": null
          }
        },
        "b49607a2ab024087827edeef897215d7": {
          "model_module": "@jupyter-widgets/controls",
          "model_name": "ProgressStyleModel",
          "model_module_version": "2.0.0",
          "state": {
            "_model_module": "@jupyter-widgets/controls",
            "_model_module_version": "2.0.0",
            "_model_name": "ProgressStyleModel",
            "_view_count": null,
            "_view_module": "@jupyter-widgets/base",
            "_view_module_version": "2.0.0",
            "_view_name": "StyleView",
            "bar_color": null,
            "description_width": ""
          }
        },
        "236edbc3e059477dbdfc44b57b464799": {
          "model_module": "@jupyter-widgets/base",
          "model_name": "LayoutModel",
          "model_module_version": "2.0.0",
          "state": {
            "_model_module": "@jupyter-widgets/base",
            "_model_module_version": "2.0.0",
            "_model_name": "LayoutModel",
            "_view_count": null,
            "_view_module": "@jupyter-widgets/base",
            "_view_module_version": "2.0.0",
            "_view_name": "LayoutView",
            "align_content": null,
            "align_items": null,
            "align_self": null,
            "border_bottom": null,
            "border_left": null,
            "border_right": null,
            "border_top": null,
            "bottom": null,
            "display": null,
            "flex": null,
            "flex_flow": null,
            "grid_area": null,
            "grid_auto_columns": null,
            "grid_auto_flow": null,
            "grid_auto_rows": null,
            "grid_column": null,
            "grid_gap": null,
            "grid_row": null,
            "grid_template_areas": null,
            "grid_template_columns": null,
            "grid_template_rows": null,
            "height": null,
            "justify_content": null,
            "justify_items": null,
            "left": null,
            "margin": null,
            "max_height": null,
            "max_width": null,
            "min_height": null,
            "min_width": null,
            "object_fit": null,
            "object_position": null,
            "order": null,
            "overflow": null,
            "padding": null,
            "right": null,
            "top": null,
            "visibility": null,
            "width": null
          }
        },
        "d25b8cd55cf34504ab01b92afbd39b91": {
          "model_module": "@jupyter-widgets/controls",
          "model_name": "HTMLStyleModel",
          "model_module_version": "2.0.0",
          "state": {
            "_model_module": "@jupyter-widgets/controls",
            "_model_module_version": "2.0.0",
            "_model_name": "HTMLStyleModel",
            "_view_count": null,
            "_view_module": "@jupyter-widgets/base",
            "_view_module_version": "2.0.0",
            "_view_name": "StyleView",
            "background": null,
            "description_width": "",
            "font_size": null,
            "text_color": null
          }
        },
        "fcad6d5b950b4e539c1f5941ea6963b1": {
          "model_module": "@jupyter-widgets/controls",
          "model_name": "HBoxModel",
          "model_module_version": "2.0.0",
          "state": {
            "_dom_classes": [],
            "_model_module": "@jupyter-widgets/controls",
            "_model_module_version": "2.0.0",
            "_model_name": "HBoxModel",
            "_view_count": null,
            "_view_module": "@jupyter-widgets/controls",
            "_view_module_version": "2.0.0",
            "_view_name": "HBoxView",
            "box_style": "",
            "children": [
              "IPY_MODEL_26321d59ccd74c3fb096038aa666f949",
              "IPY_MODEL_f8c3a01819034fe0b379bdf45268ac93",
              "IPY_MODEL_159d6792df0f499c9b3ef4446b40c77e"
            ],
            "layout": "IPY_MODEL_7bef187b1dd04f8ab6e0b08aca8af810",
            "tabbable": null,
            "tooltip": null
          }
        },
        "26321d59ccd74c3fb096038aa666f949": {
          "model_module": "@jupyter-widgets/controls",
          "model_name": "HTMLModel",
          "model_module_version": "2.0.0",
          "state": {
            "_dom_classes": [],
            "_model_module": "@jupyter-widgets/controls",
            "_model_module_version": "2.0.0",
            "_model_name": "HTMLModel",
            "_view_count": null,
            "_view_module": "@jupyter-widgets/controls",
            "_view_module_version": "2.0.0",
            "_view_name": "HTMLView",
            "description": "",
            "description_allow_html": false,
            "layout": "IPY_MODEL_d8c60c68f0f847e19e9161b2aff78c30",
            "placeholder": "​",
            "style": "IPY_MODEL_f0da7647e1894807bbf94cbfcd870411",
            "tabbable": null,
            "tooltip": null,
            "value": "Validation DataLoader 0: 100%"
          }
        },
        "f8c3a01819034fe0b379bdf45268ac93": {
          "model_module": "@jupyter-widgets/controls",
          "model_name": "FloatProgressModel",
          "model_module_version": "2.0.0",
          "state": {
            "_dom_classes": [],
            "_model_module": "@jupyter-widgets/controls",
            "_model_module_version": "2.0.0",
            "_model_name": "FloatProgressModel",
            "_view_count": null,
            "_view_module": "@jupyter-widgets/controls",
            "_view_module_version": "2.0.0",
            "_view_name": "ProgressView",
            "bar_style": "",
            "description": "",
            "description_allow_html": false,
            "layout": "IPY_MODEL_08bc5eb1d49147bd927b65dc9a6f0420",
            "max": 4,
            "min": 0,
            "orientation": "horizontal",
            "style": "IPY_MODEL_c6d86aee394240239ea399308e013eb1",
            "tabbable": null,
            "tooltip": null,
            "value": 4
          }
        },
        "159d6792df0f499c9b3ef4446b40c77e": {
          "model_module": "@jupyter-widgets/controls",
          "model_name": "HTMLModel",
          "model_module_version": "2.0.0",
          "state": {
            "_dom_classes": [],
            "_model_module": "@jupyter-widgets/controls",
            "_model_module_version": "2.0.0",
            "_model_name": "HTMLModel",
            "_view_count": null,
            "_view_module": "@jupyter-widgets/controls",
            "_view_module_version": "2.0.0",
            "_view_name": "HTMLView",
            "description": "",
            "description_allow_html": false,
            "layout": "IPY_MODEL_6485d3ab614e49cbac1d5f1d507f01b0",
            "placeholder": "​",
            "style": "IPY_MODEL_058eef386aab4d2da372f90def954c39",
            "tabbable": null,
            "tooltip": null,
            "value": " 4/4 [00:00&lt;00:00, 11.53it/s]"
          }
        },
        "7bef187b1dd04f8ab6e0b08aca8af810": {
          "model_module": "@jupyter-widgets/base",
          "model_name": "LayoutModel",
          "model_module_version": "2.0.0",
          "state": {
            "_model_module": "@jupyter-widgets/base",
            "_model_module_version": "2.0.0",
            "_model_name": "LayoutModel",
            "_view_count": null,
            "_view_module": "@jupyter-widgets/base",
            "_view_module_version": "2.0.0",
            "_view_name": "LayoutView",
            "align_content": null,
            "align_items": null,
            "align_self": null,
            "border_bottom": null,
            "border_left": null,
            "border_right": null,
            "border_top": null,
            "bottom": null,
            "display": "inline-flex",
            "flex": null,
            "flex_flow": "row wrap",
            "grid_area": null,
            "grid_auto_columns": null,
            "grid_auto_flow": null,
            "grid_auto_rows": null,
            "grid_column": null,
            "grid_gap": null,
            "grid_row": null,
            "grid_template_areas": null,
            "grid_template_columns": null,
            "grid_template_rows": null,
            "height": null,
            "justify_content": null,
            "justify_items": null,
            "left": null,
            "margin": null,
            "max_height": null,
            "max_width": null,
            "min_height": null,
            "min_width": null,
            "object_fit": null,
            "object_position": null,
            "order": null,
            "overflow": null,
            "padding": null,
            "right": null,
            "top": null,
            "visibility": "hidden",
            "width": "100%"
          }
        },
        "d8c60c68f0f847e19e9161b2aff78c30": {
          "model_module": "@jupyter-widgets/base",
          "model_name": "LayoutModel",
          "model_module_version": "2.0.0",
          "state": {
            "_model_module": "@jupyter-widgets/base",
            "_model_module_version": "2.0.0",
            "_model_name": "LayoutModel",
            "_view_count": null,
            "_view_module": "@jupyter-widgets/base",
            "_view_module_version": "2.0.0",
            "_view_name": "LayoutView",
            "align_content": null,
            "align_items": null,
            "align_self": null,
            "border_bottom": null,
            "border_left": null,
            "border_right": null,
            "border_top": null,
            "bottom": null,
            "display": null,
            "flex": null,
            "flex_flow": null,
            "grid_area": null,
            "grid_auto_columns": null,
            "grid_auto_flow": null,
            "grid_auto_rows": null,
            "grid_column": null,
            "grid_gap": null,
            "grid_row": null,
            "grid_template_areas": null,
            "grid_template_columns": null,
            "grid_template_rows": null,
            "height": null,
            "justify_content": null,
            "justify_items": null,
            "left": null,
            "margin": null,
            "max_height": null,
            "max_width": null,
            "min_height": null,
            "min_width": null,
            "object_fit": null,
            "object_position": null,
            "order": null,
            "overflow": null,
            "padding": null,
            "right": null,
            "top": null,
            "visibility": null,
            "width": null
          }
        },
        "f0da7647e1894807bbf94cbfcd870411": {
          "model_module": "@jupyter-widgets/controls",
          "model_name": "HTMLStyleModel",
          "model_module_version": "2.0.0",
          "state": {
            "_model_module": "@jupyter-widgets/controls",
            "_model_module_version": "2.0.0",
            "_model_name": "HTMLStyleModel",
            "_view_count": null,
            "_view_module": "@jupyter-widgets/base",
            "_view_module_version": "2.0.0",
            "_view_name": "StyleView",
            "background": null,
            "description_width": "",
            "font_size": null,
            "text_color": null
          }
        },
        "08bc5eb1d49147bd927b65dc9a6f0420": {
          "model_module": "@jupyter-widgets/base",
          "model_name": "LayoutModel",
          "model_module_version": "2.0.0",
          "state": {
            "_model_module": "@jupyter-widgets/base",
            "_model_module_version": "2.0.0",
            "_model_name": "LayoutModel",
            "_view_count": null,
            "_view_module": "@jupyter-widgets/base",
            "_view_module_version": "2.0.0",
            "_view_name": "LayoutView",
            "align_content": null,
            "align_items": null,
            "align_self": null,
            "border_bottom": null,
            "border_left": null,
            "border_right": null,
            "border_top": null,
            "bottom": null,
            "display": null,
            "flex": "2",
            "flex_flow": null,
            "grid_area": null,
            "grid_auto_columns": null,
            "grid_auto_flow": null,
            "grid_auto_rows": null,
            "grid_column": null,
            "grid_gap": null,
            "grid_row": null,
            "grid_template_areas": null,
            "grid_template_columns": null,
            "grid_template_rows": null,
            "height": null,
            "justify_content": null,
            "justify_items": null,
            "left": null,
            "margin": null,
            "max_height": null,
            "max_width": null,
            "min_height": null,
            "min_width": null,
            "object_fit": null,
            "object_position": null,
            "order": null,
            "overflow": null,
            "padding": null,
            "right": null,
            "top": null,
            "visibility": null,
            "width": null
          }
        },
        "c6d86aee394240239ea399308e013eb1": {
          "model_module": "@jupyter-widgets/controls",
          "model_name": "ProgressStyleModel",
          "model_module_version": "2.0.0",
          "state": {
            "_model_module": "@jupyter-widgets/controls",
            "_model_module_version": "2.0.0",
            "_model_name": "ProgressStyleModel",
            "_view_count": null,
            "_view_module": "@jupyter-widgets/base",
            "_view_module_version": "2.0.0",
            "_view_name": "StyleView",
            "bar_color": null,
            "description_width": ""
          }
        },
        "6485d3ab614e49cbac1d5f1d507f01b0": {
          "model_module": "@jupyter-widgets/base",
          "model_name": "LayoutModel",
          "model_module_version": "2.0.0",
          "state": {
            "_model_module": "@jupyter-widgets/base",
            "_model_module_version": "2.0.0",
            "_model_name": "LayoutModel",
            "_view_count": null,
            "_view_module": "@jupyter-widgets/base",
            "_view_module_version": "2.0.0",
            "_view_name": "LayoutView",
            "align_content": null,
            "align_items": null,
            "align_self": null,
            "border_bottom": null,
            "border_left": null,
            "border_right": null,
            "border_top": null,
            "bottom": null,
            "display": null,
            "flex": null,
            "flex_flow": null,
            "grid_area": null,
            "grid_auto_columns": null,
            "grid_auto_flow": null,
            "grid_auto_rows": null,
            "grid_column": null,
            "grid_gap": null,
            "grid_row": null,
            "grid_template_areas": null,
            "grid_template_columns": null,
            "grid_template_rows": null,
            "height": null,
            "justify_content": null,
            "justify_items": null,
            "left": null,
            "margin": null,
            "max_height": null,
            "max_width": null,
            "min_height": null,
            "min_width": null,
            "object_fit": null,
            "object_position": null,
            "order": null,
            "overflow": null,
            "padding": null,
            "right": null,
            "top": null,
            "visibility": null,
            "width": null
          }
        },
        "058eef386aab4d2da372f90def954c39": {
          "model_module": "@jupyter-widgets/controls",
          "model_name": "HTMLStyleModel",
          "model_module_version": "2.0.0",
          "state": {
            "_model_module": "@jupyter-widgets/controls",
            "_model_module_version": "2.0.0",
            "_model_name": "HTMLStyleModel",
            "_view_count": null,
            "_view_module": "@jupyter-widgets/base",
            "_view_module_version": "2.0.0",
            "_view_name": "StyleView",
            "background": null,
            "description_width": "",
            "font_size": null,
            "text_color": null
          }
        },
        "6b249a53bd064bf0b7349eb4625ab22c": {
          "model_module": "@jupyter-widgets/controls",
          "model_name": "HBoxModel",
          "model_module_version": "2.0.0",
          "state": {
            "_dom_classes": [],
            "_model_module": "@jupyter-widgets/controls",
            "_model_module_version": "2.0.0",
            "_model_name": "HBoxModel",
            "_view_count": null,
            "_view_module": "@jupyter-widgets/controls",
            "_view_module_version": "2.0.0",
            "_view_name": "HBoxView",
            "box_style": "",
            "children": [
              "IPY_MODEL_c49ae099e77f48248f141cebdf5870c5",
              "IPY_MODEL_904497945fdf47ec8b9b31159d6339ff",
              "IPY_MODEL_7b83e52cbc3f4cfbb56c2d6fb825976c"
            ],
            "layout": "IPY_MODEL_199695fcf7784922aeb1cada87e06453",
            "tabbable": null,
            "tooltip": null
          }
        },
        "c49ae099e77f48248f141cebdf5870c5": {
          "model_module": "@jupyter-widgets/controls",
          "model_name": "HTMLModel",
          "model_module_version": "2.0.0",
          "state": {
            "_dom_classes": [],
            "_model_module": "@jupyter-widgets/controls",
            "_model_module_version": "2.0.0",
            "_model_name": "HTMLModel",
            "_view_count": null,
            "_view_module": "@jupyter-widgets/controls",
            "_view_module_version": "2.0.0",
            "_view_name": "HTMLView",
            "description": "",
            "description_allow_html": false,
            "layout": "IPY_MODEL_737d7e32dfed4a808309159bd417d9c5",
            "placeholder": "​",
            "style": "IPY_MODEL_283022617ff94bd18d933b4c404dfa37",
            "tabbable": null,
            "tooltip": null,
            "value": "Validation DataLoader 0: 100%"
          }
        },
        "904497945fdf47ec8b9b31159d6339ff": {
          "model_module": "@jupyter-widgets/controls",
          "model_name": "FloatProgressModel",
          "model_module_version": "2.0.0",
          "state": {
            "_dom_classes": [],
            "_model_module": "@jupyter-widgets/controls",
            "_model_module_version": "2.0.0",
            "_model_name": "FloatProgressModel",
            "_view_count": null,
            "_view_module": "@jupyter-widgets/controls",
            "_view_module_version": "2.0.0",
            "_view_name": "ProgressView",
            "bar_style": "",
            "description": "",
            "description_allow_html": false,
            "layout": "IPY_MODEL_0e191166fcb64a7d8435f201ce3125fd",
            "max": 4,
            "min": 0,
            "orientation": "horizontal",
            "style": "IPY_MODEL_0de8348c5341497db2b35be7bf7cb82a",
            "tabbable": null,
            "tooltip": null,
            "value": 4
          }
        },
        "7b83e52cbc3f4cfbb56c2d6fb825976c": {
          "model_module": "@jupyter-widgets/controls",
          "model_name": "HTMLModel",
          "model_module_version": "2.0.0",
          "state": {
            "_dom_classes": [],
            "_model_module": "@jupyter-widgets/controls",
            "_model_module_version": "2.0.0",
            "_model_name": "HTMLModel",
            "_view_count": null,
            "_view_module": "@jupyter-widgets/controls",
            "_view_module_version": "2.0.0",
            "_view_name": "HTMLView",
            "description": "",
            "description_allow_html": false,
            "layout": "IPY_MODEL_9871b7f8df1f4ad5a417aa16c02f790a",
            "placeholder": "​",
            "style": "IPY_MODEL_455c7e859c5e4f76a6834cde3f020ead",
            "tabbable": null,
            "tooltip": null,
            "value": " 4/4 [00:00&lt;00:00, 12.30it/s]"
          }
        },
        "199695fcf7784922aeb1cada87e06453": {
          "model_module": "@jupyter-widgets/base",
          "model_name": "LayoutModel",
          "model_module_version": "2.0.0",
          "state": {
            "_model_module": "@jupyter-widgets/base",
            "_model_module_version": "2.0.0",
            "_model_name": "LayoutModel",
            "_view_count": null,
            "_view_module": "@jupyter-widgets/base",
            "_view_module_version": "2.0.0",
            "_view_name": "LayoutView",
            "align_content": null,
            "align_items": null,
            "align_self": null,
            "border_bottom": null,
            "border_left": null,
            "border_right": null,
            "border_top": null,
            "bottom": null,
            "display": "inline-flex",
            "flex": null,
            "flex_flow": "row wrap",
            "grid_area": null,
            "grid_auto_columns": null,
            "grid_auto_flow": null,
            "grid_auto_rows": null,
            "grid_column": null,
            "grid_gap": null,
            "grid_row": null,
            "grid_template_areas": null,
            "grid_template_columns": null,
            "grid_template_rows": null,
            "height": null,
            "justify_content": null,
            "justify_items": null,
            "left": null,
            "margin": null,
            "max_height": null,
            "max_width": null,
            "min_height": null,
            "min_width": null,
            "object_fit": null,
            "object_position": null,
            "order": null,
            "overflow": null,
            "padding": null,
            "right": null,
            "top": null,
            "visibility": "hidden",
            "width": "100%"
          }
        },
        "737d7e32dfed4a808309159bd417d9c5": {
          "model_module": "@jupyter-widgets/base",
          "model_name": "LayoutModel",
          "model_module_version": "2.0.0",
          "state": {
            "_model_module": "@jupyter-widgets/base",
            "_model_module_version": "2.0.0",
            "_model_name": "LayoutModel",
            "_view_count": null,
            "_view_module": "@jupyter-widgets/base",
            "_view_module_version": "2.0.0",
            "_view_name": "LayoutView",
            "align_content": null,
            "align_items": null,
            "align_self": null,
            "border_bottom": null,
            "border_left": null,
            "border_right": null,
            "border_top": null,
            "bottom": null,
            "display": null,
            "flex": null,
            "flex_flow": null,
            "grid_area": null,
            "grid_auto_columns": null,
            "grid_auto_flow": null,
            "grid_auto_rows": null,
            "grid_column": null,
            "grid_gap": null,
            "grid_row": null,
            "grid_template_areas": null,
            "grid_template_columns": null,
            "grid_template_rows": null,
            "height": null,
            "justify_content": null,
            "justify_items": null,
            "left": null,
            "margin": null,
            "max_height": null,
            "max_width": null,
            "min_height": null,
            "min_width": null,
            "object_fit": null,
            "object_position": null,
            "order": null,
            "overflow": null,
            "padding": null,
            "right": null,
            "top": null,
            "visibility": null,
            "width": null
          }
        },
        "283022617ff94bd18d933b4c404dfa37": {
          "model_module": "@jupyter-widgets/controls",
          "model_name": "HTMLStyleModel",
          "model_module_version": "2.0.0",
          "state": {
            "_model_module": "@jupyter-widgets/controls",
            "_model_module_version": "2.0.0",
            "_model_name": "HTMLStyleModel",
            "_view_count": null,
            "_view_module": "@jupyter-widgets/base",
            "_view_module_version": "2.0.0",
            "_view_name": "StyleView",
            "background": null,
            "description_width": "",
            "font_size": null,
            "text_color": null
          }
        },
        "0e191166fcb64a7d8435f201ce3125fd": {
          "model_module": "@jupyter-widgets/base",
          "model_name": "LayoutModel",
          "model_module_version": "2.0.0",
          "state": {
            "_model_module": "@jupyter-widgets/base",
            "_model_module_version": "2.0.0",
            "_model_name": "LayoutModel",
            "_view_count": null,
            "_view_module": "@jupyter-widgets/base",
            "_view_module_version": "2.0.0",
            "_view_name": "LayoutView",
            "align_content": null,
            "align_items": null,
            "align_self": null,
            "border_bottom": null,
            "border_left": null,
            "border_right": null,
            "border_top": null,
            "bottom": null,
            "display": null,
            "flex": "2",
            "flex_flow": null,
            "grid_area": null,
            "grid_auto_columns": null,
            "grid_auto_flow": null,
            "grid_auto_rows": null,
            "grid_column": null,
            "grid_gap": null,
            "grid_row": null,
            "grid_template_areas": null,
            "grid_template_columns": null,
            "grid_template_rows": null,
            "height": null,
            "justify_content": null,
            "justify_items": null,
            "left": null,
            "margin": null,
            "max_height": null,
            "max_width": null,
            "min_height": null,
            "min_width": null,
            "object_fit": null,
            "object_position": null,
            "order": null,
            "overflow": null,
            "padding": null,
            "right": null,
            "top": null,
            "visibility": null,
            "width": null
          }
        },
        "0de8348c5341497db2b35be7bf7cb82a": {
          "model_module": "@jupyter-widgets/controls",
          "model_name": "ProgressStyleModel",
          "model_module_version": "2.0.0",
          "state": {
            "_model_module": "@jupyter-widgets/controls",
            "_model_module_version": "2.0.0",
            "_model_name": "ProgressStyleModel",
            "_view_count": null,
            "_view_module": "@jupyter-widgets/base",
            "_view_module_version": "2.0.0",
            "_view_name": "StyleView",
            "bar_color": null,
            "description_width": ""
          }
        },
        "9871b7f8df1f4ad5a417aa16c02f790a": {
          "model_module": "@jupyter-widgets/base",
          "model_name": "LayoutModel",
          "model_module_version": "2.0.0",
          "state": {
            "_model_module": "@jupyter-widgets/base",
            "_model_module_version": "2.0.0",
            "_model_name": "LayoutModel",
            "_view_count": null,
            "_view_module": "@jupyter-widgets/base",
            "_view_module_version": "2.0.0",
            "_view_name": "LayoutView",
            "align_content": null,
            "align_items": null,
            "align_self": null,
            "border_bottom": null,
            "border_left": null,
            "border_right": null,
            "border_top": null,
            "bottom": null,
            "display": null,
            "flex": null,
            "flex_flow": null,
            "grid_area": null,
            "grid_auto_columns": null,
            "grid_auto_flow": null,
            "grid_auto_rows": null,
            "grid_column": null,
            "grid_gap": null,
            "grid_row": null,
            "grid_template_areas": null,
            "grid_template_columns": null,
            "grid_template_rows": null,
            "height": null,
            "justify_content": null,
            "justify_items": null,
            "left": null,
            "margin": null,
            "max_height": null,
            "max_width": null,
            "min_height": null,
            "min_width": null,
            "object_fit": null,
            "object_position": null,
            "order": null,
            "overflow": null,
            "padding": null,
            "right": null,
            "top": null,
            "visibility": null,
            "width": null
          }
        },
        "455c7e859c5e4f76a6834cde3f020ead": {
          "model_module": "@jupyter-widgets/controls",
          "model_name": "HTMLStyleModel",
          "model_module_version": "2.0.0",
          "state": {
            "_model_module": "@jupyter-widgets/controls",
            "_model_module_version": "2.0.0",
            "_model_name": "HTMLStyleModel",
            "_view_count": null,
            "_view_module": "@jupyter-widgets/base",
            "_view_module_version": "2.0.0",
            "_view_name": "StyleView",
            "background": null,
            "description_width": "",
            "font_size": null,
            "text_color": null
          }
        }
      }
    }
  },
  "nbformat": 4,
  "nbformat_minor": 0
}